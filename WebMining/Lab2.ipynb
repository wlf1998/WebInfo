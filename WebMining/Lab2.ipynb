{
 "cells": [
  {
   "cell_type": "markdown",
   "metadata": {},
   "source": [
    "# Part I "
   ]
  },
  {
   "cell_type": "markdown",
   "metadata": {},
   "source": [
    "[Gas sensors for home activity monitoring Data Set](https://archive.ics.uci.edu/ml/datasets/Gas+sensors+for+home+activity+monitoring)\n",
    "\n",
    "\n",
    "[KNN](https://github.com/eriklindernoren/ML-From-Scratch/blob/master/mlfromscratch/supervised_learning/k_nearest_neighbors.py)\n",
    "\n",
    "[ML-From-Scratch Logistic Regression](https://github.com/eriklindernoren/ML-From-Scratch/blob/master/mlfromscratch/supervised_learning/logistic_regression.py)\n",
    "\n",
    "[Numpy LR](https://blog.goodaudience.com/logistic-regression-from-scratch-in-numpy-5841c09e425f)"
   ]
  },
  {
   "cell_type": "markdown",
   "metadata": {},
   "source": [
    "## Preprocessing"
   ]
  },
  {
   "cell_type": "code",
   "execution_count": 1,
   "metadata": {},
   "outputs": [],
   "source": [
    "import numpy as np"
   ]
  },
  {
   "cell_type": "code",
   "execution_count": 380,
   "metadata": {},
   "outputs": [],
   "source": [
    "metadata=np.loadtxt(\"./data/HT_Sensor_UCIsubmission/HT_Sensor_metadata.dat\",skiprows=1,dtype=str)"
   ]
  },
  {
   "cell_type": "code",
   "execution_count": 3,
   "metadata": {},
   "outputs": [],
   "source": [
    "metadata[metadata[:,2]==\"background\",2]=2\n",
    "metadata[metadata[:,2]==\"banana\",2]=0\n",
    "metadata[metadata[:,2]==\"wine\",2]=1\n",
    "\n",
    "metadata=np.array(metadata[:,[0,2,3,4]],dtype=float)"
   ]
  },
  {
   "cell_type": "code",
   "execution_count": 4,
   "metadata": {
    "scrolled": true
   },
   "outputs": [],
   "source": [
    "dataset = np.loadtxt('./data/HT_Sensor_UCIsubmission/HT_Sensor_dataset.dat', skiprows=1)\n",
    "datasetID=np.array(dataset[:,0],dtype=int)"
   ]
  },
  {
   "cell_type": "code",
   "execution_count": 5,
   "metadata": {},
   "outputs": [],
   "source": [
    "# 仅仅挑选ID为banana与wine的\n",
    "# 以及时间恰好有这两者存在的时间区间\n",
    "selected = np.logical_and(metadata[datasetID,1]!=2,dataset[:,1]>0,dataset[:,1]<metadata[datasetID,3])\n",
    "data=dataset[selected]\n",
    "dataID=np.array(data[:,0],dtype=int)\n",
    "data[:,0]=metadata[dataID,1]\n",
    "\n",
    "#混淆in-place\n",
    "np.random.shuffle(data)\n",
    "#归一化\n",
    "dataID=np.array(data[:,0],dtype=int)\n",
    "data=(data-data.mean(axis=0))/data.std(axis=0)\n",
    "data[:,0]=dataID\n",
    "np.save(\"./data/HT_Sensor_UCIsubmission/data.npy\",data)"
   ]
  },
  {
   "cell_type": "markdown",
   "metadata": {},
   "source": [
    "## KNN"
   ]
  },
  {
   "cell_type": "code",
   "execution_count": 6,
   "metadata": {},
   "outputs": [],
   "source": [
    "import numpy as np\n",
    "from collections import Counter"
   ]
  },
  {
   "cell_type": "code",
   "execution_count": 207,
   "metadata": {},
   "outputs": [
    {
     "name": "stdout",
     "output_type": "stream",
     "text": [
      "(208227, 8) (208227,) (208228, 8) (208228,) (416455, 12)\n"
     ]
    }
   ],
   "source": [
    "data=np.load(\"./data/HT_Sensor_UCIsubmission/data.npy\")\n",
    "test_size=data.shape[0]//2\n",
    "#分割train test 10%\n",
    "X_test=data[:test_size,2:10]\n",
    "y_test=data[:test_size,0].astype('int')\n",
    "\n",
    "X_train=data[test_size:,2:10]\n",
    "y_train=data[test_size:,0].astype('int')\n",
    "\n",
    "print(X_test.shape,y_test.shape,X_train.shape,y_train.shape,data.shape)"
   ]
  },
  {
   "cell_type": "code",
   "execution_count": 151,
   "metadata": {},
   "outputs": [],
   "source": [
    "class KNN():\n",
    "    def __init__(self, k=5):\n",
    "        self.k = k\n",
    "\n",
    "    def predict(self, X_test, X_train, y_train):\n",
    "        y_pred=np.empty(X_test.shape[0],dtype=int)\n",
    "        for i,X in enumerate(X_test):\n",
    "            if i%100 ==0:\n",
    "                print(i)\n",
    "            y_pred[i]=np.bincount(y_train[np.argsort(np.linalg.norm(X-X_train,axis=1))[:self.k]]).argmax()\n",
    "        return y_pred"
   ]
  },
  {
   "cell_type": "code",
   "execution_count": 152,
   "metadata": {
    "scrolled": true
   },
   "outputs": [
    {
     "name": "stdout",
     "output_type": "stream",
     "text": [
      "0\n",
      "100\n",
      "200\n",
      "300\n",
      "400\n",
      "500\n",
      "600\n",
      "700\n",
      "800\n",
      "900\n",
      "1000\n",
      "1100\n",
      "1200\n",
      "1300\n",
      "1400\n",
      "1500\n",
      "1600\n",
      "1700\n",
      "1800\n",
      "1900\n",
      "2000\n",
      "2100\n",
      "2200\n",
      "2300\n",
      "2400\n",
      "2500\n",
      "2600\n",
      "2700\n",
      "2800\n",
      "2900\n",
      "3000\n",
      "3100\n",
      "3200\n",
      "3300\n",
      "3400\n",
      "3500\n",
      "3600\n",
      "3700\n",
      "3800\n",
      "3900\n",
      "4000\n",
      "4100\n",
      "4200\n",
      "4300\n",
      "4400\n",
      "4500\n",
      "4600\n",
      "4700\n",
      "4800\n",
      "4900\n",
      "5000\n",
      "5100\n",
      "5200\n",
      "5300\n",
      "5400\n",
      "5500\n",
      "5600\n",
      "5700\n",
      "5800\n",
      "5900\n",
      "6000\n",
      "6100\n",
      "6200\n",
      "6300\n",
      "6400\n",
      "6500\n",
      "6600\n",
      "6700\n",
      "6800\n",
      "6900\n",
      "7000\n",
      "7100\n",
      "7200\n",
      "7300\n",
      "7400\n",
      "7500\n",
      "7600\n",
      "7700\n",
      "7800\n",
      "7900\n",
      "8000\n",
      "8100\n",
      "8200\n",
      "8300\n",
      "8400\n",
      "8500\n",
      "8600\n",
      "8700\n",
      "8800\n",
      "8900\n",
      "9000\n",
      "9100\n",
      "9200\n",
      "9300\n",
      "9400\n",
      "9500\n",
      "9600\n",
      "9700\n",
      "9800\n",
      "9900\n",
      "10000\n",
      "10100\n",
      "10200\n",
      "10300\n",
      "10400\n",
      "10500\n",
      "10600\n",
      "10700\n",
      "10800\n",
      "10900\n",
      "11000\n",
      "11100\n",
      "11200\n",
      "11300\n",
      "11400\n",
      "11500\n",
      "11600\n",
      "11700\n",
      "11800\n",
      "11900\n",
      "12000\n",
      "12100\n",
      "12200\n",
      "12300\n",
      "12400\n",
      "12500\n",
      "12600\n",
      "12700\n",
      "12800\n",
      "12900\n",
      "13000\n",
      "13100\n",
      "13200\n",
      "13300\n",
      "13400\n",
      "13500\n",
      "13600\n",
      "13700\n",
      "13800\n",
      "13900\n",
      "14000\n",
      "14100\n",
      "14200\n",
      "14300\n",
      "14400\n",
      "14500\n",
      "14600\n",
      "14700\n",
      "14800\n",
      "14900\n",
      "15000\n",
      "15100\n",
      "15200\n",
      "15300\n",
      "15400\n",
      "15500\n",
      "15600\n",
      "15700\n",
      "15800\n",
      "15900\n",
      "16000\n",
      "16100\n",
      "16200\n",
      "16300\n",
      "16400\n",
      "16500\n",
      "16600\n",
      "16700\n",
      "16800\n",
      "16900\n",
      "17000\n",
      "17100\n",
      "17200\n",
      "17300\n",
      "17400\n",
      "17500\n",
      "17600\n",
      "17700\n",
      "17800\n",
      "17900\n",
      "18000\n",
      "18100\n",
      "18200\n",
      "18300\n",
      "18400\n",
      "18500\n",
      "18600\n",
      "18700\n",
      "18800\n",
      "18900\n",
      "19000\n",
      "19100\n",
      "19200\n",
      "19300\n",
      "19400\n",
      "19500\n",
      "19600\n",
      "19700\n",
      "19800\n",
      "19900\n",
      "20000\n",
      "20100\n",
      "20200\n",
      "20300\n",
      "20400\n",
      "20500\n",
      "20600\n",
      "20700\n",
      "20800\n",
      "20900\n",
      "21000\n",
      "21100\n",
      "21200\n",
      "21300\n",
      "21400\n",
      "21500\n",
      "21600\n",
      "21700\n",
      "21800\n",
      "21900\n",
      "22000\n",
      "22100\n",
      "22200\n",
      "22300\n",
      "22400\n",
      "22500\n",
      "22600\n",
      "22700\n",
      "22800\n",
      "22900\n",
      "23000\n",
      "23100\n",
      "23200\n",
      "23300\n",
      "23400\n",
      "23500\n",
      "23600\n",
      "23700\n",
      "23800\n",
      "23900\n",
      "24000\n",
      "24100\n",
      "24200\n",
      "24300\n",
      "24400\n",
      "24500\n",
      "24600\n",
      "24700\n",
      "24800\n",
      "24900\n",
      "25000\n",
      "25100\n",
      "25200\n",
      "25300\n",
      "25400\n",
      "25500\n",
      "25600\n",
      "25700\n",
      "25800\n",
      "25900\n",
      "26000\n",
      "26100\n",
      "26200\n",
      "26300\n",
      "26400\n",
      "26500\n",
      "26600\n",
      "26700\n",
      "26800\n",
      "26900\n",
      "27000\n",
      "27100\n",
      "27200\n",
      "27300\n",
      "27400\n",
      "27500\n",
      "27600\n",
      "27700\n",
      "27800\n",
      "27900\n",
      "28000\n",
      "28100\n",
      "28200\n",
      "28300\n",
      "28400\n",
      "28500\n",
      "28600\n",
      "28700\n",
      "28800\n",
      "28900\n",
      "29000\n",
      "29100\n",
      "29200\n",
      "29300\n",
      "29400\n",
      "29500\n",
      "29600\n",
      "29700\n",
      "29800\n",
      "29900\n",
      "30000\n",
      "30100\n",
      "30200\n",
      "30300\n",
      "30400\n",
      "30500\n",
      "30600\n",
      "30700\n",
      "30800\n",
      "30900\n",
      "31000\n",
      "31100\n",
      "31200\n",
      "31300\n",
      "31400\n",
      "31500\n",
      "31600\n",
      "31700\n",
      "31800\n",
      "31900\n",
      "32000\n",
      "32100\n",
      "32200\n",
      "32300\n",
      "32400\n",
      "32500\n",
      "32600\n",
      "32700\n",
      "32800\n",
      "32900\n",
      "33000\n",
      "33100\n",
      "33200\n",
      "33300\n",
      "33400\n",
      "33500\n",
      "33600\n",
      "33700\n",
      "33800\n",
      "33900\n",
      "34000\n",
      "34100\n",
      "34200\n",
      "34300\n",
      "34400\n",
      "34500\n",
      "34600\n",
      "34700\n",
      "34800\n",
      "34900\n",
      "35000\n",
      "35100\n",
      "35200\n",
      "35300\n",
      "35400\n",
      "35500\n",
      "35600\n",
      "35700\n",
      "35800\n",
      "35900\n",
      "36000\n",
      "36100\n",
      "36200\n",
      "36300\n",
      "36400\n",
      "36500\n",
      "36600\n",
      "36700\n",
      "36800\n",
      "36900\n",
      "37000\n",
      "37100\n",
      "37200\n",
      "37300\n",
      "37400\n",
      "37500\n",
      "37600\n",
      "37700\n",
      "37800\n",
      "37900\n",
      "38000\n",
      "38100\n",
      "38200\n",
      "38300\n",
      "38400\n",
      "38500\n",
      "38600\n",
      "38700\n",
      "38800\n",
      "38900\n",
      "39000\n",
      "39100\n",
      "39200\n",
      "39300\n",
      "39400\n",
      "39500\n",
      "39600\n",
      "39700\n",
      "39800\n",
      "39900\n",
      "40000\n",
      "40100\n",
      "40200\n",
      "40300\n",
      "40400\n",
      "40500\n",
      "40600\n",
      "40700\n",
      "40800\n",
      "40900\n",
      "41000\n",
      "41100\n",
      "41200\n",
      "41300\n",
      "41400\n",
      "41500\n",
      "41600\n"
     ]
    }
   ],
   "source": [
    "model=KNN(1)\n",
    "y_pred=model.predict(X_test[:],X_train[:],y_train)"
   ]
  },
  {
   "cell_type": "code",
   "execution_count": 155,
   "metadata": {},
   "outputs": [
    {
     "data": {
      "text/plain": [
       "[(True, 41638), (False, 7)]"
      ]
     },
     "execution_count": 155,
     "metadata": {},
     "output_type": "execute_result"
    }
   ],
   "source": [
    "result=Counter(np.equal(y_pred[:],y_test[:])).most_common()\n",
    "result"
   ]
  },
  {
   "cell_type": "markdown",
   "metadata": {
    "scrolled": true
   },
   "source": [
    "```python\n",
    "result=Counter(np.equal(y_pred[:],y_test[:])).most_common()\n",
    "result\n",
    "```\n",
    "```python\n",
    "[(True, 41638), (False, 7)]\n",
    "```"
   ]
  },
  {
   "cell_type": "markdown",
   "metadata": {},
   "source": [
    "## Logistic Regression"
   ]
  },
  {
   "cell_type": "code",
   "execution_count": 73,
   "metadata": {},
   "outputs": [],
   "source": [
    "import numpy as np\n",
    "from collections import Counter\n",
    "import math"
   ]
  },
  {
   "cell_type": "code",
   "execution_count": 74,
   "metadata": {},
   "outputs": [
    {
     "name": "stdout",
     "output_type": "stream",
     "text": [
      "(41645, 8) (41645,) (374810, 8) (374810,) (416455, 12)\n"
     ]
    }
   ],
   "source": [
    "data=np.load(\"./data/HT_Sensor_UCIsubmission/data.npy\")\n",
    "test_size=data.shape[0]//10\n",
    "#分割train test 10%\n",
    "X_test=data[:test_size,2:10]\n",
    "y_test=data[:test_size,0].astype('int')\n",
    "\n",
    "X_train=data[test_size:,2:10]\n",
    "y_train=data[test_size:,0].astype('int')\n",
    "\n",
    "print(X_test.shape,y_test.shape,X_train.shape,y_train.shape,data.shape)"
   ]
  },
  {
   "cell_type": "code",
   "execution_count": 77,
   "metadata": {},
   "outputs": [],
   "source": [
    "LOSS=[]\n",
    "class LogisticRegression():\n",
    "    def __init__(self,lr=0.1):\n",
    "        self.lr=lr\n",
    "        \n",
    "    def sigmoid(self,Z):\n",
    "        return 1/(1+np.exp(-Z))\n",
    "    \n",
    "    def loss(self,y,y_hat):\n",
    "        return -np.mean(y * np.log(y_hat)+(1-y)*np.log(1-y_hat))\n",
    "    \n",
    "    def fit(self,X_train,y_train,epochs=5000):\n",
    "        limit=1/math.sqrt(X_train.shape[1])\n",
    "        self.W=np.random.uniform(-limit,limit,(X_train.shape[1],))\n",
    "        \n",
    "        for i in range(epochs):\n",
    "            y_hat=self.sigmoid(X_train @ self.W)\n",
    "            self.W -= self.lr * (X_train.T @ (y_hat - y_train) / y_train.shape[0])\n",
    "            temp_loss=self.loss(y_train,y_hat)\n",
    "            LOSS.append((i,temp_loss))\n",
    "            if i %100 ==0:\n",
    "                print(i,temp_loss)\n",
    "                \n",
    "    def predict(self,X_test):\n",
    "        y_pred=self.sigmoid(X_test @ self.W)>0.5\n",
    "        return y_pred.astype('int')"
   ]
  },
  {
   "cell_type": "code",
   "execution_count": 78,
   "metadata": {
    "scrolled": true
   },
   "outputs": [
    {
     "name": "stdout",
     "output_type": "stream",
     "text": [
      "0 0.6892937625690148\n",
      "100 0.5705850194091441\n",
      "200 0.568840731312909\n",
      "300 0.5685419181145815\n",
      "400 0.5684229031447733\n",
      "500 0.5683513179944791\n",
      "600 0.5683028854088324\n",
      "700 0.5682690208158084\n",
      "800 0.5682450245670334\n",
      "900 0.568227890254225\n",
      "1000 0.5682155928792081\n",
      "1100 0.5682067354200419\n",
      "1200 0.5682003395516986\n",
      "1300 0.5681957129462307\n",
      "1400 0.5681923619703815\n",
      "1500 0.5681899327563505\n",
      "1600 0.5681881706475592\n",
      "1700 0.568186891878356\n",
      "1800 0.5681859635797617\n",
      "1900 0.5681852895494186\n",
      "2000 0.5681848000645129\n",
      "2100 0.5681844445581338\n",
      "2200 0.5681841863382391\n",
      "2300 0.5681839987712994\n",
      "2400 0.5681838625201528\n",
      "2500 0.5681837635426814\n",
      "2600 0.5681836916406194\n",
      "2700 0.568183639406697\n",
      "2800 0.5681836014604813\n",
      "2900 0.5681835738936037\n",
      "3000 0.5681835538669194\n",
      "3100 0.5681835393179492\n",
      "3200 0.5681835287483935\n",
      "3300 0.5681835210697914\n",
      "3400 0.5681835154914094\n",
      "3500 0.5681835114387987\n",
      "3600 0.5681835084946353\n",
      "3700 0.5681835063557417\n",
      "3800 0.5681835048018641\n",
      "3900 0.5681835036729925\n",
      "4000 0.5681835028528821\n",
      "4100 0.5681835022570824\n",
      "4200 0.5681835018242412\n",
      "4300 0.5681835015097876\n",
      "4400 0.568183501281341\n",
      "4500 0.5681835011153772\n",
      "4600 0.5681835009948067\n",
      "4700 0.5681835009072136\n",
      "4800 0.5681835008435783\n",
      "4900 0.568183500797348\n"
     ]
    }
   ],
   "source": [
    "model=LogisticRegression(0.25)\n",
    "model.fit(X_train,y_train,5000)\n",
    "y_pred=model.predict(X_test)"
   ]
  },
  {
   "cell_type": "code",
   "execution_count": 64,
   "metadata": {},
   "outputs": [
    {
     "data": {
      "text/plain": [
       "[(True, 28829), (False, 12816)]"
      ]
     },
     "execution_count": 64,
     "metadata": {},
     "output_type": "execute_result"
    }
   ],
   "source": [
    "Counter(y_pred == y_test).most_common()"
   ]
  },
  {
   "cell_type": "code",
   "execution_count": 1,
   "metadata": {},
   "outputs": [
    {
     "data": {
      "text/plain": [
       "0.6922559731060152"
      ]
     },
     "execution_count": 1,
     "metadata": {},
     "output_type": "execute_result"
    }
   ],
   "source": [
    "28829/(28829+12816)"
   ]
  },
  {
   "cell_type": "code",
   "execution_count": 89,
   "metadata": {},
   "outputs": [
    {
     "data": {
      "image/png": "[encoded data removed]",
      "text/plain": [
       "<Figure size 432x288 with 1 Axes>"
      ]
     },
     "metadata": {
      "needs_background": "light"
     },
     "output_type": "display_data"
    }
   ],
   "source": [
    "import matplotlib.pyplot as plt\n",
    "%matplotlib inline\n",
    "plt.figure(1)\n",
    "plt.plot([i[0] for i in LOSS],[i[1] for i in LOSS],'r')\n",
    "plt.title(\"Logistic Regression Loss\")\n",
    "plt.grid(True)\n",
    "plt.ylabel(\"Loss\")\n",
    "plt.xlabel(\"Epoches\")\n",
    "plt.savefig(\"./graph/PartI-LR.png\",dpi=1000)\n",
    "plt.show()"
   ]
  },
  {
   "cell_type": "markdown",
   "metadata": {},
   "source": [
    "# Part I-Again"
   ]
  },
  {
   "cell_type": "markdown",
   "metadata": {},
   "source": [
    "## Preprocessing"
   ]
  },
  {
   "cell_type": "markdown",
   "metadata": {},
   "source": [
    "[Electrical Grid Stability Simulated Data Data Set ](https://archive.ics.uci.edu/ml/datasets/Electrical+Grid+Stability+Simulated+Data+)"
   ]
  },
  {
   "cell_type": "code",
   "execution_count": 154,
   "metadata": {},
   "outputs": [],
   "source": [
    "import numpy as ny\n",
    "from collections import Counter\n",
    "import matplotlib.pyplot as plt\n",
    "%matplotlib inline"
   ]
  },
  {
   "cell_type": "code",
   "execution_count": 132,
   "metadata": {},
   "outputs": [],
   "source": [
    "data=np.loadtxt(\"./data/PartI/Data_for_UCI_named.csv\",delimiter=\",\",skiprows=1,dtype=str)\n",
    "#\"tau1\",\"tau2\",\"tau3\",\"tau4\",\"p1\",\"p2\",\"p3\",\"p4\",\"g1\",\"g2\",\"g3\",\"g4\",\"stab\",\"stabf\"\n",
    "#0       1      2       3     4    5    6    7    8     9   10   11   12     13\n",
    "\n",
    "data=data[:,[0,1,2,3,5,6,7,8,9,10,11,12]].copy()\n",
    "#\"tau1\",\"tau2\",\"tau3\",\"tau4\",\"p2\",\"p3\",\"p4\",\"g1\",\"g2\",\"g3\",\"g4\",\"stab\",\n",
    "#   0     1     2      3      4    5    6    7    8    9    10   11"
   ]
  },
  {
   "cell_type": "code",
   "execution_count": 133,
   "metadata": {},
   "outputs": [],
   "source": [
    "#随机化\n",
    "np.random.shuffle(data)\n",
    "X=data[:,:11].copy().astype(\"float\")\n",
    "y=data[:,11].astype(\"float\")>0\n",
    "X=(X-X.mean(axis=0))/X.std(axis=0)\n",
    "\n",
    "np.save(\"./data/PartI/X.npy\",X)\n",
    "np.save(\"./data/PartI/y.npy\",y)"
   ]
  },
  {
   "cell_type": "markdown",
   "metadata": {},
   "source": [
    "## KNN"
   ]
  },
  {
   "cell_type": "code",
   "execution_count": 137,
   "metadata": {},
   "outputs": [
    {
     "name": "stdout",
     "output_type": "stream",
     "text": [
      "(1000, 11) (1000,) (9000, 11) (9000,)\n"
     ]
    }
   ],
   "source": [
    "X=np.load(\"./data/PartI/X.npy\")\n",
    "y=np.load(\"./data/PartI/y.npy\")\n",
    "\n",
    "test_size=X.shape[0]//10\n",
    "#分割train test 10%\n",
    "X_test=X[:test_size]\n",
    "y_test=y[:test_size]\n",
    "\n",
    "X_train=X[test_size:]\n",
    "y_train=y[test_size:]\n",
    "\n",
    "print(X_test.shape,y_test.shape,X_train.shape,y_train.shape)"
   ]
  },
  {
   "cell_type": "code",
   "execution_count": 143,
   "metadata": {},
   "outputs": [],
   "source": [
    "class KNN():\n",
    "    def __init__(self, k=5):\n",
    "        self.k = k\n",
    "\n",
    "    def predict(self, X_test, X_train, y_train):\n",
    "        y_pred=np.empty(X_test.shape[0],dtype=int)\n",
    "        for i,X in enumerate(X_test):\n",
    "            if i%100 ==0:\n",
    "                print(i)\n",
    "            y_pred[i]=np.bincount(y_train[np.argsort(np.linalg.norm(X-X_train,axis=1))[:self.k]]).argmax()\n",
    "        return y_pred"
   ]
  },
  {
   "cell_type": "code",
   "execution_count": 147,
   "metadata": {
    "scrolled": true
   },
   "outputs": [
    {
     "name": "stdout",
     "output_type": "stream",
     "text": [
      "0\n",
      "100\n",
      "200\n",
      "300\n",
      "400\n",
      "500\n",
      "600\n",
      "700\n",
      "800\n",
      "900\n"
     ]
    }
   ],
   "source": [
    "model=KNN(3)\n",
    "y_pred=model.predict(X_test[:],X_train[:],y_train)"
   ]
  },
  {
   "cell_type": "code",
   "execution_count": 148,
   "metadata": {},
   "outputs": [
    {
     "data": {
      "text/plain": [
       "[(True, 802), (False, 198)]"
      ]
     },
     "execution_count": 148,
     "metadata": {},
     "output_type": "execute_result"
    }
   ],
   "source": [
    "result=Counter(np.equal(y_pred[:],y_test[:])).most_common()\n",
    "result"
   ]
  },
  {
   "cell_type": "code",
   "execution_count": 152,
   "metadata": {
    "scrolled": true
   },
   "outputs": [
    {
     "name": "stdout",
     "output_type": "stream",
     "text": [
      "0\n",
      "100\n",
      "200\n",
      "300\n",
      "400\n",
      "500\n",
      "600\n",
      "700\n",
      "800\n",
      "900\n",
      "1 \t [(True, 831), (False, 169)]\n",
      "0\n",
      "100\n",
      "200\n",
      "300\n",
      "400\n",
      "500\n",
      "600\n",
      "700\n",
      "800\n",
      "900\n",
      "3 \t [(True, 856), (False, 144)]\n",
      "0\n",
      "100\n",
      "200\n",
      "300\n",
      "400\n",
      "500\n",
      "600\n",
      "700\n",
      "800\n",
      "900\n",
      "5 \t [(True, 854), (False, 146)]\n",
      "0\n",
      "100\n",
      "200\n",
      "300\n",
      "400\n",
      "500\n",
      "600\n",
      "700\n",
      "800\n",
      "900\n",
      "7 \t [(True, 861), (False, 139)]\n",
      "0\n",
      "100\n",
      "200\n",
      "300\n",
      "400\n",
      "500\n",
      "600\n",
      "700\n",
      "800\n",
      "900\n",
      "9 \t [(True, 870), (False, 130)]\n",
      "0\n",
      "100\n",
      "200\n",
      "300\n",
      "400\n",
      "500\n",
      "600\n",
      "700\n",
      "800\n",
      "900\n",
      "11 \t [(True, 868), (False, 132)]\n",
      "0\n",
      "100\n",
      "200\n",
      "300\n",
      "400\n",
      "500\n",
      "600\n",
      "700\n",
      "800\n",
      "900\n",
      "13 \t [(True, 876), (False, 124)]\n",
      "0\n",
      "100\n",
      "200\n",
      "300\n",
      "400\n",
      "500\n",
      "600\n",
      "700\n",
      "800\n",
      "900\n",
      "15 \t [(True, 878), (False, 122)]\n",
      "0\n",
      "100\n",
      "200\n",
      "300\n",
      "400\n",
      "500\n",
      "600\n",
      "700\n",
      "800\n",
      "900\n",
      "17 \t [(True, 874), (False, 126)]\n",
      "0\n",
      "100\n",
      "200\n",
      "300\n",
      "400\n",
      "500\n",
      "600\n",
      "700\n",
      "800\n",
      "900\n",
      "19 \t [(True, 880), (False, 120)]\n",
      "0\n",
      "100\n",
      "200\n",
      "300\n",
      "400\n",
      "500\n",
      "600\n",
      "700\n",
      "800\n",
      "900\n",
      "21 \t [(True, 875), (False, 125)]\n",
      "0\n",
      "100\n",
      "200\n",
      "300\n",
      "400\n",
      "500\n",
      "600\n",
      "700\n",
      "800\n",
      "900\n",
      "23 \t [(True, 876), (False, 124)]\n",
      "0\n",
      "100\n",
      "200\n",
      "300\n",
      "400\n",
      "500\n",
      "600\n",
      "700\n",
      "800\n",
      "900\n",
      "25 \t [(True, 876), (False, 124)]\n",
      "0\n",
      "100\n",
      "200\n",
      "300\n",
      "400\n",
      "500\n",
      "600\n",
      "700\n",
      "800\n",
      "900\n",
      "27 \t [(True, 876), (False, 124)]\n",
      "0\n",
      "100\n",
      "200\n",
      "300\n",
      "400\n",
      "500\n",
      "600\n",
      "700\n",
      "800\n",
      "900\n",
      "29 \t [(True, 880), (False, 120)]\n",
      "0\n",
      "100\n",
      "200\n",
      "300\n",
      "400\n",
      "500\n",
      "600\n",
      "700\n",
      "800\n",
      "900\n",
      "31 \t [(True, 875), (False, 125)]\n",
      "0\n",
      "100\n",
      "200\n",
      "300\n",
      "400\n",
      "500\n",
      "600\n",
      "700\n",
      "800\n",
      "900\n",
      "33 \t [(True, 879), (False, 121)]\n",
      "0\n",
      "100\n",
      "200\n",
      "300\n",
      "400\n",
      "500\n",
      "600\n",
      "700\n",
      "800\n",
      "900\n",
      "35 \t [(True, 875), (False, 125)]\n",
      "0\n",
      "100\n",
      "200\n",
      "300\n",
      "400\n",
      "500\n",
      "600\n",
      "700\n",
      "800\n",
      "900\n",
      "37 \t [(True, 876), (False, 124)]\n",
      "0\n",
      "100\n",
      "200\n",
      "300\n",
      "400\n",
      "500\n",
      "600\n",
      "700\n",
      "800\n",
      "900\n",
      "39 \t [(True, 873), (False, 127)]\n",
      "0\n",
      "100\n",
      "200\n",
      "300\n",
      "400\n",
      "500\n",
      "600\n",
      "700\n",
      "800\n",
      "900\n",
      "41 \t [(True, 868), (False, 132)]\n",
      "0\n",
      "100\n",
      "200\n",
      "300\n",
      "400\n",
      "500\n",
      "600\n",
      "700\n",
      "800\n",
      "900\n",
      "43 \t [(True, 866), (False, 134)]\n",
      "0\n",
      "100\n",
      "200\n",
      "300\n",
      "400\n",
      "500\n",
      "600\n",
      "700\n",
      "800\n",
      "900\n",
      "45 \t [(True, 862), (False, 138)]\n",
      "0\n",
      "100\n",
      "200\n",
      "300\n",
      "400\n",
      "500\n",
      "600\n",
      "700\n",
      "800\n",
      "900\n",
      "47 \t [(True, 871), (False, 129)]\n",
      "0\n",
      "100\n",
      "200\n",
      "300\n",
      "400\n",
      "500\n",
      "600\n",
      "700\n",
      "800\n",
      "900\n",
      "49 \t [(True, 864), (False, 136)]\n",
      "0\n",
      "100\n",
      "200\n",
      "300\n",
      "400\n",
      "500\n",
      "600\n",
      "700\n",
      "800\n",
      "900\n",
      "51 \t [(True, 860), (False, 140)]\n"
     ]
    }
   ],
   "source": [
    "result=[]\n",
    "for i in range(1,52,2):\n",
    "    model=KNN(i)\n",
    "    y_pred=model.predict(X_test[:],X_train[:],y_train)\n",
    "    temp_result=Counter(np.equal(y_pred[:],y_test[:])).most_common()\n",
    "    print(i,\"\\t\",temp_result)\n",
    "    result.append(temp_result)"
   ]
  },
  {
   "cell_type": "code",
   "execution_count": 171,
   "metadata": {},
   "outputs": [
    {
     "data": {
      "image/png": "[encoded data removed]",
      "text/plain": [
       "<Figure size 432x288 with 1 Axes>"
      ]
     },
     "metadata": {
      "needs_background": "light"
     },
     "output_type": "display_data"
    }
   ],
   "source": [
    "plt.figure(1)\n",
    "plt.plot(range(1,52,2),[i[0][1]/1000 for i in result],'r')\n",
    "#plt.plot(range(1,52,2),[i[1][1]for i in result],'g')\n",
    "plt.title(\"KNN Precision of K\")\n",
    "plt.ylabel(\"Precision\")\n",
    "plt.xlabel(\"K\")\n",
    "plt.grid(True)\n",
    "plt.savefig(\"./graph/PartI/KNN_Precision.png\",dpi=1000)\n",
    "plt.show()"
   ]
  },
  {
   "cell_type": "markdown",
   "metadata": {},
   "source": [
    "## Logistic Regression"
   ]
  },
  {
   "cell_type": "code",
   "execution_count": 137,
   "metadata": {},
   "outputs": [
    {
     "name": "stdout",
     "output_type": "stream",
     "text": [
      "(1000, 11) (1000,) (9000, 11) (9000,)\n"
     ]
    }
   ],
   "source": [
    "X=np.load(\"./data/PartI/X.npy\")\n",
    "y=np.load(\"./data/PartI/y.npy\")\n",
    "\n",
    "test_size=X.shape[0]//10\n",
    "#分割train test 10%\n",
    "X_test=X[:test_size]\n",
    "y_test=y[:test_size]\n",
    "\n",
    "X_train=X[test_size:]\n",
    "y_train=y[test_size:]\n",
    "\n",
    "print(X_test.shape,y_test.shape,X_train.shape,y_train.shape)"
   ]
  },
  {
   "cell_type": "code",
   "execution_count": 167,
   "metadata": {},
   "outputs": [],
   "source": [
    "LOSS=[]\n",
    "class LogisticRegression():\n",
    "    def __init__(self,lr=0.1):\n",
    "        self.lr=lr\n",
    "        \n",
    "    def sigmoid(self,Z):\n",
    "        return 1/(1+np.exp(-Z))\n",
    "    \n",
    "    def loss(self,y,y_hat):\n",
    "        return -np.mean(y * np.log(y_hat)+(1-y)*np.log(1-y_hat))\n",
    "    \n",
    "    def fit(self,X_train,y_train,epochs=5000):\n",
    "        limit=1/math.sqrt(X_train.shape[1])\n",
    "        self.W=np.random.uniform(-limit,limit,(X_train.shape[1],))\n",
    "        \n",
    "        for i in range(epochs):\n",
    "            y_hat=self.sigmoid(X_train @ self.W)\n",
    "            self.W -= self.lr * (X_train.T @ (y_hat - y_train) / y_train.shape[0])\n",
    "            temp_loss=self.loss(y_train,y_hat)\n",
    "            LOSS.append((i,temp_loss))\n",
    "            if i %100 ==0:\n",
    "                print(i,temp_loss)\n",
    "                \n",
    "    def predict(self,X_test):\n",
    "        y_pred=self.sigmoid(X_test @ self.W)>0.5\n",
    "        return y_pred.astype('bool')"
   ]
  },
  {
   "cell_type": "code",
   "execution_count": 168,
   "metadata": {
    "scrolled": true
   },
   "outputs": [
    {
     "name": "stdout",
     "output_type": "stream",
     "text": [
      "0 0.7591379852744624\n",
      "100 0.45900001355575204\n",
      "200 0.4575137570672679\n",
      "300 0.4574620064510612\n",
      "400 0.45745987452653064\n",
      "500 0.4574597839064089\n",
      "600 0.457459780029938\n",
      "700 0.4574597798638962\n",
      "800 0.4574597798567822\n",
      "900 0.45745977985647734\n",
      "1000 0.4574597798564643\n",
      "1100 0.4574597798564637\n",
      "1200 0.4574597798564637\n",
      "1300 0.4574597798564637\n",
      "1400 0.4574597798564637\n",
      "1500 0.4574597798564637\n",
      "1600 0.4574597798564638\n",
      "1700 0.4574597798564638\n",
      "1800 0.4574597798564637\n",
      "1900 0.4574597798564638\n",
      "2000 0.4574597798564637\n",
      "2100 0.4574597798564638\n",
      "2200 0.4574597798564638\n",
      "2300 0.4574597798564638\n",
      "2400 0.4574597798564638\n",
      "2500 0.4574597798564638\n",
      "2600 0.4574597798564638\n",
      "2700 0.4574597798564638\n",
      "2800 0.4574597798564638\n",
      "2900 0.4574597798564638\n",
      "3000 0.4574597798564638\n",
      "3100 0.4574597798564638\n",
      "3200 0.4574597798564638\n",
      "3300 0.4574597798564638\n",
      "3400 0.4574597798564638\n",
      "3500 0.4574597798564638\n",
      "3600 0.4574597798564638\n",
      "3700 0.4574597798564638\n",
      "3800 0.4574597798564638\n",
      "3900 0.4574597798564638\n",
      "4000 0.4574597798564638\n",
      "4100 0.4574597798564638\n",
      "4200 0.4574597798564638\n",
      "4300 0.4574597798564638\n",
      "4400 0.4574597798564638\n",
      "4500 0.4574597798564638\n",
      "4600 0.4574597798564638\n",
      "4700 0.4574597798564638\n",
      "4800 0.4574597798564638\n",
      "4900 0.4574597798564638\n"
     ]
    }
   ],
   "source": [
    "model=LogisticRegression(0.25)\n",
    "model.fit(X_train,y_train,5000)\n",
    "y_pred=model.predict(X_test)"
   ]
  },
  {
   "cell_type": "code",
   "execution_count": 169,
   "metadata": {},
   "outputs": [
    {
     "data": {
      "text/plain": [
       "[(True, 762), (False, 238)]"
      ]
     },
     "execution_count": 169,
     "metadata": {},
     "output_type": "execute_result"
    }
   ],
   "source": [
    "Counter(y_pred == y_test).most_common()"
   ]
  },
  {
   "cell_type": "code",
   "execution_count": 170,
   "metadata": {},
   "outputs": [
    {
     "data": {
      "image/png": "[encoded data removed]",
      "text/plain": [
       "<Figure size 432x288 with 1 Axes>"
      ]
     },
     "metadata": {
      "needs_background": "light"
     },
     "output_type": "display_data"
    }
   ],
   "source": [
    "plt.figure(1)\n",
    "plt.plot([i[0] for i in LOSS],[i[1] for i in LOSS],'r')\n",
    "plt.title(\"Logistic Regression Loss\")\n",
    "plt.grid(True)\n",
    "plt.ylabel(\"Loss\")\n",
    "plt.xlabel(\"Epoches\")\n",
    "plt.savefig(\"./graph/PartI/LR.png\",dpi=1000)\n",
    "plt.show()"
   ]
  },
  {
   "cell_type": "markdown",
   "metadata": {},
   "source": [
    "# Part II-1"
   ]
  },
  {
   "cell_type": "code",
   "execution_count": 2,
   "metadata": {},
   "outputs": [],
   "source": [
    "import numpy as np"
   ]
  },
  {
   "cell_type": "code",
   "execution_count": 3,
   "metadata": {},
   "outputs": [],
   "source": [
    "ratings=np.loadtxt(\"./data/ml-1m/ratings.dat\",delimiter=\"::\",dtype=int)"
   ]
  },
  {
   "cell_type": "code",
   "execution_count": 4,
   "metadata": {},
   "outputs": [],
   "source": [
    "user_num=6040\n",
    "movie_num=3952\n",
    "rating_matrix=np.zeros((6040+1,3952+1))\n",
    "for r in ratings:\n",
    "    rating_matrix[r[0],r[1]]=r[2] #rating_matrix[userID,movieID]"
   ]
  },
  {
   "cell_type": "code",
   "execution_count": 5,
   "metadata": {},
   "outputs": [
    {
     "name": "stdout",
     "output_type": "stream",
     "text": [
      "(6041, 3953) (604, 395) (6041, 3953)\n"
     ]
    }
   ],
   "source": [
    "# 分割为train & test\n",
    "train_matrix=rating_matrix.copy()\n",
    "test_user_size=rating_matrix.shape[0]//10\n",
    "test_movie_size=rating_matrix.shape[1]//10\n",
    "\n",
    "train_matrix[:test_user_size,:test_movie_size]=0\n",
    "\n",
    "test_matrix=rating_matrix[:test_user_size,:test_movie_size].copy()\n",
    "\n",
    "print(train_matrix.shape,test_matrix.shape,rating_matrix.shape)"
   ]
  },
  {
   "cell_type": "markdown",
   "metadata": {},
   "source": [
    "## Content-Based"
   ]
  },
  {
   "cell_type": "code",
   "execution_count": 6,
   "metadata": {
    "scrolled": true
   },
   "outputs": [
    {
     "name": "stdout",
     "output_type": "stream",
     "text": [
      "0\n",
      "100\n",
      "200\n",
      "300\n",
      "400\n",
      "500\n",
      "600\n"
     ]
    }
   ],
   "source": [
    "#需要用到上面的数据\n",
    "user_profile=np.zeros((test_user_size,user_num+1))\n",
    "for i in range(test_user_size):\n",
    "    user_profile[i]=np.sum(train_matrix*train_matrix[i],axis=1)\n",
    "    if i%100==0:\n",
    "        print(i)"
   ]
  },
  {
   "cell_type": "code",
   "execution_count": 7,
   "metadata": {},
   "outputs": [],
   "source": [
    "cb_pred=np.zeros((test_user_size,test_movie_size))\n",
    "for i in range(1,test_user_size):\n",
    "    for j in range(1,test_movie_size):\n",
    "        norm=np.linalg.norm(train_matrix[:,j])*np.linalg.norm(user_profile[i])\n",
    "        if norm == 0:\n",
    "            cb_pred[i,j]=0\n",
    "        else:\n",
    "            cb_pred[i,j]=((train_matrix[:,j]@user_profile[i])/(norm))*5"
   ]
  },
  {
   "cell_type": "code",
   "execution_count": 149,
   "metadata": {},
   "outputs": [],
   "source": [
    "#result_matrix=np.zeros((test_user_size,test_movie_size))\n",
    "#result_matrix2=np.zeros((test_user_size,test_movie_size))\n",
    "#for i in range(test_user_size):\n",
    "#    for j in range(test_movie_size):\n",
    "#        if test_matrix[i,j]!=0:\n",
    "#            result_matrix[i,j]=cb_pred[i,j]-test_matrix[i,j]\n",
    "\n",
    "result_matrix2=cb_pred.copy()\n",
    "result_matrix2[test_matrix==0]=0\n",
    "result_matrix=result_matrix2-test_matrix"
   ]
  },
  {
   "cell_type": "markdown",
   "metadata": {},
   "source": [
    "$$\n",
    "RMSE=\\sqrt{\\frac{1}{n}\\sum_{j=1}^n (y_j-\\bar{y}_j)^2}\n",
    "$$"
   ]
  },
  {
   "cell_type": "code",
   "execution_count": 150,
   "metadata": {
    "scrolled": false
   },
   "outputs": [
    {
     "data": {
      "text/plain": [
       "0.016676901400536383"
      ]
     },
     "execution_count": 150,
     "metadata": {},
     "output_type": "execute_result"
    }
   ],
   "source": [
    "#RMSE\n",
    "np.linalg.norm(result_matrix)/np.count_nonzero(test_matrix)"
   ]
  },
  {
   "cell_type": "markdown",
   "metadata": {},
   "source": [
    "$$\n",
    "MAE=\\frac{1}{n}\\sum_{j=1}^n|y_j-\\bar{y}_j|\n",
    "$$"
   ]
  },
  {
   "cell_type": "code",
   "execution_count": 151,
   "metadata": {},
   "outputs": [
    {
     "data": {
      "text/plain": [
       "1.4344089529739494"
      ]
     },
     "execution_count": 151,
     "metadata": {},
     "output_type": "execute_result"
    }
   ],
   "source": [
    "#MAE\n",
    "np.sum(np.absolute(result_matrix))/np.count_nonzero(test_matrix)"
   ]
  },
  {
   "cell_type": "code",
   "execution_count": 154,
   "metadata": {},
   "outputs": [
    {
     "name": "stdout",
     "output_type": "stream",
     "text": [
      "0.4870860927152318 0.49628879892037786\n"
     ]
    }
   ],
   "source": [
    "N=10 #TopN\n",
    "recommend_rate=3\n",
    "pred=np.argsort(result_matrix2,axis=1)[:,-N:]\n",
    "#truth=np.argsort(test_matrix,axis=1)[:,-N:]\n",
    "\n",
    "Total_Right=0\n",
    "index=np.arange(test_movie_size)\n",
    "for i in range(test_user_size):\n",
    "    #Total_Right+=np.intersect1d(pred[i],truth[i]).shape[0]\n",
    "    \n",
    "    Total_Right+=np.intersect1d(pred[i],index[test_matrix[i]>recommend_rate]).shape[0]\n",
    "    \n",
    "precision=Total_Right/(N*test_user_size)\n",
    "recall=Total_Right/test_matrix[test_matrix>recommend_rate].shape[0]\n",
    "\n",
    "print(precision,recall)"
   ]
  },
  {
   "cell_type": "code",
   "execution_count": 155,
   "metadata": {},
   "outputs": [],
   "source": [
    "def Pred_of_N(N):\n",
    "    recommend_rate=3\n",
    "    pred=np.argsort(result_matrix2,axis=1)[:,-N:]\n",
    "    #truth=np.argsort(test_matrix,axis=1)[:,-N:]\n",
    "\n",
    "    Total_Right=0\n",
    "    index=np.arange(test_movie_size)\n",
    "    for i in range(test_user_size):\n",
    "        #Total_Right+=np.intersect1d(pred[i],truth[i]).shape[0]\n",
    "\n",
    "        Total_Right+=np.intersect1d(pred[i],index[test_matrix[i]>recommend_rate]).shape[0]\n",
    "\n",
    "    precision=Total_Right/(N*test_user_size)\n",
    "    recall=Total_Right/test_matrix[test_matrix>recommend_rate].shape[0]\n",
    "    \n",
    "    return precision,recall"
   ]
  },
  {
   "cell_type": "code",
   "execution_count": 156,
   "metadata": {},
   "outputs": [],
   "source": [
    "PR=[Pred_of_N(N) for N in range(1,50)]"
   ]
  },
  {
   "cell_type": "code",
   "execution_count": 174,
   "metadata": {},
   "outputs": [
    {
     "data": {
      "image/png": "[encoded data removed]",
      "text/plain": [
       "<Figure size 432x288 with 1 Axes>"
      ]
     },
     "metadata": {
      "needs_background": "light"
     },
     "output_type": "display_data"
    }
   ],
   "source": [
    "plt.figure(1)\n",
    "plt.plot(range(1,50),[i[0] for i in PR],label=\"Precision\",color=\"g\")\n",
    "plt.plot(range(1,50),[i[1] for i in PR],label=\"Recall\",color=\"r\")\n",
    "plt.plot(range(1,50),[2*(i[0]*i[1])/(i[0]+i[1]) for i in PR],label=\"F1\",color=\"y\")\n",
    "plt.title(\"Content-Based P/R/F1\")\n",
    "plt.xlabel(\"N\")\n",
    "plt.ylabel(\"Ratio\")\n",
    "plt.grid(True)\n",
    "plt.legend()\n",
    "plt.savefig(\"./graph/Content_based-PRF1_of_N.png\")\n",
    "plt.show()"
   ]
  },
  {
   "cell_type": "markdown",
   "metadata": {},
   "source": [
    "## Collaborative Filtering"
   ]
  },
  {
   "cell_type": "code",
   "execution_count": 99,
   "metadata": {},
   "outputs": [
    {
     "name": "stdout",
     "output_type": "stream",
     "text": [
      "(6041, 3953) (604, 395) (6041, 3953)\n"
     ]
    }
   ],
   "source": [
    "#需要用到上面的数据\n",
    "print(train_matrix.shape,test_matrix.shape,rating_matrix.shape)"
   ]
  },
  {
   "cell_type": "code",
   "execution_count": 104,
   "metadata": {},
   "outputs": [],
   "source": [
    "movie_sim=np.zeros((movie_num+1,movie_num+1))\n",
    "movie_bar=np.zeros(movie_num+1)"
   ]
  },
  {
   "cell_type": "code",
   "execution_count": 7,
   "metadata": {
    "scrolled": true
   },
   "outputs": [
    {
     "name": "stdout",
     "output_type": "stream",
     "text": [
      "1\n",
      "2\n",
      "3\n",
      "4\n",
      "5\n",
      "6\n",
      "7\n",
      "8\n",
      "9\n",
      "10\n",
      "11\n"
     ]
    },
    {
     "ename": "KeyboardInterrupt",
     "evalue": "",
     "output_type": "error",
     "traceback": [
      "\u001b[0;31m---------------------------------------------------------------------------\u001b[0m",
      "\u001b[0;31mKeyboardInterrupt\u001b[0m                         Traceback (most recent call last)",
      "\u001b[0;32m<ipython-input-7-6a81c3179533>\u001b[0m in \u001b[0;36m<module>\u001b[0;34m\u001b[0m\n\u001b[1;32m     20\u001b[0m         \u001b[0mrri\u001b[0m\u001b[0;34m=\u001b[0m\u001b[0mnp\u001b[0m\u001b[0;34m.\u001b[0m\u001b[0mzeros\u001b[0m\u001b[0;34m(\u001b[0m\u001b[0muser_num\u001b[0m\u001b[0;34m+\u001b[0m\u001b[0;36m1\u001b[0m\u001b[0;34m)\u001b[0m\u001b[0;34m\u001b[0m\u001b[0;34m\u001b[0m\u001b[0m\n\u001b[1;32m     21\u001b[0m         \u001b[0mrrj\u001b[0m\u001b[0;34m=\u001b[0m\u001b[0mnp\u001b[0m\u001b[0;34m.\u001b[0m\u001b[0mzeros\u001b[0m\u001b[0;34m(\u001b[0m\u001b[0muser_num\u001b[0m\u001b[0;34m+\u001b[0m\u001b[0;36m1\u001b[0m\u001b[0;34m)\u001b[0m\u001b[0;34m\u001b[0m\u001b[0;34m\u001b[0m\u001b[0m\n\u001b[0;32m---> 22\u001b[0;31m         \u001b[0mselected\u001b[0m\u001b[0;34m=\u001b[0m\u001b[0mnp\u001b[0m\u001b[0;34m.\u001b[0m\u001b[0mlogical_and\u001b[0m\u001b[0;34m(\u001b[0m\u001b[0mri\u001b[0m\u001b[0;34m,\u001b[0m\u001b[0mrj\u001b[0m\u001b[0;34m)\u001b[0m\u001b[0;34m\u001b[0m\u001b[0;34m\u001b[0m\u001b[0m\n\u001b[0m\u001b[1;32m     23\u001b[0m         \u001b[0mrri\u001b[0m\u001b[0;34m[\u001b[0m\u001b[0mselected\u001b[0m\u001b[0;34m]\u001b[0m\u001b[0;34m=\u001b[0m\u001b[0mri\u001b[0m\u001b[0;34m[\u001b[0m\u001b[0mselected\u001b[0m\u001b[0;34m]\u001b[0m\u001b[0;34m-\u001b[0m\u001b[0mmovie_bar\u001b[0m\u001b[0;34m[\u001b[0m\u001b[0mi\u001b[0m\u001b[0;34m]\u001b[0m\u001b[0;34m\u001b[0m\u001b[0;34m\u001b[0m\u001b[0m\n\u001b[1;32m     24\u001b[0m         \u001b[0mrrj\u001b[0m\u001b[0;34m[\u001b[0m\u001b[0mselected\u001b[0m\u001b[0;34m]\u001b[0m\u001b[0;34m=\u001b[0m\u001b[0mrj\u001b[0m\u001b[0;34m[\u001b[0m\u001b[0mselected\u001b[0m\u001b[0;34m]\u001b[0m\u001b[0;34m-\u001b[0m\u001b[0mmovie_bar\u001b[0m\u001b[0;34m[\u001b[0m\u001b[0mj\u001b[0m\u001b[0;34m]\u001b[0m\u001b[0;34m\u001b[0m\u001b[0;34m\u001b[0m\u001b[0m\n",
      "\u001b[0;31mKeyboardInterrupt\u001b[0m: "
     ]
    }
   ],
   "source": [
    "#无需重新运行\n",
    "#item相似性 movie[i,j]表示电影i,j的相似性\n",
    "for i in range(movie_num+1):\n",
    "    ri=train_matrix[:,i]\n",
    "    nonzero=np.count_nonzero(ri)\n",
    "    if nonzero!=0:\n",
    "        movie_bar[i]=ri.sum()/nonzero\n",
    "\n",
    "\n",
    "for i in range(1,movie_num+1):\n",
    "    print(i)\n",
    "    for j in range(1,movie_num+1):\n",
    "        if i>j:\n",
    "            movie_sim[i,j]=movie_sim[j,i]\n",
    "            continue\n",
    "        ri=train_matrix[:,i]\n",
    "        rj=train_matrix[:,j]\n",
    "        \n",
    "        rri=np.zeros(user_num+1)\n",
    "        rrj=np.zeros(user_num+1)\n",
    "        selected=np.logical_and(ri,rj)\n",
    "        rri[selected]=ri[selected]-movie_bar[i]\n",
    "        rrj[selected]=rj[selected]-movie_bar[j]\n",
    "        \n",
    "        norm=np.linalg.norm(rri)*np.linalg.norm(rrj)\n",
    "        if norm==0:\n",
    "            movie_sim[i,j]=0\n",
    "        else:\n",
    "            movie_sim[i,j]=(rri@rrj)/(norm)\n",
    "\n",
    "np.save(\"./data/ml-1m/movie_sim.npy\",movie_sim)"
   ]
  },
  {
   "cell_type": "code",
   "execution_count": 105,
   "metadata": {},
   "outputs": [],
   "source": [
    "movie_sim=np.load(\"./data/ml-1m/movie_sim.npy\")\n",
    "user_bar=np.zeros(user_num+1)\n",
    "for i in range(user_num+1):\n",
    "    ri=train_matrix[i]\n",
    "    nonzero=np.count_nonzero(ri)\n",
    "    if nonzero!=0:\n",
    "        user_bar[i]=ri.sum()/nonzero"
   ]
  },
  {
   "cell_type": "code",
   "execution_count": 106,
   "metadata": {},
   "outputs": [],
   "source": [
    "miu=train_matrix.sum()/np.count_nonzero(train_matrix)\n",
    "bxi=user_bar.reshape(user_num+1,1)+movie_bar-miu"
   ]
  },
  {
   "cell_type": "code",
   "execution_count": 108,
   "metadata": {
    "scrolled": true
   },
   "outputs": [
    {
     "name": "stdout",
     "output_type": "stream",
     "text": [
      "100\n",
      "200\n",
      "300\n",
      "400\n",
      "500\n",
      "600\n"
     ]
    }
   ],
   "source": [
    "k=5\n",
    "cf_pred=np.zeros((test_user_size,test_movie_size))\n",
    "\n",
    "for x in range(1,test_user_size):\n",
    "    if x%100==0:\n",
    "        print(x)\n",
    "    for i in range(1,test_movie_size):\n",
    "        index=np.arange(movie_num+1)[train_matrix[x].astype(\"bool\")]\n",
    "        Nix=index[np.argsort(movie_sim[i,train_matrix[x].astype(\"bool\")])[-k:]]\n",
    "        \n",
    "        sumij=movie_sim[i,Nix].sum()\n",
    "        if sumij!=0:\n",
    "            cf_pred[x,i]=bxi[x,i]+(movie_sim[i,Nix]@(train_matrix[x,Nix]-bxi[x,Nix]))/sumij"
   ]
  },
  {
   "cell_type": "code",
   "execution_count": 164,
   "metadata": {},
   "outputs": [],
   "source": [
    "#result_matrix=np.zeros((test_user_size,test_movie_size))\n",
    "#for i in range(test_user_size):\n",
    "#    for j in range(test_movie_size):\n",
    "#        if test_matrix[i,j]!=0:\n",
    "#            result_matrix[i,j]=cf_pred[i,j]-test_matrix[i,j]\n",
    "result_matrix2=cf_pred.copy()\n",
    "result_matrix2[test_matrix==0]=0\n",
    "result_matrix=result_matrix2-test_matrix"
   ]
  },
  {
   "cell_type": "code",
   "execution_count": 165,
   "metadata": {},
   "outputs": [
    {
     "data": {
      "text/plain": [
       "0.010776504401721263"
      ]
     },
     "execution_count": 165,
     "metadata": {},
     "output_type": "execute_result"
    }
   ],
   "source": [
    "#RMSE\n",
    "np.linalg.norm(result_matrix)/np.count_nonzero(test_matrix)"
   ]
  },
  {
   "cell_type": "code",
   "execution_count": 166,
   "metadata": {},
   "outputs": [
    {
     "data": {
      "text/plain": [
       "0.8694166710904666"
      ]
     },
     "execution_count": 166,
     "metadata": {},
     "output_type": "execute_result"
    }
   ],
   "source": [
    "#MAE\n",
    "np.sum(np.absolute(result_matrix))/np.count_nonzero(test_matrix)"
   ]
  },
  {
   "cell_type": "code",
   "execution_count": 167,
   "metadata": {},
   "outputs": [
    {
     "name": "stdout",
     "output_type": "stream",
     "text": [
      "0.46589403973509935 0.47469635627530365\n"
     ]
    }
   ],
   "source": [
    "N=10 #TopN\n",
    "recommend_rate=3\n",
    "pred=np.argsort(result_matrix2,axis=1)[:,-N:]\n",
    "#truth=np.argsort(test_matrix,axis=1)[:,-N:]\n",
    "\n",
    "Total_Right=0\n",
    "index=np.arange(test_movie_size)\n",
    "for i in range(test_user_size):\n",
    "    #Total_Right+=np.intersect1d(pred[i],truth[i]).shape[0]\n",
    "    \n",
    "    Total_Right+=np.intersect1d(pred[i],index[test_matrix[i]>recommend_rate]).shape[0]\n",
    "    \n",
    "precision=Total_Right/(N*test_user_size)\n",
    "recall=Total_Right/test_matrix[test_matrix>recommend_rate].shape[0]\n",
    "\n",
    "print(precision,recall)"
   ]
  },
  {
   "cell_type": "code",
   "execution_count": 168,
   "metadata": {},
   "outputs": [],
   "source": [
    "def Pred_of_N(N):\n",
    "    recommend_rate=3\n",
    "    pred=np.argsort(result_matrix2,axis=1)[:,-N:]\n",
    "    #truth=np.argsort(test_matrix,axis=1)[:,-N:]\n",
    "\n",
    "    Total_Right=0\n",
    "    index=np.arange(test_movie_size)\n",
    "    for i in range(test_user_size):\n",
    "        #Total_Right+=np.intersect1d(pred[i],truth[i]).shape[0]\n",
    "\n",
    "        Total_Right+=np.intersect1d(pred[i],index[test_matrix[i]>recommend_rate]).shape[0]\n",
    "\n",
    "    precision=Total_Right/(N*test_user_size)\n",
    "    recall=Total_Right/test_matrix[test_matrix>recommend_rate].shape[0]\n",
    "    \n",
    "    return precision,recall"
   ]
  },
  {
   "cell_type": "code",
   "execution_count": 169,
   "metadata": {},
   "outputs": [],
   "source": [
    "PR=[Pred_of_N(N) for N in range(1,50)]"
   ]
  },
  {
   "cell_type": "code",
   "execution_count": 175,
   "metadata": {},
   "outputs": [
    {
     "data": {
      "image/png": "[encoded data removed]",
      "text/plain": [
       "<Figure size 432x288 with 1 Axes>"
      ]
     },
     "metadata": {
      "needs_background": "light"
     },
     "output_type": "display_data"
    }
   ],
   "source": [
    "plt.figure(1)\n",
    "plt.plot(range(1,50),[i[0] for i in PR],label=\"Precision\",color=\"g\")\n",
    "plt.plot(range(1,50),[i[1] for i in PR],label=\"Recall\",color=\"r\")\n",
    "plt.plot(range(1,50),[2*(i[0]*i[1])/(i[0]+i[1]) for i in PR],label=\"F1\",color=\"y\")\n",
    "plt.title(\"Collaborative Filtering P/R/F1\")\n",
    "plt.xlabel(\"N\")\n",
    "plt.ylabel(\"Ratio\")\n",
    "plt.grid(True)\n",
    "plt.legend()\n",
    "plt.savefig(\"./graph/Collaborative_Filter-PRF1_of_N.png\")\n",
    "plt.show()"
   ]
  },
  {
   "cell_type": "markdown",
   "metadata": {},
   "source": [
    "## Improved"
   ]
  },
  {
   "cell_type": "markdown",
   "metadata": {},
   "source": [
    "基于Collaborative Filter"
   ]
  },
  {
   "cell_type": "code",
   "execution_count": 120,
   "metadata": {},
   "outputs": [
    {
     "name": "stdout",
     "output_type": "stream",
     "text": [
      "(6041, 3953) (604, 395) (6041, 3953)\n"
     ]
    }
   ],
   "source": [
    "#需要用到最上面的数据\n",
    "print(train_matrix.shape,test_matrix.shape,rating_matrix.shape)"
   ]
  },
  {
   "cell_type": "code",
   "execution_count": 121,
   "metadata": {},
   "outputs": [],
   "source": [
    "movies=np.zeros((movie_num+1,3),dtype=\"<100U\")\n",
    "with open(\"./data/ml-1m/movies.dat\",encoding = \"ISO-8859-1\") as f:\n",
    "    line=f.readline()\n",
    "    while line:\n",
    "        temp=line.strip().split(\"::\")\n",
    "        movies[int(temp[0]),:]=temp\n",
    "        line=f.readline()"
   ]
  },
  {
   "cell_type": "code",
   "execution_count": 122,
   "metadata": {},
   "outputs": [],
   "source": [
    "users=np.zeros((user_num+1,5),dtype=\"<20U\")\n",
    "with open(\"./data/ml-1m/users.dat\",encoding = \"ISO-8859-1\") as f:\n",
    "    line=f.readline()\n",
    "    while line:\n",
    "        temp=line.strip().split(\"::\")\n",
    "        users[int(temp[0]),:]=temp\n",
    "        line=f.readline()"
   ]
  },
  {
   "cell_type": "code",
   "execution_count": 123,
   "metadata": {},
   "outputs": [],
   "source": [
    "genre={\"Action\":0,\n",
    "\"Adventure\":1,\n",
    "\"Animation\":2,\n",
    "\"Children's\":3,\n",
    "\"Comedy\":4,\n",
    "\"Crime\":5,\n",
    "\"Documentary\":6,\n",
    "\"Drama\":7,\n",
    "\"Fantasy\":8,\n",
    "\"Film-Noir\":9,\n",
    "\"Horror\":10,\n",
    "\"Musical\":11,\n",
    "\"Mystery\":12,\n",
    "\"Romance\":13,\n",
    "\"Sci-Fi\":14,\n",
    "\"Thriller\":15,\n",
    "\"War\":16,\n",
    "\"Western\":17\n",
    "      }\n",
    "\n",
    "movie_profile=np.zeros((movie_num+1,18))\n",
    "for i in range(movie_num+1):\n",
    "    temp=movies[i,2].split('|')\n",
    "    for g in temp:\n",
    "        if g in genre:\n",
    "            movie_profile[i,genre[g]]=1"
   ]
  },
  {
   "cell_type": "code",
   "execution_count": 124,
   "metadata": {},
   "outputs": [],
   "source": [
    "user_profile=np.zeros((test_user_size,18))\n",
    "for i in range(test_user_size):\n",
    "    user_profile[i]=np.sum(movie_profile.T*train_matrix[i],axis=1)"
   ]
  },
  {
   "cell_type": "code",
   "execution_count": 125,
   "metadata": {
    "scrolled": true
   },
   "outputs": [
    {
     "name": "stdout",
     "output_type": "stream",
     "text": [
      "100\n",
      "200\n",
      "300\n",
      "400\n",
      "500\n",
      "600\n"
     ]
    }
   ],
   "source": [
    "#逐渐变化alpha得到一个图\n",
    "ex_pred=np.zeros((test_user_size,test_movie_size))\n",
    "alpha=0.01\n",
    "for x in range(1,test_user_size):\n",
    "    if x%100 == 0:\n",
    "        print(x)\n",
    "    for i in range(1,test_movie_size):\n",
    "        norm=np.linalg.norm(movie_profile[i])*np.linalg.norm(user_profile[x])\n",
    "        if norm != 0:\n",
    "            ex_pred[x,i]=0\n",
    "            index=np.arange(movie_num+1)[train_matrix[x].astype(\"bool\")]\n",
    "            Nix=index[np.argsort(movie_sim[i,train_matrix[x].astype(\"bool\")])[-k:]]\n",
    "        \n",
    "            sumij=movie_sim[i,Nix].sum()\n",
    "            \n",
    "            if sumij!=0:\n",
    "                ex_pred[x,i]=bxi[x,i]+(1-alpha)*(movie_sim[i,Nix]@(train_matrix[x,Nix]-bxi[x,Nix]))/sumij+alpha*((movie_profile[i]@user_profile[x])/(norm))*5"
   ]
  },
  {
   "cell_type": "code",
   "execution_count": 137,
   "metadata": {},
   "outputs": [],
   "source": [
    "#result_matrix=np.zeros((test_user_size,test_movie_size))\n",
    "#for i in range(test_user_size):\n",
    "#    for j in range(test_movie_size):\n",
    "#        if test_matrix[i,j]!=0:\n",
    "#            result_matrix[i,j]=ex_pred[i,j]-test_matrix[i,j]\n",
    "result_matrix2=ex_pred.copy()\n",
    "result_matrix2[test_matrix==0]=0\n",
    "result_matrix=result_matrix2-test_matrix"
   ]
  },
  {
   "cell_type": "code",
   "execution_count": 138,
   "metadata": {},
   "outputs": [
    {
     "data": {
      "text/plain": [
       "0.01077113454270768"
      ]
     },
     "execution_count": 138,
     "metadata": {},
     "output_type": "execute_result"
    }
   ],
   "source": [
    "np.linalg.norm(result_matrix)/np.count_nonzero(test_matrix) "
   ]
  },
  {
   "cell_type": "code",
   "execution_count": 139,
   "metadata": {},
   "outputs": [
    {
     "data": {
      "text/plain": [
       "0.8700781457473302"
      ]
     },
     "execution_count": 139,
     "metadata": {},
     "output_type": "execute_result"
    }
   ],
   "source": [
    "np.sum(np.absolute(result_matrix))/np.count_nonzero(test_matrix)"
   ]
  },
  {
   "cell_type": "code",
   "execution_count": null,
   "metadata": {},
   "outputs": [],
   "source": [
    "# RMSE 0.010776504401721263\n",
    "# MAE 0.8694166710904666\n",
    "# P 0.46589403973509935 \n",
    "# R 0.47469635627530365"
   ]
  },
  {
   "cell_type": "code",
   "execution_count": 140,
   "metadata": {},
   "outputs": [
    {
     "name": "stdout",
     "output_type": "stream",
     "text": [
      "0.46589403973509935 0.47469635627530365\n"
     ]
    }
   ],
   "source": [
    "N=10 #TopN\n",
    "recommend_rate=3\n",
    "pred=np.argsort(result_matrix2,axis=1)[:,-N:]\n",
    "#truth=np.argsort(test_matrix,axis=1)[:,-N:]\n",
    "\n",
    "Total_Right=0\n",
    "index=np.arange(test_movie_size)\n",
    "for i in range(test_user_size):\n",
    "    #Total_Right+=np.intersect1d(pred[i],truth[i]).shape[0]\n",
    "    \n",
    "    Total_Right+=np.intersect1d(pred[i],index[test_matrix[i]>recommend_rate]).shape[0]\n",
    "    \n",
    "precision=Total_Right/(N*test_user_size)\n",
    "recall=Total_Right/test_matrix[test_matrix>recommend_rate].shape[0]\n",
    "\n",
    "print(precision,recall)"
   ]
  },
  {
   "cell_type": "code",
   "execution_count": 141,
   "metadata": {},
   "outputs": [],
   "source": [
    "#逐渐变化alpha得到一个图\n",
    "#alpha=0.01\n",
    "k=5 #表示最邻近的k个点。由于是基于Collaborative Filter\n",
    "def EX_PRED(alpha):\n",
    "    print(alpha)\n",
    "    ex_pred=np.zeros((test_user_size,test_movie_size))\n",
    "    \n",
    "    for x in range(1,test_user_size):\n",
    "        #if x%100 == 0:\n",
    "        #    print(x)\n",
    "        for i in range(1,test_movie_size):\n",
    "            norm=np.linalg.norm(movie_profile[i])*np.linalg.norm(user_profile[x])\n",
    "            if norm != 0:\n",
    "                ex_pred[x,i]=0\n",
    "                index=np.arange(movie_num+1)[train_matrix[x].astype(\"bool\")]\n",
    "                Nix=index[np.argsort(movie_sim[i,train_matrix[x].astype(\"bool\")])[-k:]]\n",
    "\n",
    "                sumij=movie_sim[i,Nix].sum()\n",
    "\n",
    "                if sumij!=0:\n",
    "                    ex_pred[x,i]=bxi[x,i]+(1-alpha)*(movie_sim[i,Nix]@(train_matrix[x,Nix]-bxi[x,Nix]))/sumij+alpha*((movie_profile[i]@user_profile[x])/(norm))*5\n",
    "            \n",
    "        \n",
    "    #result_matrix=np.zeros((test_user_size,test_movie_size))\n",
    "    #for i in range(test_user_size):\n",
    "    #    for j in range(test_movie_size):\n",
    "    #        if test_matrix[i,j]!=0:\n",
    "    #            result_matrix[i,j]=ex_pred[i,j]-test_matrix[i,j]\n",
    "    result_matrix2=ex_pred.copy()\n",
    "    result_matrix2[test_matrix==0]=0\n",
    "    result_matrix=result_matrix2-test_matrix\n",
    "    \n",
    "    RMSR=np.linalg.norm(result_matrix)/np.count_nonzero(test_matrix) \n",
    "    MAE=np.sum(np.absolute(result_matrix))/np.count_nonzero(test_matrix)\n",
    "    \n",
    "    N=10 #TopN\n",
    "    recommend_rate=3\n",
    "    pred=np.argsort(result_matrix2,axis=1)[:,-N:]\n",
    "    #truth=np.argsort(test_matrix,axis=1)[:,-N:]\n",
    "\n",
    "    Total_Right=0\n",
    "    index=np.arange(test_movie_size)\n",
    "    for i in range(test_user_size):\n",
    "        #Total_Right+=np.intersect1d(pred[i],truth[i]).shape[0]\n",
    "\n",
    "        Total_Right+=np.intersect1d(pred[i],index[test_matrix[i]>recommend_rate]).shape[0]\n",
    "\n",
    "    precision=Total_Right/(N*test_user_size)\n",
    "    recall=Total_Right/test_matrix[test_matrix>recommend_rate].shape[0]\n",
    "\n",
    "    print(RMSR,MAE,precision,recall)\n",
    "    return RMSR,MAE,precision,recall"
   ]
  },
  {
   "cell_type": "code",
   "execution_count": 142,
   "metadata": {
    "scrolled": true
   },
   "outputs": [
    {
     "name": "stdout",
     "output_type": "stream",
     "text": [
      "0.0\n",
      "0.010776504401721263 0.8694166710904666 0.46589403973509935 0.47469635627530365\n",
      "0.04\n",
      "0.010763338953771986 0.8725840254999963 0.4649006622516556 0.47368421052631576\n",
      "0.08\n",
      "0.010772366604916019 0.8766628910820653 0.4640728476821192 0.47284075573549256\n",
      "0.12\n",
      "0.010803531720279771 0.8820806097019214 0.4650662251655629 0.47385290148448045\n",
      "0.16\n",
      "0.010856643657914234 0.889127143990522 0.46572847682119206 0.474527665317139\n",
      "0.2\n",
      "0.010931382525656319 0.897864361957542 0.4632450331125828 0.47199730094466935\n",
      "0.24\n",
      "0.011027308595163925 0.9081958276263371 0.4629139072847682 0.4716599190283401\n",
      "0.28\n",
      "0.01114387474387544 0.9198594877502706 0.46274834437086093 0.47149122807017546\n",
      "0.32\n",
      "0.011280441138752085 0.9328568038885565 0.45927152317880793 0.46794871794871795\n",
      "0.36\n",
      "0.011436291303826287 0.9470172812163534 0.4586092715231788 0.4672739541160594\n",
      "0.4\n",
      "0.011610648724793633 0.9623287156682426 0.4566225165562914 0.46524966261808365\n",
      "0.44\n",
      "0.01180269322479357 0.9788478828248662 0.4543046357615894 0.46288798920377866\n",
      "0.48\n",
      "0.012011576475637196 0.9965747412474059 0.45264900662251656 0.46120107962213225\n",
      "0.52\n",
      "0.01223643616520066 1.0152776984249232 0.4498344370860927 0.4583333333333333\n",
      "0.56\n",
      "0.012476408503388993 1.0347894412463383 0.44817880794701986 0.4566464237516869\n",
      "0.6\n",
      "0.01273063889933654 1.0551281598894968 0.446523178807947 0.4549595141700405\n",
      "0.64\n",
      "0.01299829077035211 1.0762101852975272 0.44470198675496686 0.4531039136302294\n",
      "0.68\n",
      "0.013278552543082318 1.0982647523786566 0.4427152317880795 0.4510796221322537\n",
      "0.72\n",
      "0.013570642978563393 1.1212077700907912 0.4417218543046358 0.45006747638326583\n",
      "0.76\n",
      "0.013873814997588899 1.1448599259712333 0.44056291390728475 0.44888663967611336\n",
      "0.8\n",
      "0.014187358205334438 1.1691921944583734 0.43857615894039736 0.44686234817813764\n",
      "0.84\n",
      "0.014510600319389779 1.1941653223927364 0.4365894039735099 0.44483805668016196\n",
      "0.88\n",
      "0.014842907698127615 1.2197771139274343 0.43559602649006623 0.4438259109311741\n",
      "0.92\n",
      "0.015183685150998563 1.2458373624642642 0.43509933774834436 0.4433198380566802\n",
      "0.96\n",
      "0.01553237519240471 1.2724194604678776 0.4336092715231788 0.4418016194331984\n",
      "1.0\n",
      "0.01588845687894394 1.2996809305870192 0.43096026490066225 0.4391025641025641\n"
     ]
    }
   ],
   "source": [
    "# RMSE 0.010776504401721263\n",
    "# MAE 0.8694166710904666\n",
    "# P 0.46589403973509935 \n",
    "# R 0.47469635627530365\n",
    "alpha=np.linspace(0,1,26)\n",
    "result=[EX_PRED(a) for a in alpha]"
   ]
  },
  {
   "cell_type": "code",
   "execution_count": 143,
   "metadata": {
    "scrolled": true
   },
   "outputs": [
    {
     "name": "stdout",
     "output_type": "stream",
     "text": [
      "0.0\n",
      "0.010776504401721263 0.8694166710904666 0.46589403973509935 0.47469635627530365\n",
      "0.004\n",
      "0.010774190411261023 0.8696631788944515 0.4653973509933775 0.4741902834008097\n",
      "0.008\n",
      "0.010772097794818556 0.8699352444712743 0.46605960264900664 0.4748650472334683\n",
      "0.012\n",
      "0.01077022668143039 0.8702261846011298 0.46556291390728477 0.47435897435897434\n",
      "0.016\n",
      "0.010768577186559514 0.8705335918153864 0.4653973509933775 0.4741902834008097\n",
      "0.02\n",
      "0.010767149412059791 0.8708527530012982 0.4644039735099338 0.4731781376518219\n",
      "0.024\n",
      "0.010765943446144587 0.8711825119169962 0.4649006622516556 0.47368421052631576\n",
      "0.028\n",
      "0.010764959363359536 0.8715228841678525 0.4650662251655629 0.47385290148448045\n",
      "0.032\n",
      "0.01076419722455954 0.8718690581286942 0.4652317880794702 0.4740215924426451\n",
      "0.036000000000000004\n",
      "0.010763657076889949 0.8722222576211545 0.46473509933774837 0.47351551956815113\n",
      "0.04\n",
      "0.010763338953771986 0.8725840254999963 0.4649006622516556 0.47368421052631576\n",
      "0.044\n",
      "0.010763242874892413 0.8729494426390071 0.46473509933774837 0.47351551956815113\n",
      "0.048\n",
      "0.010763368846197448 0.8733184871933792 0.4644039735099338 0.4731781376518219\n",
      "0.052000000000000005\n",
      "0.010763716859890908 0.8736956215241932 0.4644039735099338 0.4731781376518219\n",
      "0.056\n",
      "0.010764286894436639 0.8740804647981694 0.4644039735099338 0.4731781376518219\n",
      "0.06\n",
      "0.010765078914565166 0.8744788140307781 0.4645695364238411 0.4733468286099865\n",
      "0.064\n",
      "0.01076609287128461 0.8748905503534047 0.4645695364238411 0.4733468286099865\n",
      "0.068\n",
      "0.010767328701895824 0.8753194115182357 0.4645695364238411 0.4733468286099865\n",
      "0.07200000000000001\n",
      "0.010768786330011774 0.8757585340388492 0.4645695364238411 0.4733468286099865\n",
      "0.076\n",
      "0.010770465665581125 0.8762041583145075 0.4639072847682119 0.4726720647773279\n",
      "0.08\n",
      "0.010772366604916019 0.8766628910820653 0.4640728476821192 0.47284075573549256\n"
     ]
    }
   ],
   "source": [
    "result2=[EX_PRED(a) for a in np.linspace(0,0.08,21)]"
   ]
  },
  {
   "cell_type": "code",
   "execution_count": 144,
   "metadata": {
    "scrolled": true
   },
   "outputs": [
    {
     "name": "stdout",
     "output_type": "stream",
     "text": [
      "0.0\n",
      "0.010776504401721263 0.8694166710904666 0.46589403973509935 0.47469635627530365\n",
      "0.002\n",
      "0.010775319743332864 0.8695346328121657 0.4653973509933775 0.4741902834008097\n",
      "0.004\n",
      "0.010774190411261023 0.8696631788944515 0.4653973509933775 0.4741902834008097\n",
      "0.006\n",
      "0.010773116422905097 0.8697965742015386 0.46605960264900664 0.4748650472334683\n",
      "0.008\n",
      "0.010772097794818556 0.8699352444712743 0.46605960264900664 0.4748650472334683\n",
      "0.01\n",
      "0.01077113454270768 0.8700781457473302 0.46589403973509935 0.47469635627530365\n",
      "0.012\n",
      "0.01077022668143039 0.8702261846011298 0.46556291390728477 0.47435897435897434\n",
      "0.014\n",
      "0.010769374224995073 0.8703788892309455 0.46605960264900664 0.4748650472334683\n",
      "0.016\n",
      "0.010768577186559514 0.8705335918153864 0.4653973509933775 0.4741902834008097\n",
      "0.018000000000000002\n",
      "0.010767835578429884 0.8706913682845759 0.4652317880794702 0.4740215924426451\n",
      "0.02\n",
      "0.010767149412059791 0.8708527530012982 0.4644039735099338 0.4731781376518219\n",
      "0.022\n",
      "0.010766518698049392 0.8710159782155086 0.4645695364238411 0.4733468286099865\n",
      "0.024\n",
      "0.010765943446144587 0.8711825119169962 0.4649006622516556 0.47368421052631576\n",
      "0.026000000000000002\n",
      "0.01076542366523624 0.8713519123640598 0.4649006622516556 0.47368421052631576\n",
      "0.028\n",
      "0.010764959363359536 0.8715228841678525 0.4650662251655629 0.47385290148448045\n",
      "0.03\n",
      "0.010764550547693314 0.8716949185917621 0.4653973509933775 0.4741902834008097\n",
      "0.032\n",
      "0.01076419722455954 0.8718690581286942 0.4652317880794702 0.4740215924426451\n",
      "0.034\n",
      "0.010763899399422818 0.872044820842819 0.4649006622516556 0.47368421052631576\n",
      "0.036000000000000004\n",
      "0.010763657076889949 0.8722222576211545 0.46473509933774837 0.47351551956815113\n",
      "0.038\n",
      "0.010763470260709597 0.8724026095702496 0.4649006622516556 0.47368421052631576\n",
      "0.04\n",
      "0.010763338953771986 0.8725840254999963 0.4649006622516556 0.47368421052631576\n"
     ]
    }
   ],
   "source": [
    "result3=[EX_PRED(a) for a in np.linspace(0,0.04,21)]"
   ]
  },
  {
   "cell_type": "code",
   "execution_count": 180,
   "metadata": {},
   "outputs": [
    {
     "data": {
      "image/png": "[encoded data removed]",
      "text/plain": [
       "<Figure size 432x288 with 9 Axes>"
      ]
     },
     "metadata": {
      "needs_background": "light"
     },
     "output_type": "display_data"
    }
   ],
   "source": [
    "import matplotlib.pyplot as plt\n",
    "%matplotlib inline\n",
    "plt.figure(1)\n",
    "plt.subplot(3,3,1)\n",
    "plt.plot(np.linspace(0,1,26),[i[0] for i in result],label=\"RMSR\",color='r')\n",
    "plt.title('RMSR')\n",
    "plt.grid(True)\n",
    "\n",
    "\n",
    "plt.subplot(3,3,2)\n",
    "plt.plot(np.linspace(0,1,26),[i[1] for i in result],label=\"MAE\",color='g')\n",
    "plt.title('MAE')\n",
    "plt.grid(True)\n",
    "\n",
    "plt.subplot(3,3,3)\n",
    "plt.plot(np.linspace(0,1,26),[i[2] for i in result],label=\"P\",color='g')\n",
    "plt.plot(np.linspace(0,1,26),[i[3] for i in result],label=\"R\",color='r')\n",
    "plt.title('P & R')\n",
    "plt.grid(True)\n",
    "\n",
    "\n",
    "plt.subplot(3,3,4)\n",
    "plt.plot(np.linspace(0,0.08,21),[i[0] for i in result2],label=\"RMSR\",color='r')\n",
    "plt.grid(True)\n",
    "\n",
    "plt.subplot(3,3,5)\n",
    "plt.plot(np.linspace(0,0.08,21),[i[1] for i in result2],label=\"MAE\",color='g')\n",
    "plt.grid(True)\n",
    "\n",
    "plt.subplot(3,3,6)\n",
    "plt.plot(np.linspace(0,0.08,21),[i[2] for i in result2],label=\"P\",color='g')\n",
    "plt.plot(np.linspace(0,0.08,21),[i[3] for i in result2],label=\"R\",color='r')\n",
    "#plt.title('P & R')\n",
    "plt.grid(True)\n",
    "\n",
    "plt.subplot(3,3,7)\n",
    "plt.plot(np.linspace(0,0.04,21),[i[0] for i in result3],label=\"RMSR\",color='r')\n",
    "plt.grid(True)\n",
    "plt.xlabel(\"alpha\")\n",
    "\n",
    "plt.subplot(3,3,8)\n",
    "plt.plot(np.linspace(0,0.04,21),[i[1] for i in result3],label=\"MAE\",color='g')\n",
    "plt.grid(True)\n",
    "plt.xlabel(\"alpha\")\n",
    "\n",
    "plt.subplot(3,3,9)\n",
    "plt.plot(np.linspace(0,0.04,21),[i[2] for i in result3],label=\"P\",color='g')\n",
    "plt.plot(np.linspace(0,0.04,21),[i[3] for i in result3],label=\"R\",color='r')\n",
    "#plt.title('P & R')\n",
    "plt.xlabel(\"alpha\")\n",
    "plt.grid(True)\n",
    "\n",
    "\n",
    "plt.subplots_adjust(top=0.92, bottom=0.08, left=0.10, right=0.95, hspace=0.25,\n",
    "                    wspace=0.35)\n",
    "plt.savefig(\"./graph/PartII-1-Extension.png\",dpi=1000)\n",
    "plt.show()"
   ]
  },
  {
   "cell_type": "markdown",
   "metadata": {},
   "source": [
    "## Extension"
   ]
  },
  {
   "cell_type": "markdown",
   "metadata": {},
   "source": [
    "[推荐系统之矩阵分解及其Python代码实现](https://www.cnblogs.com/shenxiaolin/p/8637794.html)"
   ]
  },
  {
   "cell_type": "code",
   "execution_count": 178,
   "metadata": {},
   "outputs": [
    {
     "name": "stdout",
     "output_type": "stream",
     "text": [
      "(6041, 3953) (604, 395) (6041, 3953) (3953, 18)\n"
     ]
    }
   ],
   "source": [
    "#需要用到最上面的数据\n",
    "print(train_matrix.shape,test_matrix.shape,rating_matrix.shape,movie_profile.shape)"
   ]
  },
  {
   "cell_type": "code",
   "execution_count": 188,
   "metadata": {},
   "outputs": [],
   "source": [
    "def matrix_factorization(R,P,Q,K,steps=5000,alpha=0.0002,beta=0.02):\n",
    "    Q=Q.T  # .T操作表示矩阵的转置\n",
    "    result=[]\n",
    "    for step in range(steps):\n",
    "        print(step)\n",
    "        for i in range(len(R)):\n",
    "            for j in range(len(R[i])):\n",
    "                if R[i][j]>0:\n",
    "                    eij=R[i][j]-np.dot(P[i,:],Q[:,j]) # .dot(P,Q) 表示矩阵内积\n",
    "                    for k in range(K):\n",
    "                        P[i][k]=P[i][k]+alpha*(2*eij*Q[k][j]-beta*P[i][k])\n",
    "                        Q[k][j]=Q[k][j]+alpha*(2*eij*P[i][k]-beta*Q[k][j])\n",
    "        eR=np.dot(P,Q)\n",
    "        e=0\n",
    "        for i in range(len(R)):\n",
    "            for j in range(len(R[i])):\n",
    "                if R[i][j]>0:\n",
    "                    e=e+pow(R[i][j]-np.dot(P[i,:],Q[:,j]),2)\n",
    "                    for k in range(K):\n",
    "                        e=e+(beta/2)*(pow(P[i][k],2)+pow(Q[k][j],2))\n",
    "        result.append(e)\n",
    "        if e<0.001:\n",
    "            break\n",
    "    return P,Q.T,result"
   ]
  },
  {
   "cell_type": "code",
   "execution_count": 186,
   "metadata": {},
   "outputs": [],
   "source": [
    "R=train_matrix.copy()\n",
    "K=18 #设为电影的种类\n",
    "P=np.random.rand(R.shape[0],K)\n",
    "Q=np.random.rand(R.shape[1],K)"
   ]
  },
  {
   "cell_type": "code",
   "execution_count": null,
   "metadata": {},
   "outputs": [
    {
     "name": "stdout",
     "output_type": "stream",
     "text": [
      "0\n",
      "1\n",
      "2\n",
      "3\n",
      "4\n",
      "5\n",
      "6\n",
      "7\n",
      "8\n",
      "9\n",
      "10\n",
      "11\n",
      "12\n",
      "13\n",
      "14\n",
      "15\n",
      "16\n",
      "17\n",
      "18\n",
      "19\n",
      "20\n",
      "21\n",
      "22\n",
      "23\n"
     ]
    }
   ],
   "source": [
    "nP,nQ,result=matrix_factorization(R,P,Q,K,steps=40)"
   ]
  },
  {
   "cell_type": "code",
   "execution_count": null,
   "metadata": {},
   "outputs": [],
   "source": [
    "plt.plot(range(len(result)),result,color=\"r\",linewidth=3)\n",
    "plt.title(\"Convergence Curve\")\n",
    "plt.xlabel(\"Steps\")\n",
    "plt.ylabel(\"Loss\")\n",
    "plt.grid(True)\n",
    "plt.show()"
   ]
  },
  {
   "cell_type": "code",
   "execution_count": null,
   "metadata": {},
   "outputs": [],
   "source": []
  },
  {
   "cell_type": "markdown",
   "metadata": {},
   "source": [
    "# Part II-2"
   ]
  },
  {
   "cell_type": "code",
   "execution_count": 1,
   "metadata": {},
   "outputs": [],
   "source": [
    "import numpy as np\n",
    "import networkx as nx\n",
    "import matplotlib.pyplot as plt\n",
    "from collections import Counter"
   ]
  },
  {
   "cell_type": "markdown",
   "metadata": {},
   "source": [
    "## Graph Visualization"
   ]
  },
  {
   "cell_type": "markdown",
   "metadata": {},
   "source": [
    "[networkx](https://networkx.github.io/documentation/stable/tutorial.html)\n",
    "\n",
    "[networkx 笔记](https://hui-liu.github.io/blog/networkx-%E7%AC%94%E8%AE%B0/)"
   ]
  },
  {
   "cell_type": "code",
   "execution_count": 2,
   "metadata": {},
   "outputs": [],
   "source": [
    "f=open(\"./data/graph/Erdos1_modified\")\n",
    "line=f.readlines()"
   ]
  },
  {
   "cell_type": "code",
   "execution_count": 3,
   "metadata": {},
   "outputs": [
    {
     "name": "stdout",
     "output_type": "stream",
     "text": [
      "10\n"
     ]
    }
   ],
   "source": [
    "data=[]\n",
    "temp=[]\n",
    "count=0\n",
    "for i in line:\n",
    "    if i!='\\n':\n",
    "        s=i.strip(\"\\t\\n 1234567890*^:\").lower()\n",
    "        if s==\"erdos, peter l.\":\n",
    "            count+=1\n",
    "        else:\n",
    "            temp.append(s)\n",
    "    else:\n",
    "        data.append(temp)\n",
    "        temp=[]\n",
    "data.append(temp)\n",
    "print(count)"
   ]
  },
  {
   "cell_type": "code",
   "execution_count": 4,
   "metadata": {},
   "outputs": [
    {
     "name": "stdout",
     "output_type": "stream",
     "text": [
      "11517 435\n"
     ]
    }
   ],
   "source": [
    "name2seq=dict()\n",
    "count=0\n",
    "max_co=0\n",
    "for i in data:\n",
    "    if len(i)>max_co:\n",
    "        max_co=len(i)\n",
    "    for j in i:\n",
    "        if not j in name2seq:\n",
    "            name2seq[j]=count\n",
    "            count+=1\n",
    "name_num=len(name2seq)\n",
    "print(name_num,max_co)"
   ]
  },
  {
   "cell_type": "code",
   "execution_count": 5,
   "metadata": {},
   "outputs": [],
   "source": [
    "seq2name={}\n",
    "for i in name2seq.items():\n",
    "    seq2name[i[1]]=i[0]"
   ]
  },
  {
   "cell_type": "code",
   "execution_count": 6,
   "metadata": {},
   "outputs": [],
   "source": [
    "graph=np.full((name_num,name_num),False)\n",
    "for i in data:\n",
    "    x=name2seq[i[0]]\n",
    "    for j in i[1:]:\n",
    "        y=name2seq[j]\n",
    "        graph[x,y]=True\n",
    "        graph[y,x]=True"
   ]
  },
  {
   "cell_type": "code",
   "execution_count": 43,
   "metadata": {},
   "outputs": [
    {
     "data": {
      "text/plain": [
       "array([[False,  True,  True, ..., False, False, False],\n",
       "       [ True, False, False, ..., False, False, False],\n",
       "       [ True, False, False, ..., False, False, False],\n",
       "       ...,\n",
       "       [False, False, False, ..., False, False, False],\n",
       "       [False, False, False, ..., False, False, False],\n",
       "       [False, False, False, ..., False, False, False]])"
      ]
     },
     "execution_count": 43,
     "metadata": {},
     "output_type": "execute_result"
    }
   ],
   "source": [
    "size=3000\n",
    "choice=np.random.choice(name_num,size,replace=False)\n",
    "g1=graph[choice][:,choice]\n",
    "choice=(g1.sum(axis=1)!=0)\n",
    "choice\n",
    "graph"
   ]
  },
  {
   "cell_type": "code",
   "execution_count": 45,
   "metadata": {
    "scrolled": false
   },
   "outputs": [
    {
     "data": {
      "image/png": "[encoded data removed]",
      "text/plain": [
       "<Figure size 432x288 with 1 Axes>"
      ]
     },
     "metadata": {},
     "output_type": "display_data"
    }
   ],
   "source": [
    "size=6000\n",
    "choice=np.random.choice(name_num,size,replace=False)\n",
    "g1=graph[choice][:,choice]\n",
    "choice=(g1.sum(axis=1)!=0)\n",
    "G=nx.Graph(g1[choice][:,choice])\n",
    "%matplotlib inline\n",
    "options = {\n",
    "    'node_color': 'red',\n",
    "    'node_size': 0.1,\n",
    "    'line_color': 'grey',\n",
    "    #'linewidths': 0,\n",
    "    'width': 0.1,\n",
    "}\n",
    "nx.draw(G,**options)\n",
    "#plt.figure(figsize=(30,70))\n",
    "plt.savefig(\"./graph/node\"+str(size)+\".png\",dpi=1000)\n",
    "plt.show()"
   ]
  },
  {
   "cell_type": "code",
   "execution_count": 46,
   "metadata": {},
   "outputs": [
    {
     "data": {
      "image/png": "[encoded data removed]",
      "text/plain": [
       "<Figure size 432x288 with 1 Axes>"
      ]
     },
     "metadata": {},
     "output_type": "display_data"
    }
   ],
   "source": [
    "#!pip install python-louvain \n",
    "#思考是否可用动态的/ice and fire/knowledge graph\n",
    "from community import community_louvain\n",
    "size=4000\n",
    "choice=np.random.choice(name_num,size,replace=False)\n",
    "g1=graph[choice][:,choice]\n",
    "choice=(g1.sum(axis=1)!=0)\n",
    "G=nx.Graph(g1[choice][:,choice])\n",
    "#G=nx.Graph(graph[:size,:size])\n",
    "part =community_louvain.best_partition(G)\n",
    "values = [part.get(node) for node in G.nodes()]\n",
    "\n",
    "options = {\n",
    "    'node_color': 'red',\n",
    "    'node_size': 0.1,\n",
    "    'line_color': 'grey',\n",
    "    #'linewidths': 0,\n",
    "    'width': 0.1,\n",
    "    'cmap':plt.get_cmap('jet'),\n",
    "    'node_color':values\n",
    "}\n",
    "nx.draw(G,**options)\n",
    "#plt.figure(figsize=(30,70))\n",
    "plt.savefig(\"./graph/node\"+str(size)+\"best_partition-random.png\",dpi=1000)\n",
    "plt.show()"
   ]
  },
  {
   "cell_type": "markdown",
   "metadata": {},
   "source": [
    "## Influence"
   ]
  },
  {
   "cell_type": "markdown",
   "metadata": {},
   "source": [
    "### Degree Centrality"
   ]
  },
  {
   "cell_type": "code",
   "execution_count": 7,
   "metadata": {},
   "outputs": [
    {
     "data": {
      "text/plain": [
       "'alon, noga m.'"
      ]
     },
     "execution_count": 7,
     "metadata": {},
     "output_type": "execute_result"
    }
   ],
   "source": [
    "degree=graph.sum(axis=0)\n",
    "seq2name[degree.argmax()]"
   ]
  },
  {
   "cell_type": "markdown",
   "metadata": {},
   "source": [
    "### Eigenvector Centrality"
   ]
  },
  {
   "cell_type": "code",
   "execution_count": 23,
   "metadata": {},
   "outputs": [],
   "source": [
    "#无需重新运行\n",
    "w2,v2=np.linalg.eigh(graph.astype(\"float\"))\n",
    "\n",
    "np.save(\"./data/graph/w2.npy\",w2)\n",
    "np.save(\"./data/graph/v2.npy\",v2)"
   ]
  },
  {
   "cell_type": "code",
   "execution_count": 37,
   "metadata": {},
   "outputs": [
    {
     "data": {
      "text/plain": [
       "'alon, noga m.'"
      ]
     },
     "execution_count": 37,
     "metadata": {},
     "output_type": "execute_result"
    }
   ],
   "source": [
    "w2=np.load(\"./data/graph/w2.npy\")\n",
    "v2=np.load(\"./data/graph/v2.npy\")\n",
    "seq2name[v2[:,w2.argmax()].argmax()]"
   ]
  },
  {
   "cell_type": "markdown",
   "metadata": {},
   "source": [
    "### Closeness Centrality"
   ]
  },
  {
   "cell_type": "code",
   "execution_count": 48,
   "metadata": {
    "scrolled": true
   },
   "outputs": [
    {
     "name": "stdout",
     "output_type": "stream",
     "text": [
      "======  0  ======\n",
      "0\n",
      "1000\n",
      "2000\n",
      "3000\n",
      "4000\n",
      "5000\n",
      "6000\n",
      "7000\n",
      "8000\n",
      "9000\n",
      "10000\n",
      "11000\n",
      "======  1  ======\n",
      "0\n"
     ]
    },
    {
     "ename": "KeyboardInterrupt",
     "evalue": "",
     "output_type": "error",
     "traceback": [
      "\u001b[0;31m---------------------------------------------------------------------------\u001b[0m",
      "\u001b[0;31mKeyboardInterrupt\u001b[0m                         Traceback (most recent call last)",
      "\u001b[0;32m<ipython-input-48-c055b4fd6f33>\u001b[0m in \u001b[0;36m<module>\u001b[0;34m\u001b[0m\n\u001b[1;32m     10\u001b[0m         \u001b[0mnextP\u001b[0m\u001b[0;34m=\u001b[0m\u001b[0mindex\u001b[0m\u001b[0;34m[\u001b[0m\u001b[0mD\u001b[0m\u001b[0;34m[\u001b[0m\u001b[0mi\u001b[0m\u001b[0;34m]\u001b[0m\u001b[0;34m!=\u001b[0m\u001b[0mname_num\u001b[0m\u001b[0;34m]\u001b[0m\u001b[0;34m\u001b[0m\u001b[0;34m\u001b[0m\u001b[0m\n\u001b[1;32m     11\u001b[0m         \u001b[0;32mfor\u001b[0m \u001b[0mj\u001b[0m \u001b[0;32min\u001b[0m \u001b[0mrange\u001b[0m\u001b[0;34m(\u001b[0m\u001b[0mn\u001b[0m\u001b[0;34m)\u001b[0m\u001b[0;34m:\u001b[0m\u001b[0;34m\u001b[0m\u001b[0;34m\u001b[0m\u001b[0m\n\u001b[0;32m---> 12\u001b[0;31m             \u001b[0;32mfor\u001b[0m \u001b[0mp\u001b[0m \u001b[0;32min\u001b[0m \u001b[0mnextP\u001b[0m\u001b[0;34m:\u001b[0m\u001b[0;34m\u001b[0m\u001b[0;34m\u001b[0m\u001b[0m\n\u001b[0m\u001b[1;32m     13\u001b[0m                 \u001b[0mD\u001b[0m\u001b[0;34m[\u001b[0m\u001b[0mi\u001b[0m\u001b[0;34m,\u001b[0m\u001b[0mj\u001b[0m\u001b[0;34m]\u001b[0m\u001b[0;34m=\u001b[0m\u001b[0mmin\u001b[0m\u001b[0;34m(\u001b[0m\u001b[0mD\u001b[0m\u001b[0;34m[\u001b[0m\u001b[0mi\u001b[0m\u001b[0;34m,\u001b[0m\u001b[0mj\u001b[0m\u001b[0;34m]\u001b[0m\u001b[0;34m,\u001b[0m\u001b[0mD\u001b[0m\u001b[0;34m[\u001b[0m\u001b[0mi\u001b[0m\u001b[0;34m,\u001b[0m\u001b[0mp\u001b[0m\u001b[0;34m]\u001b[0m\u001b[0;34m+\u001b[0m\u001b[0mD\u001b[0m\u001b[0;34m[\u001b[0m\u001b[0mp\u001b[0m\u001b[0;34m,\u001b[0m\u001b[0mj\u001b[0m\u001b[0;34m]\u001b[0m\u001b[0;34m)\u001b[0m\u001b[0;34m\u001b[0m\u001b[0;34m\u001b[0m\u001b[0m\n\u001b[1;32m     14\u001b[0m \u001b[0mnp\u001b[0m\u001b[0;34m.\u001b[0m\u001b[0msave\u001b[0m\u001b[0;34m(\u001b[0m\u001b[0;34m\"./data/graph/D.npy\"\u001b[0m\u001b[0;34m)\u001b[0m\u001b[0;34m\u001b[0m\u001b[0;34m\u001b[0m\u001b[0m\n",
      "\u001b[0;31mKeyboardInterrupt\u001b[0m: "
     ]
    }
   ],
   "source": [
    "#无需重新运行\n",
    "#近似算法，计算距离\n",
    "#下面的D可以从内存取出，迭代\n",
    "D=np.full((name_num,name_num),name_num)\n",
    "D[graph]=1\n",
    "index=np.arange(name_num)\n",
    "for k in range(2):\n",
    "    print(\"====== \",k,\" ======\")\n",
    "    for i in range(n):\n",
    "        if i%1000==0:\n",
    "            print(i)\n",
    "        nextP=index[D[i]!=name_num]\n",
    "        for j in range(n):\n",
    "            for p in nextP:\n",
    "                D[i,j]=min(D[i,j],D[i,p]+D[p,j])\n",
    "np.save(\"./data/graph/D.npy\",D)"
   ]
  },
  {
   "cell_type": "code",
   "execution_count": 51,
   "metadata": {},
   "outputs": [],
   "source": [
    "Distance=np.load(\"./data/graph/D.npy\")\n",
    "D_avg=(name_num-1)/(Distance.sum(axis=1))"
   ]
  },
  {
   "cell_type": "code",
   "execution_count": 52,
   "metadata": {},
   "outputs": [
    {
     "data": {
      "text/plain": [
       "'alon, noga m.'"
      ]
     },
     "execution_count": 52,
     "metadata": {},
     "output_type": "execute_result"
    }
   ],
   "source": [
    "seq2name[D_avg.argmax()]"
   ]
  },
  {
   "cell_type": "markdown",
   "metadata": {},
   "source": [
    "## Community"
   ]
  },
  {
   "cell_type": "markdown",
   "metadata": {},
   "source": [
    "[KMeans](https://gist.github.com/bistaumanga/6023692)\n",
    "\n",
    "[KMeans Reinforce](https://gist.github.com/tvwerkhoven/4fdc9baad760240741a09292901d3abd)"
   ]
  },
  {
   "cell_type": "code",
   "execution_count": 48,
   "metadata": {},
   "outputs": [],
   "source": [
    "import numpy as np\n",
    "\n",
    "def kMeans(X, K, maxIters = 10, plot_progress = None):\n",
    "    \n",
    "    centroids = X[np.random.choice(np.arange(len(X)), K)]\n",
    "    for i in range(maxIters):\n",
    "        if i%100==0:\n",
    "            print(\"Iter: \",i)\n",
    "        # Cluster Assignment step\n",
    "        C = np.array([np.argmin([np.dot(x_i-y_k, x_i-y_k) for y_k in centroids]) for x_i in X])\n",
    "        # Ensure we have K clusters, otherwise reset centroids and start over\n",
    "        # If there are fewer than K clusters, outcome will be nan.\n",
    "        if (len(np.unique(C)) < K):\n",
    "            print(\"Reset\")\n",
    "            centroids = X[np.random.choice(np.arange(len(X)), K)]\n",
    "        else:\n",
    "            # Move centroids step \n",
    "            centroids = [X[C == k].mean(axis = 0) for k in range(K)]\n",
    "        if plot_progress != None: plot_progress(X, C, np.array(centroids))\n",
    "    return np.array(centroids) , C"
   ]
  },
  {
   "cell_type": "code",
   "execution_count": 49,
   "metadata": {},
   "outputs": [],
   "source": [
    "D1=graph.sum(axis=0).astype(\"float\")\n",
    "D1[D1==0]=0.1\n",
    "D=np.diag(D1)\n",
    "W=graph.copy().astype(\"float\")"
   ]
  },
  {
   "cell_type": "markdown",
   "metadata": {},
   "source": [
    "### Ratio Cut\n",
    "\n",
    "$D-W$选择最小的k个特征向量$n\\times k$ "
   ]
  },
  {
   "cell_type": "code",
   "execution_count": 11,
   "metadata": {},
   "outputs": [],
   "source": [
    "#无需重新运行\n",
    "w_r,v_r=np.linalg.eigh(D-W)\n",
    "np.save(\"./data/graph/w_r.npy\",w_r)\n",
    "np.save(\"./data/graph/v_r.npy\",v_r)"
   ]
  },
  {
   "cell_type": "code",
   "execution_count": 50,
   "metadata": {},
   "outputs": [],
   "source": [
    "w_r=np.load(\"./data/graph/w_r.npy\")\n",
    "v_r=np.load(\"./data/graph/v_r.npy\")"
   ]
  },
  {
   "cell_type": "code",
   "execution_count": 51,
   "metadata": {},
   "outputs": [
    {
     "name": "stdout",
     "output_type": "stream",
     "text": [
      "Iter:  0\n",
      "Iter:  100\n",
      "Iter:  200\n",
      "Iter:  300\n",
      "Iter:  400\n",
      "Iter:  500\n",
      "Iter:  600\n",
      "Iter:  700\n",
      "Iter:  800\n",
      "Iter:  900\n"
     ]
    }
   ],
   "source": [
    "#无需重跑\n",
    "K=20 #K Clusters\n",
    "k=100 #n*k\n",
    "Miter=1000\n",
    "centroids_r,C_r=kMeans(v_r[:,np.argsort(w_r)[:k]], K, maxIters = Miter, plot_progress = None)\n",
    "np.save(\"./data/graph/C_r.npy\",C_r)"
   ]
  },
  {
   "cell_type": "code",
   "execution_count": 52,
   "metadata": {},
   "outputs": [
    {
     "data": {
      "text/plain": [
       "[(15, 7028),\n",
       " (0, 884),\n",
       " (17, 576),\n",
       " (14, 560),\n",
       " (8, 470),\n",
       " (19, 281),\n",
       " (7, 264),\n",
       " (1, 225),\n",
       " (6, 220),\n",
       " (16, 211),\n",
       " (2, 153),\n",
       " (9, 147),\n",
       " (4, 138),\n",
       " (18, 81),\n",
       " (10, 62),\n",
       " (11, 56),\n",
       " (3, 49),\n",
       " (5, 45),\n",
       " (13, 44),\n",
       " (12, 23)]"
      ]
     },
     "execution_count": 52,
     "metadata": {},
     "output_type": "execute_result"
    }
   ],
   "source": [
    "C_r=np.load(\"./data/graph/C_r.npy\")\n",
    "Counter(C_r).most_common()"
   ]
  },
  {
   "cell_type": "code",
   "execution_count": 58,
   "metadata": {},
   "outputs": [
    {
     "data": {
      "image/png": "[encoded data removed]",
      "text/plain": [
       "<Figure size 432x288 with 1 Axes>"
      ]
     },
     "metadata": {},
     "output_type": "display_data"
    }
   ],
   "source": [
    "size=6000\n",
    "choice=np.random.choice(name_num,size,replace=False)\n",
    "g1=graph[choice][:,choice]\n",
    "choice1=(g1.sum(axis=1)!=0)\n",
    "G=nx.Graph(g1[choice1][:,choice1])\n",
    "#G=nx.Graph(graph[:size,:size])\n",
    "values=C_r[choice[choice1]]\n",
    "\n",
    "options = {\n",
    "    'node_color': 'red',\n",
    "    'node_size': 0.1,\n",
    "    'line_color': 'grey',\n",
    "    #'linewidths': 0,\n",
    "    'width': 0.1,\n",
    "    'cmap':plt.get_cmap('jet'),\n",
    "    'node_color':values\n",
    "}\n",
    "nx.draw(G,**options)\n",
    "#plt.figure(figsize=(30,70))\n",
    "plt.savefig(\"./graph/ratioCut\"+str(size)+\"-random.png\",dpi=1000)\n",
    "plt.show()"
   ]
  },
  {
   "cell_type": "markdown",
   "metadata": {},
   "source": [
    "### Normalized Cut\n",
    "\n",
    "$D^{-\\frac{1}{2}}(D-W)D^{-\\frac{1}{2}}$选择最小的k个特征向量$n\\times k$"
   ]
  },
  {
   "cell_type": "code",
   "execution_count": 13,
   "metadata": {},
   "outputs": [],
   "source": [
    "#无需重新运行\n",
    "w_n,v_n=np.linalg.eigh((np.diag(D1**(-1/2)))@(D-W)@(np.diag(D1**(-1/2))))\n",
    "np.save(\"./data/graph/w_n.npy\",w_n)\n",
    "np.save(\"./data/graph/v_n.npy\",v_n)"
   ]
  },
  {
   "cell_type": "code",
   "execution_count": 59,
   "metadata": {},
   "outputs": [],
   "source": [
    "w_n=np.load(\"./data/graph/w_n.npy\")\n",
    "v_n=np.load(\"./data/graph/v_n.npy\")"
   ]
  },
  {
   "cell_type": "code",
   "execution_count": 60,
   "metadata": {},
   "outputs": [
    {
     "name": "stdout",
     "output_type": "stream",
     "text": [
      "Iter:  0\n",
      "Iter:  100\n",
      "Iter:  200\n",
      "Iter:  300\n",
      "Iter:  400\n",
      "Iter:  500\n",
      "Iter:  600\n",
      "Iter:  700\n",
      "Iter:  800\n",
      "Iter:  900\n"
     ]
    }
   ],
   "source": [
    "#无需重跑\n",
    "K=20 #K Clusters\n",
    "k=100 #n*k\n",
    "Miter=1000\n",
    "centroids_n,C_n=kMeans(v_n[:,np.argsort(w_n)[:k]], K, maxIters = Miter, plot_progress = None)\n",
    "np.save(\"./data/graph/C_n.npy\",C_n)"
   ]
  },
  {
   "cell_type": "code",
   "execution_count": 61,
   "metadata": {},
   "outputs": [
    {
     "data": {
      "text/plain": [
       "[(5, 7447),\n",
       " (14, 717),\n",
       " (12, 528),\n",
       " (17, 480),\n",
       " (13, 423),\n",
       " (18, 378),\n",
       " (2, 309),\n",
       " (3, 202),\n",
       " (19, 160),\n",
       " (0, 133),\n",
       " (6, 118),\n",
       " (4, 117),\n",
       " (11, 94),\n",
       " (8, 92),\n",
       " (10, 88),\n",
       " (1, 87),\n",
       " (7, 82),\n",
       " (16, 29),\n",
       " (9, 20),\n",
       " (15, 13)]"
      ]
     },
     "execution_count": 61,
     "metadata": {},
     "output_type": "execute_result"
    }
   ],
   "source": [
    "C_n=np.load(\"./data/graph/C_n.npy\")\n",
    "Counter(C_n).most_common()"
   ]
  },
  {
   "cell_type": "code",
   "execution_count": 62,
   "metadata": {},
   "outputs": [
    {
     "data": {
      "image/png": "[encoded data removed]",
      "text/plain": [
       "<Figure size 432x288 with 1 Axes>"
      ]
     },
     "metadata": {},
     "output_type": "display_data"
    }
   ],
   "source": [
    "size=6000\n",
    "choice=np.random.choice(name_num,size,replace=False)\n",
    "g1=graph[choice][:,choice]\n",
    "choice1=(g1.sum(axis=1)!=0)\n",
    "G=nx.Graph(g1[choice1][:,choice1])\n",
    "#G=nx.Graph(graph[:size,:size])\n",
    "values=C_n[choice[choice1]]\n",
    "\n",
    "options = {\n",
    "    'node_color': 'red',\n",
    "    'node_size': 0.1,\n",
    "    'line_color': 'grey',\n",
    "    #'linewidths': 0,\n",
    "    'width': 0.1,\n",
    "    'cmap':plt.get_cmap('jet'),\n",
    "    'node_color':values,\n",
    "    #'pos':nx.spectral_layout(G)\n",
    "}\n",
    "nx.draw(G,**options)\n",
    "#plt.figure(figsize=(30,70))\n",
    "plt.savefig(\"./graph/normalizedCut\"+str(size)+\"-random.png\",dpi=1000)\n",
    "plt.show()"
   ]
  },
  {
   "cell_type": "markdown",
   "metadata": {},
   "source": [
    "### Modularity\n",
    "\n",
    "$B=A-dd^\\top /2m$ 选择最大的k个特征向量$n\\times k$"
   ]
  },
  {
   "cell_type": "code",
   "execution_count": 15,
   "metadata": {},
   "outputs": [],
   "source": [
    "#无需重新运行\n",
    "w_m,v_m=np.linalg.eigh(W-D1.reshape(name_num,1)@D1.reshape(1,name_num)/W.sum())\n",
    "np.save(\"./data/graph/w_m.npy\",w_m)\n",
    "np.save(\"./data/graph/v_m.npy\",v_m)"
   ]
  },
  {
   "cell_type": "code",
   "execution_count": 63,
   "metadata": {},
   "outputs": [],
   "source": [
    "w_m=np.load(\"./data/graph/w_m.npy\")\n",
    "v_m=np.load(\"./data/graph/v_m.npy\")"
   ]
  },
  {
   "cell_type": "code",
   "execution_count": 64,
   "metadata": {},
   "outputs": [
    {
     "name": "stdout",
     "output_type": "stream",
     "text": [
      "Iter:  0\n",
      "Iter:  100\n",
      "Iter:  200\n",
      "Iter:  300\n",
      "Iter:  400\n",
      "Iter:  500\n",
      "Iter:  600\n",
      "Iter:  700\n",
      "Iter:  800\n",
      "Iter:  900\n"
     ]
    }
   ],
   "source": [
    "#无需重跑\n",
    "K=20 #K Clusters\n",
    "k=100 #n*k\n",
    "Miter=1000\n",
    "centroids_m,C_m=kMeans(v_m[:,np.argsort(w_m)[-k:]], K, maxIters = Miter, plot_progress = None)\n",
    "np.save(\"./data/graph/C_m.npy\",C_m)"
   ]
  },
  {
   "cell_type": "code",
   "execution_count": 65,
   "metadata": {},
   "outputs": [
    {
     "data": {
      "text/plain": [
       "[(8, 7255),\n",
       " (15, 776),\n",
       " (10, 522),\n",
       " (14, 476),\n",
       " (1, 364),\n",
       " (5, 353),\n",
       " (12, 235),\n",
       " (16, 221),\n",
       " (6, 193),\n",
       " (7, 180),\n",
       " (13, 166),\n",
       " (18, 130),\n",
       " (9, 109),\n",
       " (17, 100),\n",
       " (11, 95),\n",
       " (0, 92),\n",
       " (4, 90),\n",
       " (19, 82),\n",
       " (3, 67),\n",
       " (2, 11)]"
      ]
     },
     "execution_count": 65,
     "metadata": {},
     "output_type": "execute_result"
    }
   ],
   "source": [
    "C_m=np.load(\"./data/graph/C_m.npy\")\n",
    "Counter(C_m).most_common()"
   ]
  },
  {
   "cell_type": "code",
   "execution_count": 66,
   "metadata": {},
   "outputs": [
    {
     "data": {
      "image/png": "[encoded data removed]",
      "text/plain": [
       "<Figure size 432x288 with 1 Axes>"
      ]
     },
     "metadata": {},
     "output_type": "display_data"
    }
   ],
   "source": [
    "size=6000\n",
    "choice=np.random.choice(name_num,size,replace=False)\n",
    "g1=graph[choice][:,choice]\n",
    "choice1=(g1.sum(axis=1)!=0)\n",
    "G=nx.Graph(g1[choice1][:,choice1])\n",
    "#G=nx.Graph(graph[:size,:size])\n",
    "values=C_m[choice[choice1]]\n",
    "\n",
    "options = {\n",
    "    'node_color': 'red',\n",
    "    'node_size': 0.1,\n",
    "    'line_color': 'grey',\n",
    "    #'linewidths': 0,\n",
    "    'width': 0.1,\n",
    "    'cmap':plt.get_cmap('jet'),\n",
    "    'node_color':values\n",
    "}\n",
    "nx.draw(G,**options)\n",
    "#plt.figure(figsize=(30,70))\n",
    "plt.savefig(\"./graph/modularity\"+str(size)+\"-random.png\",dpi=1000)\n",
    "plt.show()"
   ]
  },
  {
   "cell_type": "code",
   "execution_count": null,
   "metadata": {},
   "outputs": [],
   "source": []
  }
 ],
 "metadata": {
  "kernelspec": {
   "display_name": "Python 3",
   "language": "python",
   "name": "python3"
  },
  "language_info": {
   "codemirror_mode": {
    "name": "ipython",
    "version": 3
   },
   "file_extension": ".py",
   "mimetype": "text/x-python",
   "name": "python",
   "nbconvert_exporter": "python",
   "pygments_lexer": "ipython3",
   "version": "3.7.1"
  }
 },
 "nbformat": 4,
 "nbformat_minor": 2
}
