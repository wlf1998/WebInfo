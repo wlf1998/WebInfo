{
 "cells": [
  {
   "cell_type": "markdown",
   "metadata": {},
   "source": [
    "# Part I "
   ]
  },
  {
   "cell_type": "markdown",
   "metadata": {},
   "source": [
    "[Gas sensors for home activity monitoring Data Set](https://archive.ics.uci.edu/ml/datasets/Gas+sensors+for+home+activity+monitoring)\n",
    "\n",
    "\n",
    "[KNN](https://github.com/eriklindernoren/ML-From-Scratch/blob/master/mlfromscratch/supervised_learning/k_nearest_neighbors.py)\n",
    "\n",
    "[ML-From-Scratch Logistic Regression](https://github.com/eriklindernoren/ML-From-Scratch/blob/master/mlfromscratch/supervised_learning/logistic_regression.py)\n",
    "\n",
    "[Numpy LR](https://blog.goodaudience.com/logistic-regression-from-scratch-in-numpy-5841c09e425f)"
   ]
  },
  {
   "cell_type": "markdown",
   "metadata": {},
   "source": [
    "## Preprocessing"
   ]
  },
  {
   "cell_type": "code",
   "execution_count": 266,
   "metadata": {},
   "outputs": [],
   "source": [
    "import numpy as np"
   ]
  },
  {
   "cell_type": "code",
   "execution_count": 267,
   "metadata": {},
   "outputs": [],
   "source": [
    "metadata=np.loadtxt(\"./data/HT_Sensor_UCIsubmission/HT_Sensor_metadata.dat\",skiprows=1,dtype=str)"
   ]
  },
  {
   "cell_type": "code",
   "execution_count": 268,
   "metadata": {},
   "outputs": [],
   "source": [
    "metadata[metadata[:,2]==\"background\",2]=2\n",
    "metadata[metadata[:,2]==\"banana\",2]=0\n",
    "metadata[metadata[:,2]==\"wine\",2]=1\n",
    "\n",
    "metadata=np.array(metadata[:,[0,2,3,4]],dtype=float)"
   ]
  },
  {
   "cell_type": "code",
   "execution_count": 278,
   "metadata": {
    "scrolled": true
   },
   "outputs": [],
   "source": [
    "dataset = np.loadtxt('./data/HT_Sensor_UCIsubmission/HT_Sensor_dataset.dat', skiprows=1)\n",
    "datasetID=np.array(dataset[:,0],dtype=int)"
   ]
  },
  {
   "cell_type": "code",
   "execution_count": 279,
   "metadata": {},
   "outputs": [],
   "source": [
    "# 仅仅挑选ID为banana与wine的\n",
    "# 以及时间恰好有这两者存在的时间区间\n",
    "selected = np.logical_and(metadata[datasetID,1]!=2,dataset[:,1]>0,dataset[:,1]<metadata[datasetID,3])\n",
    "data=dataset[selected]\n",
    "dataID=np.array(data[:,0],dtype=int)\n",
    "data[:,0]=metadata[dataID,1]\n",
    "\n",
    "#混淆in-place\n",
    "np.random.shuffle(data)\n",
    "#归一化\n",
    "dataID=np.array(data[:,0],dtype=int)\n",
    "data=(data-data.mean(axis=0))/data.std(axis=0)\n",
    "data[:,0]=dataID\n",
    "np.save(\"./data/HT_Sensor_UCIsubmission/data.npy\",data)"
   ]
  },
  {
   "cell_type": "markdown",
   "metadata": {},
   "source": [
    "## KNN"
   ]
  },
  {
   "cell_type": "code",
   "execution_count": 280,
   "metadata": {},
   "outputs": [],
   "source": [
    "import numpy as np\n",
    "from collections import Counter"
   ]
  },
  {
   "cell_type": "code",
   "execution_count": 281,
   "metadata": {},
   "outputs": [
    {
     "name": "stdout",
     "output_type": "stream",
     "text": [
      "(208227, 8) (208227,) (208228, 8) (208228,) (416455, 12)\n"
     ]
    }
   ],
   "source": [
    "data=np.load(\"./data/HT_Sensor_UCIsubmission/data.npy\")\n",
    "test_size=data.shape[0]//2\n",
    "#分割train test 10%\n",
    "X_test=data[:test_size,2:10]\n",
    "y_test=data[:test_size,0].astype('int')\n",
    "\n",
    "X_train=data[test_size:,2:10]\n",
    "y_train=data[test_size:,0].astype('int')\n",
    "\n",
    "print(X_test.shape,y_test.shape,X_train.shape,y_train.shape,data.shape)"
   ]
  },
  {
   "cell_type": "code",
   "execution_count": 282,
   "metadata": {},
   "outputs": [],
   "source": [
    "class KNN():\n",
    "    def __init__(self, k=5):\n",
    "        self.k = k\n",
    "\n",
    "    def predict(self, X_test, X_train, y_train):\n",
    "        y_pred=np.empty(X_test.shape[0],dtype=int)\n",
    "        for i,X in enumerate(X_test):\n",
    "            print(i)\n",
    "            y_pred[i]=np.bincount(y_train[np.argsort(np.linalg.norm(X-X_train,axis=1))[:self.k]]).argmax()\n",
    "        return y_pred"
   ]
  },
  {
   "cell_type": "code",
   "execution_count": 283,
   "metadata": {
    "scrolled": true
   },
   "outputs": [
    {
     "name": "stdout",
     "output_type": "stream",
     "text": [
      "0\n",
      "1\n",
      "2\n",
      "3\n",
      "4\n",
      "5\n",
      "6\n",
      "7\n",
      "8\n",
      "9\n",
      "10\n",
      "11\n",
      "12\n",
      "13\n",
      "14\n",
      "15\n",
      "16\n",
      "17\n",
      "18\n",
      "19\n",
      "20\n",
      "21\n",
      "22\n",
      "23\n",
      "24\n",
      "25\n",
      "26\n",
      "27\n",
      "28\n",
      "29\n",
      "30\n",
      "31\n",
      "32\n",
      "33\n",
      "34\n",
      "35\n",
      "36\n",
      "37\n",
      "38\n",
      "39\n",
      "40\n",
      "41\n",
      "42\n",
      "43\n",
      "44\n",
      "45\n",
      "46\n",
      "47\n",
      "48\n",
      "49\n",
      "50\n",
      "51\n",
      "52\n",
      "53\n",
      "54\n",
      "55\n",
      "56\n",
      "57\n",
      "58\n",
      "59\n",
      "60\n",
      "61\n",
      "62\n",
      "63\n",
      "64\n",
      "65\n",
      "66\n",
      "67\n",
      "68\n",
      "69\n",
      "70\n",
      "71\n",
      "72\n",
      "73\n",
      "74\n",
      "75\n",
      "76\n",
      "77\n",
      "78\n",
      "79\n",
      "80\n",
      "81\n",
      "82\n",
      "83\n",
      "84\n",
      "85\n",
      "86\n",
      "87\n",
      "88\n",
      "89\n",
      "90\n",
      "91\n",
      "92\n",
      "93\n",
      "94\n",
      "95\n",
      "96\n",
      "97\n",
      "98\n",
      "99\n"
     ]
    }
   ],
   "source": [
    "model=KNN(1)\n",
    "y_pred=model.predict(X_test[:100],X_train[:100],y_train)"
   ]
  },
  {
   "cell_type": "code",
   "execution_count": 284,
   "metadata": {},
   "outputs": [
    {
     "data": {
      "text/plain": [
       "[(True, 83), (False, 17)]"
      ]
     },
     "execution_count": 284,
     "metadata": {},
     "output_type": "execute_result"
    }
   ],
   "source": [
    "result=Counter(np.equal(y_pred[:100],y_test[:100])).most_common()\n",
    "result"
   ]
  },
  {
   "cell_type": "code",
   "execution_count": 285,
   "metadata": {
    "scrolled": true
   },
   "outputs": [
    {
     "data": {
      "text/plain": [
       "array([1, 1, 1, 0, 1, 1, 0, 0, 0, 0, 1, 1, 0, 0, 0, 0, 0, 1, 1, 1, 1, 1,\n",
       "       0, 1, 0, 0, 1, 1, 0, 0, 1, 0, 0, 0, 0, 1, 1, 0, 1, 1, 1, 0, 0, 1,\n",
       "       0, 0, 0, 1, 0, 0, 1, 1, 0, 1, 0, 1, 1, 1, 1, 0, 0, 0, 1, 1, 0, 1,\n",
       "       1, 1, 1, 1, 0, 0, 0, 0, 0, 1, 0, 0, 0, 0, 0, 1, 0, 1, 1, 0, 0, 1,\n",
       "       0, 0, 0, 1, 0, 1, 1, 0, 1, 1, 0, 0])"
      ]
     },
     "execution_count": 285,
     "metadata": {},
     "output_type": "execute_result"
    }
   ],
   "source": [
    "y_pred[:1000]"
   ]
  },
  {
   "cell_type": "markdown",
   "metadata": {},
   "source": [
    "## Logistic Regression"
   ]
  },
  {
   "cell_type": "code",
   "execution_count": 286,
   "metadata": {},
   "outputs": [],
   "source": [
    "import numpy as np\n",
    "from collections import Counter\n",
    "import math"
   ]
  },
  {
   "cell_type": "code",
   "execution_count": 287,
   "metadata": {},
   "outputs": [
    {
     "name": "stdout",
     "output_type": "stream",
     "text": [
      "(41645, 8) (41645,) (374810, 8) (374810,) (416455, 12)\n"
     ]
    }
   ],
   "source": [
    "data=np.load(\"./data/HT_Sensor_UCIsubmission/data.npy\")\n",
    "test_size=data.shape[0]//10\n",
    "#分割train test 10%\n",
    "X_test=data[:test_size,2:10]\n",
    "y_test=data[:test_size,0].astype('int')\n",
    "\n",
    "X_train=data[test_size:,2:10]\n",
    "y_train=data[test_size:,0].astype('int')\n",
    "\n",
    "print(X_test.shape,y_test.shape,X_train.shape,y_train.shape,data.shape)"
   ]
  },
  {
   "cell_type": "code",
   "execution_count": 306,
   "metadata": {},
   "outputs": [],
   "source": [
    "class LogisticRegression():\n",
    "    def __init__(self,lr=0.1):\n",
    "        self.lr=lr\n",
    "        \n",
    "    def sigmoid(self,Z):\n",
    "        return 1/(1+np.exp(-Z))\n",
    "    \n",
    "    def loss(self,y,y_hat):\n",
    "        return -np.mean(y * np.log(y_hat)+(1-y)*np.log(1-y_hat))\n",
    "    \n",
    "    def fit(self,X_train,y_train,epochs=5000):\n",
    "        limit=1/math.sqrt(X_train.shape[1])\n",
    "        self.W=np.random.uniform(-limit,limit,(X_train.shape[1],))\n",
    "        \n",
    "        for i in range(epochs):\n",
    "            y_hat=self.sigmoid(X_train @ self.W)\n",
    "            self.W -= self.lr * (X_train.T @ (y_hat - y_train) / y_train.shape[0])\n",
    "            if i %100 ==0:\n",
    "                print(i,self.loss(y_train,y_hat))\n",
    "                \n",
    "    def predict(self,X_test):\n",
    "        y_pred=self.sigmoid(X_test @ self.W)>0.5\n",
    "        return y_pred.astype('int')"
   ]
  },
  {
   "cell_type": "code",
   "execution_count": 307,
   "metadata": {
    "scrolled": true
   },
   "outputs": [
    {
     "name": "stdout",
     "output_type": "stream",
     "text": [
      "0 0.656998734976901\n",
      "100 0.5713823051272089\n",
      "200 0.569312030345533\n",
      "300 0.5688399303241818\n",
      "400 0.5686032337857182\n",
      "500 0.5684460813783249\n",
      "600 0.5683343785838477\n",
      "700 0.5682537274781887\n",
      "800 0.5681952639129977\n",
      "900 0.568152835221936\n",
      "1000 0.5681220321959587\n",
      "1100 0.5680996665544801\n",
      "1200 0.5680834264506179\n",
      "1300 0.5680716340023159\n",
      "1400 0.5680630710604959\n",
      "1500 0.5680568531482376\n",
      "1600 0.568052338037861\n",
      "1700 0.5680490593944897\n",
      "1800 0.5680466786000744\n",
      "1900 0.5680449497736619\n",
      "2000 0.5680436943725287\n",
      "2100 0.5680427827498437\n",
      "2200 0.5680421207634613\n",
      "2300 0.5680416400523471\n",
      "2400 0.5680412909760947\n",
      "2500 0.5680410374881253\n",
      "2600 0.5680408534129645\n",
      "2700 0.5680407197430384\n",
      "2800 0.5680406226757668\n",
      "2900 0.568040552188212\n",
      "3000 0.5680405010020572\n",
      "3100 0.5680404638320237\n",
      "3200 0.5680404368401077\n",
      "3300 0.5680404172392644\n",
      "3400 0.5680404030056222\n",
      "3500 0.5680403926695026\n",
      "3600 0.5680403851636647\n",
      "3700 0.5680403797131064\n",
      "3800 0.5680403757550413\n",
      "3900 0.5680403728807886\n",
      "4000 0.5680403707935735\n",
      "4100 0.5680403692778874\n",
      "4200 0.5680403681772312\n",
      "4300 0.5680403673779605\n",
      "4400 0.5680403667975484\n",
      "4500 0.5680403663760666\n",
      "4600 0.5680403660699963\n",
      "4700 0.568040365847735\n",
      "4800 0.5680403656863342\n",
      "4900 0.5680403655691282\n"
     ]
    }
   ],
   "source": [
    "model=LogisticRegression(0.25)\n",
    "model.fit(X_train,y_train)\n",
    "y_pred=model.predict(X_test)"
   ]
  },
  {
   "cell_type": "code",
   "execution_count": 304,
   "metadata": {},
   "outputs": [
    {
     "data": {
      "text/plain": [
       "[(True, 28732), (False, 12913)]"
      ]
     },
     "execution_count": 304,
     "metadata": {},
     "output_type": "execute_result"
    }
   ],
   "source": [
    "Counter(y_pred == y_test).most_common()"
   ]
  },
  {
   "cell_type": "markdown",
   "metadata": {},
   "source": [
    "# Part II-1"
   ]
  },
  {
   "cell_type": "code",
   "execution_count": 308,
   "metadata": {},
   "outputs": [],
   "source": [
    "import numpy as np"
   ]
  },
  {
   "cell_type": "code",
   "execution_count": 319,
   "metadata": {},
   "outputs": [],
   "source": [
    "ratings=np.loadtxt(\"./data/ml-1m/ratings.dat\",delimiter=\"::\",dtype=int)"
   ]
  },
  {
   "cell_type": "code",
   "execution_count": 320,
   "metadata": {},
   "outputs": [
    {
     "data": {
      "text/plain": [
       "array([[        1,      1193,         5, 978300760],\n",
       "       [        1,       661,         3, 978302109],\n",
       "       [        1,       914,         3, 978301968],\n",
       "       ...,\n",
       "       [     6040,       562,         5, 956704746],\n",
       "       [     6040,      1096,         4, 956715648],\n",
       "       [     6040,      1097,         4, 956715569]])"
      ]
     },
     "execution_count": 320,
     "metadata": {},
     "output_type": "execute_result"
    }
   ],
   "source": [
    "ratings"
   ]
  },
  {
   "cell_type": "code",
   "execution_count": 342,
   "metadata": {},
   "outputs": [],
   "source": [
    "data=np.zeros((6040,3952))"
   ]
  },
  {
   "cell_type": "code",
   "execution_count": 343,
   "metadata": {},
   "outputs": [],
   "source": [
    "for r in ratings:\n",
    "    data[r[0]-1,r[1]-1]=r[2]"
   ]
  },
  {
   "cell_type": "code",
   "execution_count": 340,
   "metadata": {},
   "outputs": [
    {
     "data": {
      "text/plain": [
       "array([[0., 0., 0., ..., 0., 0., 0.],\n",
       "       [0., 5., 0., ..., 0., 0., 0.],\n",
       "       [0., 0., 0., ..., 0., 0., 0.],\n",
       "       ...,\n",
       "       [0., 0., 0., ..., 0., 0., 0.],\n",
       "       [0., 0., 0., ..., 0., 0., 0.],\n",
       "       [0., 3., 0., ..., 0., 0., 0.]])"
      ]
     },
     "execution_count": 340,
     "metadata": {},
     "output_type": "execute_result"
    }
   ],
   "source": [
    "data"
   ]
  },
  {
   "cell_type": "code",
   "execution_count": null,
   "metadata": {},
   "outputs": [],
   "source": [
    "data[]"
   ]
  }
 ],
 "metadata": {
  "kernelspec": {
   "display_name": "Python 3",
   "language": "python",
   "name": "python3"
  },
  "language_info": {
   "codemirror_mode": {
    "name": "ipython",
    "version": 3
   },
   "file_extension": ".py",
   "mimetype": "text/x-python",
   "name": "python",
   "nbconvert_exporter": "python",
   "pygments_lexer": "ipython3",
   "version": "3.7.1"
  }
 },
 "nbformat": 4,
 "nbformat_minor": 2
}
