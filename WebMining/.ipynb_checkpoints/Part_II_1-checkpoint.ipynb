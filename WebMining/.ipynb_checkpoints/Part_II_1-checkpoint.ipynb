{
 "cells": [
  {
   "cell_type": "markdown",
   "metadata": {},
   "source": [
    "# Part II-1"
   ]
  },
  {
   "cell_type": "code",
   "execution_count": 2,
   "metadata": {},
   "outputs": [],
   "source": [
    "import numpy as np"
   ]
  },
  {
   "cell_type": "code",
   "execution_count": 3,
   "metadata": {},
   "outputs": [],
   "source": [
    "ratings=np.loadtxt(\"./data/ml-1m/ratings.dat\",delimiter=\"::\",dtype=int)"
   ]
  },
  {
   "cell_type": "code",
   "execution_count": 4,
   "metadata": {},
   "outputs": [],
   "source": [
    "user_num=6040\n",
    "movie_num=3952\n",
    "rating_matrix=np.zeros((6040+1,3952+1))\n",
    "for r in ratings:\n",
    "    rating_matrix[r[0],r[1]]=r[2] #rating_matrix[userID,movieID]"
   ]
  },
  {
   "cell_type": "code",
   "execution_count": 5,
   "metadata": {},
   "outputs": [
    {
     "name": "stdout",
     "output_type": "stream",
     "text": [
      "(6041, 3953) (604, 395) (6041, 3953)\n"
     ]
    }
   ],
   "source": [
    "# 分割为train & test\n",
    "train_matrix=rating_matrix.copy()\n",
    "test_user_size=rating_matrix.shape[0]//10\n",
    "test_movie_size=rating_matrix.shape[1]//10\n",
    "\n",
    "train_matrix[:test_user_size,:test_movie_size]=0\n",
    "\n",
    "test_matrix=rating_matrix[:test_user_size,:test_movie_size].copy()\n",
    "\n",
    "print(train_matrix.shape,test_matrix.shape,rating_matrix.shape)"
   ]
  },
  {
   "cell_type": "markdown",
   "metadata": {},
   "source": [
    "## Content-Based"
   ]
  },
  {
   "cell_type": "code",
   "execution_count": 6,
   "metadata": {
    "scrolled": true
   },
   "outputs": [
    {
     "name": "stdout",
     "output_type": "stream",
     "text": [
      "0\n",
      "100\n",
      "200\n",
      "300\n",
      "400\n",
      "500\n",
      "600\n"
     ]
    }
   ],
   "source": [
    "#需要用到上面的数据\n",
    "user_profile=np.zeros((test_user_size,user_num+1))\n",
    "for i in range(test_user_size):\n",
    "    user_profile[i]=np.sum(train_matrix*train_matrix[i],axis=1)\n",
    "    if i%100==0:\n",
    "        print(i)"
   ]
  },
  {
   "cell_type": "code",
   "execution_count": 7,
   "metadata": {},
   "outputs": [],
   "source": [
    "cb_pred=np.zeros((test_user_size,test_movie_size))\n",
    "for i in range(1,test_user_size):\n",
    "    for j in range(1,test_movie_size):\n",
    "        norm=np.linalg.norm(train_matrix[:,j])*np.linalg.norm(user_profile[i])\n",
    "        if norm == 0:\n",
    "            cb_pred[i,j]=0\n",
    "        else:\n",
    "            cb_pred[i,j]=((train_matrix[:,j]@user_profile[i])/(norm))*5"
   ]
  },
  {
   "cell_type": "code",
   "execution_count": 149,
   "metadata": {},
   "outputs": [],
   "source": [
    "#result_matrix=np.zeros((test_user_size,test_movie_size))\n",
    "#result_matrix2=np.zeros((test_user_size,test_movie_size))\n",
    "#for i in range(test_user_size):\n",
    "#    for j in range(test_movie_size):\n",
    "#        if test_matrix[i,j]!=0:\n",
    "#            result_matrix[i,j]=cb_pred[i,j]-test_matrix[i,j]\n",
    "\n",
    "result_matrix2=cb_pred.copy()\n",
    "result_matrix2[test_matrix==0]=0\n",
    "result_matrix=result_matrix2-test_matrix"
   ]
  },
  {
   "cell_type": "markdown",
   "metadata": {},
   "source": [
    "$$\n",
    "RMSE=\\sqrt{\\frac{1}{n}\\sum_{j=1}^n (y_j-\\bar{y}_j)^2}\n",
    "$$"
   ]
  },
  {
   "cell_type": "code",
   "execution_count": 150,
   "metadata": {
    "scrolled": false
   },
   "outputs": [
    {
     "data": {
      "text/plain": [
       "0.016676901400536383"
      ]
     },
     "execution_count": 150,
     "metadata": {},
     "output_type": "execute_result"
    }
   ],
   "source": [
    "#RMSE\n",
    "np.linalg.norm(result_matrix)/np.count_nonzero(test_matrix)"
   ]
  },
  {
   "cell_type": "markdown",
   "metadata": {},
   "source": [
    "$$\n",
    "MAE=\\frac{1}{n}\\sum_{j=1}^n|y_j-\\bar{y}_j|\n",
    "$$"
   ]
  },
  {
   "cell_type": "code",
   "execution_count": 151,
   "metadata": {},
   "outputs": [
    {
     "data": {
      "text/plain": [
       "1.4344089529739494"
      ]
     },
     "execution_count": 151,
     "metadata": {},
     "output_type": "execute_result"
    }
   ],
   "source": [
    "#MAE\n",
    "np.sum(np.absolute(result_matrix))/np.count_nonzero(test_matrix)"
   ]
  },
  {
   "cell_type": "code",
   "execution_count": 154,
   "metadata": {},
   "outputs": [
    {
     "name": "stdout",
     "output_type": "stream",
     "text": [
      "0.4870860927152318 0.49628879892037786\n"
     ]
    }
   ],
   "source": [
    "N=10 #TopN\n",
    "recommend_rate=3\n",
    "pred=np.argsort(result_matrix2,axis=1)[:,-N:]\n",
    "#truth=np.argsort(test_matrix,axis=1)[:,-N:]\n",
    "\n",
    "Total_Right=0\n",
    "index=np.arange(test_movie_size)\n",
    "for i in range(test_user_size):\n",
    "    #Total_Right+=np.intersect1d(pred[i],truth[i]).shape[0]\n",
    "    \n",
    "    Total_Right+=np.intersect1d(pred[i],index[test_matrix[i]>recommend_rate]).shape[0]\n",
    "    \n",
    "precision=Total_Right/(N*test_user_size)\n",
    "recall=Total_Right/test_matrix[test_matrix>recommend_rate].shape[0]\n",
    "\n",
    "print(precision,recall)"
   ]
  },
  {
   "cell_type": "code",
   "execution_count": 155,
   "metadata": {},
   "outputs": [],
   "source": [
    "def Pred_of_N(N):\n",
    "    recommend_rate=3\n",
    "    pred=np.argsort(result_matrix2,axis=1)[:,-N:]\n",
    "    #truth=np.argsort(test_matrix,axis=1)[:,-N:]\n",
    "\n",
    "    Total_Right=0\n",
    "    index=np.arange(test_movie_size)\n",
    "    for i in range(test_user_size):\n",
    "        #Total_Right+=np.intersect1d(pred[i],truth[i]).shape[0]\n",
    "\n",
    "        Total_Right+=np.intersect1d(pred[i],index[test_matrix[i]>recommend_rate]).shape[0]\n",
    "\n",
    "    precision=Total_Right/(N*test_user_size)\n",
    "    recall=Total_Right/test_matrix[test_matrix>recommend_rate].shape[0]\n",
    "    \n",
    "    return precision,recall"
   ]
  },
  {
   "cell_type": "code",
   "execution_count": 156,
   "metadata": {},
   "outputs": [],
   "source": [
    "PR=[Pred_of_N(N) for N in range(1,50)]"
   ]
  },
  {
   "cell_type": "code",
   "execution_count": 174,
   "metadata": {},
   "outputs": [
    {
     "data": {
      "image/png": "[encoded data removed]",
      "text/plain": [
       "<Figure size 432x288 with 1 Axes>"
      ]
     },
     "metadata": {
      "needs_background": "light"
     },
     "output_type": "display_data"
    }
   ],
   "source": [
    "plt.figure(1)\n",
    "plt.plot(range(1,50),[i[0] for i in PR],label=\"Precision\",color=\"g\")\n",
    "plt.plot(range(1,50),[i[1] for i in PR],label=\"Recall\",color=\"r\")\n",
    "plt.plot(range(1,50),[2*(i[0]*i[1])/(i[0]+i[1]) for i in PR],label=\"F1\",color=\"y\")\n",
    "plt.title(\"Content-Based P/R/F1\")\n",
    "plt.xlabel(\"N\")\n",
    "plt.ylabel(\"Ratio\")\n",
    "plt.grid(True)\n",
    "plt.legend()\n",
    "plt.savefig(\"./graph/Content_based-PRF1_of_N.png\")\n",
    "plt.show()"
   ]
  },
  {
   "cell_type": "markdown",
   "metadata": {},
   "source": [
    "## Collaborative Filtering"
   ]
  },
  {
   "cell_type": "code",
   "execution_count": 99,
   "metadata": {},
   "outputs": [
    {
     "name": "stdout",
     "output_type": "stream",
     "text": [
      "(6041, 3953) (604, 395) (6041, 3953)\n"
     ]
    }
   ],
   "source": [
    "#需要用到上面的数据\n",
    "print(train_matrix.shape,test_matrix.shape,rating_matrix.shape)"
   ]
  },
  {
   "cell_type": "code",
   "execution_count": 104,
   "metadata": {},
   "outputs": [],
   "source": [
    "movie_sim=np.zeros((movie_num+1,movie_num+1))\n",
    "movie_bar=np.zeros(movie_num+1)"
   ]
  },
  {
   "cell_type": "code",
   "execution_count": 7,
   "metadata": {
    "scrolled": true
   },
   "outputs": [
    {
     "name": "stdout",
     "output_type": "stream",
     "text": [
      "1\n",
      "2\n",
      "3\n",
      "4\n",
      "5\n",
      "6\n",
      "7\n",
      "8\n",
      "9\n",
      "10\n",
      "11\n"
     ]
    },
    {
     "ename": "KeyboardInterrupt",
     "evalue": "",
     "output_type": "error",
     "traceback": [
      "\u001b[0;31m---------------------------------------------------------------------------\u001b[0m",
      "\u001b[0;31mKeyboardInterrupt\u001b[0m                         Traceback (most recent call last)",
      "\u001b[0;32m<ipython-input-7-6a81c3179533>\u001b[0m in \u001b[0;36m<module>\u001b[0;34m\u001b[0m\n\u001b[1;32m     20\u001b[0m         \u001b[0mrri\u001b[0m\u001b[0;34m=\u001b[0m\u001b[0mnp\u001b[0m\u001b[0;34m.\u001b[0m\u001b[0mzeros\u001b[0m\u001b[0;34m(\u001b[0m\u001b[0muser_num\u001b[0m\u001b[0;34m+\u001b[0m\u001b[0;36m1\u001b[0m\u001b[0;34m)\u001b[0m\u001b[0;34m\u001b[0m\u001b[0;34m\u001b[0m\u001b[0m\n\u001b[1;32m     21\u001b[0m         \u001b[0mrrj\u001b[0m\u001b[0;34m=\u001b[0m\u001b[0mnp\u001b[0m\u001b[0;34m.\u001b[0m\u001b[0mzeros\u001b[0m\u001b[0;34m(\u001b[0m\u001b[0muser_num\u001b[0m\u001b[0;34m+\u001b[0m\u001b[0;36m1\u001b[0m\u001b[0;34m)\u001b[0m\u001b[0;34m\u001b[0m\u001b[0;34m\u001b[0m\u001b[0m\n\u001b[0;32m---> 22\u001b[0;31m         \u001b[0mselected\u001b[0m\u001b[0;34m=\u001b[0m\u001b[0mnp\u001b[0m\u001b[0;34m.\u001b[0m\u001b[0mlogical_and\u001b[0m\u001b[0;34m(\u001b[0m\u001b[0mri\u001b[0m\u001b[0;34m,\u001b[0m\u001b[0mrj\u001b[0m\u001b[0;34m)\u001b[0m\u001b[0;34m\u001b[0m\u001b[0;34m\u001b[0m\u001b[0m\n\u001b[0m\u001b[1;32m     23\u001b[0m         \u001b[0mrri\u001b[0m\u001b[0;34m[\u001b[0m\u001b[0mselected\u001b[0m\u001b[0;34m]\u001b[0m\u001b[0;34m=\u001b[0m\u001b[0mri\u001b[0m\u001b[0;34m[\u001b[0m\u001b[0mselected\u001b[0m\u001b[0;34m]\u001b[0m\u001b[0;34m-\u001b[0m\u001b[0mmovie_bar\u001b[0m\u001b[0;34m[\u001b[0m\u001b[0mi\u001b[0m\u001b[0;34m]\u001b[0m\u001b[0;34m\u001b[0m\u001b[0;34m\u001b[0m\u001b[0m\n\u001b[1;32m     24\u001b[0m         \u001b[0mrrj\u001b[0m\u001b[0;34m[\u001b[0m\u001b[0mselected\u001b[0m\u001b[0;34m]\u001b[0m\u001b[0;34m=\u001b[0m\u001b[0mrj\u001b[0m\u001b[0;34m[\u001b[0m\u001b[0mselected\u001b[0m\u001b[0;34m]\u001b[0m\u001b[0;34m-\u001b[0m\u001b[0mmovie_bar\u001b[0m\u001b[0;34m[\u001b[0m\u001b[0mj\u001b[0m\u001b[0;34m]\u001b[0m\u001b[0;34m\u001b[0m\u001b[0;34m\u001b[0m\u001b[0m\n",
      "\u001b[0;31mKeyboardInterrupt\u001b[0m: "
     ]
    }
   ],
   "source": [
    "#无需重新运行\n",
    "#item相似性 movie[i,j]表示电影i,j的相似性\n",
    "for i in range(movie_num+1):\n",
    "    ri=train_matrix[:,i]\n",
    "    nonzero=np.count_nonzero(ri)\n",
    "    if nonzero!=0:\n",
    "        movie_bar[i]=ri.sum()/nonzero\n",
    "\n",
    "\n",
    "for i in range(1,movie_num+1):\n",
    "    print(i)\n",
    "    for j in range(1,movie_num+1):\n",
    "        if i>j:\n",
    "            movie_sim[i,j]=movie_sim[j,i]\n",
    "            continue\n",
    "        ri=train_matrix[:,i]\n",
    "        rj=train_matrix[:,j]\n",
    "        \n",
    "        rri=np.zeros(user_num+1)\n",
    "        rrj=np.zeros(user_num+1)\n",
    "        selected=np.logical_and(ri,rj)\n",
    "        rri[selected]=ri[selected]-movie_bar[i]\n",
    "        rrj[selected]=rj[selected]-movie_bar[j]\n",
    "        \n",
    "        norm=np.linalg.norm(rri)*np.linalg.norm(rrj)\n",
    "        if norm==0:\n",
    "            movie_sim[i,j]=0\n",
    "        else:\n",
    "            movie_sim[i,j]=(rri@rrj)/(norm)\n",
    "\n",
    "np.save(\"./data/ml-1m/movie_sim.npy\",movie_sim)"
   ]
  },
  {
   "cell_type": "code",
   "execution_count": 105,
   "metadata": {},
   "outputs": [],
   "source": [
    "movie_sim=np.load(\"./data/ml-1m/movie_sim.npy\")\n",
    "user_bar=np.zeros(user_num+1)\n",
    "for i in range(user_num+1):\n",
    "    ri=train_matrix[i]\n",
    "    nonzero=np.count_nonzero(ri)\n",
    "    if nonzero!=0:\n",
    "        user_bar[i]=ri.sum()/nonzero"
   ]
  },
  {
   "cell_type": "code",
   "execution_count": 106,
   "metadata": {},
   "outputs": [],
   "source": [
    "miu=train_matrix.sum()/np.count_nonzero(train_matrix)\n",
    "bxi=user_bar.reshape(user_num+1,1)+movie_bar-miu"
   ]
  },
  {
   "cell_type": "code",
   "execution_count": 108,
   "metadata": {
    "scrolled": true
   },
   "outputs": [
    {
     "name": "stdout",
     "output_type": "stream",
     "text": [
      "100\n",
      "200\n",
      "300\n",
      "400\n",
      "500\n",
      "600\n"
     ]
    }
   ],
   "source": [
    "k=5\n",
    "cf_pred=np.zeros((test_user_size,test_movie_size))\n",
    "\n",
    "for x in range(1,test_user_size):\n",
    "    if x%100==0:\n",
    "        print(x)\n",
    "    for i in range(1,test_movie_size):\n",
    "        index=np.arange(movie_num+1)[train_matrix[x].astype(\"bool\")]\n",
    "        Nix=index[np.argsort(movie_sim[i,train_matrix[x].astype(\"bool\")])[-k:]]\n",
    "        \n",
    "        sumij=movie_sim[i,Nix].sum()\n",
    "        if sumij!=0:\n",
    "            cf_pred[x,i]=bxi[x,i]+(movie_sim[i,Nix]@(train_matrix[x,Nix]-bxi[x,Nix]))/sumij"
   ]
  },
  {
   "cell_type": "code",
   "execution_count": 164,
   "metadata": {},
   "outputs": [],
   "source": [
    "#result_matrix=np.zeros((test_user_size,test_movie_size))\n",
    "#for i in range(test_user_size):\n",
    "#    for j in range(test_movie_size):\n",
    "#        if test_matrix[i,j]!=0:\n",
    "#            result_matrix[i,j]=cf_pred[i,j]-test_matrix[i,j]\n",
    "result_matrix2=cf_pred.copy()\n",
    "result_matrix2[test_matrix==0]=0\n",
    "result_matrix=result_matrix2-test_matrix"
   ]
  },
  {
   "cell_type": "code",
   "execution_count": 165,
   "metadata": {},
   "outputs": [
    {
     "data": {
      "text/plain": [
       "0.010776504401721263"
      ]
     },
     "execution_count": 165,
     "metadata": {},
     "output_type": "execute_result"
    }
   ],
   "source": [
    "#RMSE\n",
    "np.linalg.norm(result_matrix)/np.count_nonzero(test_matrix)"
   ]
  },
  {
   "cell_type": "code",
   "execution_count": 166,
   "metadata": {},
   "outputs": [
    {
     "data": {
      "text/plain": [
       "0.8694166710904666"
      ]
     },
     "execution_count": 166,
     "metadata": {},
     "output_type": "execute_result"
    }
   ],
   "source": [
    "#MAE\n",
    "np.sum(np.absolute(result_matrix))/np.count_nonzero(test_matrix)"
   ]
  },
  {
   "cell_type": "code",
   "execution_count": 167,
   "metadata": {},
   "outputs": [
    {
     "name": "stdout",
     "output_type": "stream",
     "text": [
      "0.46589403973509935 0.47469635627530365\n"
     ]
    }
   ],
   "source": [
    "N=10 #TopN\n",
    "recommend_rate=3\n",
    "pred=np.argsort(result_matrix2,axis=1)[:,-N:]\n",
    "#truth=np.argsort(test_matrix,axis=1)[:,-N:]\n",
    "\n",
    "Total_Right=0\n",
    "index=np.arange(test_movie_size)\n",
    "for i in range(test_user_size):\n",
    "    #Total_Right+=np.intersect1d(pred[i],truth[i]).shape[0]\n",
    "    \n",
    "    Total_Right+=np.intersect1d(pred[i],index[test_matrix[i]>recommend_rate]).shape[0]\n",
    "    \n",
    "precision=Total_Right/(N*test_user_size)\n",
    "recall=Total_Right/test_matrix[test_matrix>recommend_rate].shape[0]\n",
    "\n",
    "print(precision,recall)"
   ]
  },
  {
   "cell_type": "code",
   "execution_count": 168,
   "metadata": {},
   "outputs": [],
   "source": [
    "def Pred_of_N(N):\n",
    "    recommend_rate=3\n",
    "    pred=np.argsort(result_matrix2,axis=1)[:,-N:]\n",
    "    #truth=np.argsort(test_matrix,axis=1)[:,-N:]\n",
    "\n",
    "    Total_Right=0\n",
    "    index=np.arange(test_movie_size)\n",
    "    for i in range(test_user_size):\n",
    "        #Total_Right+=np.intersect1d(pred[i],truth[i]).shape[0]\n",
    "\n",
    "        Total_Right+=np.intersect1d(pred[i],index[test_matrix[i]>recommend_rate]).shape[0]\n",
    "\n",
    "    precision=Total_Right/(N*test_user_size)\n",
    "    recall=Total_Right/test_matrix[test_matrix>recommend_rate].shape[0]\n",
    "    \n",
    "    return precision,recall"
   ]
  },
  {
   "cell_type": "code",
   "execution_count": 169,
   "metadata": {},
   "outputs": [],
   "source": [
    "PR=[Pred_of_N(N) for N in range(1,50)]"
   ]
  },
  {
   "cell_type": "code",
   "execution_count": 175,
   "metadata": {},
   "outputs": [
    {
     "data": {
      "image/png": "[encoded data removed]",
      "text/plain": [
       "<Figure size 432x288 with 1 Axes>"
      ]
     },
     "metadata": {
      "needs_background": "light"
     },
     "output_type": "display_data"
    }
   ],
   "source": [
    "plt.figure(1)\n",
    "plt.plot(range(1,50),[i[0] for i in PR],label=\"Precision\",color=\"g\")\n",
    "plt.plot(range(1,50),[i[1] for i in PR],label=\"Recall\",color=\"r\")\n",
    "plt.plot(range(1,50),[2*(i[0]*i[1])/(i[0]+i[1]) for i in PR],label=\"F1\",color=\"y\")\n",
    "plt.title(\"Collaborative Filtering P/R/F1\")\n",
    "plt.xlabel(\"N\")\n",
    "plt.ylabel(\"Ratio\")\n",
    "plt.grid(True)\n",
    "plt.legend()\n",
    "plt.savefig(\"./graph/Collaborative_Filter-PRF1_of_N.png\")\n",
    "plt.show()"
   ]
  },
  {
   "cell_type": "markdown",
   "metadata": {},
   "source": [
    "## Improved"
   ]
  },
  {
   "cell_type": "markdown",
   "metadata": {},
   "source": [
    "基于Collaborative Filter"
   ]
  },
  {
   "cell_type": "code",
   "execution_count": 120,
   "metadata": {},
   "outputs": [
    {
     "name": "stdout",
     "output_type": "stream",
     "text": [
      "(6041, 3953) (604, 395) (6041, 3953)\n"
     ]
    }
   ],
   "source": [
    "#需要用到最上面的数据\n",
    "print(train_matrix.shape,test_matrix.shape,rating_matrix.shape)"
   ]
  },
  {
   "cell_type": "code",
   "execution_count": 121,
   "metadata": {},
   "outputs": [],
   "source": [
    "movies=np.zeros((movie_num+1,3),dtype=\"<100U\")\n",
    "with open(\"./data/ml-1m/movies.dat\",encoding = \"ISO-8859-1\") as f:\n",
    "    line=f.readline()\n",
    "    while line:\n",
    "        temp=line.strip().split(\"::\")\n",
    "        movies[int(temp[0]),:]=temp\n",
    "        line=f.readline()"
   ]
  },
  {
   "cell_type": "code",
   "execution_count": 122,
   "metadata": {},
   "outputs": [],
   "source": [
    "users=np.zeros((user_num+1,5),dtype=\"<20U\")\n",
    "with open(\"./data/ml-1m/users.dat\",encoding = \"ISO-8859-1\") as f:\n",
    "    line=f.readline()\n",
    "    while line:\n",
    "        temp=line.strip().split(\"::\")\n",
    "        users[int(temp[0]),:]=temp\n",
    "        line=f.readline()"
   ]
  },
  {
   "cell_type": "code",
   "execution_count": 123,
   "metadata": {},
   "outputs": [],
   "source": [
    "genre={\"Action\":0,\n",
    "\"Adventure\":1,\n",
    "\"Animation\":2,\n",
    "\"Children's\":3,\n",
    "\"Comedy\":4,\n",
    "\"Crime\":5,\n",
    "\"Documentary\":6,\n",
    "\"Drama\":7,\n",
    "\"Fantasy\":8,\n",
    "\"Film-Noir\":9,\n",
    "\"Horror\":10,\n",
    "\"Musical\":11,\n",
    "\"Mystery\":12,\n",
    "\"Romance\":13,\n",
    "\"Sci-Fi\":14,\n",
    "\"Thriller\":15,\n",
    "\"War\":16,\n",
    "\"Western\":17\n",
    "      }\n",
    "\n",
    "movie_profile=np.zeros((movie_num+1,18))\n",
    "for i in range(movie_num+1):\n",
    "    temp=movies[i,2].split('|')\n",
    "    for g in temp:\n",
    "        if g in genre:\n",
    "            movie_profile[i,genre[g]]=1"
   ]
  },
  {
   "cell_type": "code",
   "execution_count": 124,
   "metadata": {},
   "outputs": [],
   "source": [
    "user_profile=np.zeros((test_user_size,18))\n",
    "for i in range(test_user_size):\n",
    "    user_profile[i]=np.sum(movie_profile.T*train_matrix[i],axis=1)"
   ]
  },
  {
   "cell_type": "code",
   "execution_count": 125,
   "metadata": {
    "scrolled": true
   },
   "outputs": [
    {
     "name": "stdout",
     "output_type": "stream",
     "text": [
      "100\n",
      "200\n",
      "300\n",
      "400\n",
      "500\n",
      "600\n"
     ]
    }
   ],
   "source": [
    "#逐渐变化alpha得到一个图\n",
    "ex_pred=np.zeros((test_user_size,test_movie_size))\n",
    "alpha=0.01\n",
    "for x in range(1,test_user_size):\n",
    "    if x%100 == 0:\n",
    "        print(x)\n",
    "    for i in range(1,test_movie_size):\n",
    "        norm=np.linalg.norm(movie_profile[i])*np.linalg.norm(user_profile[x])\n",
    "        if norm != 0:\n",
    "            ex_pred[x,i]=0\n",
    "            index=np.arange(movie_num+1)[train_matrix[x].astype(\"bool\")]\n",
    "            Nix=index[np.argsort(movie_sim[i,train_matrix[x].astype(\"bool\")])[-k:]]\n",
    "        \n",
    "            sumij=movie_sim[i,Nix].sum()\n",
    "            \n",
    "            if sumij!=0:\n",
    "                ex_pred[x,i]=bxi[x,i]+(1-alpha)*(movie_sim[i,Nix]@(train_matrix[x,Nix]-bxi[x,Nix]))/sumij+alpha*((movie_profile[i]@user_profile[x])/(norm))*5"
   ]
  },
  {
   "cell_type": "code",
   "execution_count": 137,
   "metadata": {},
   "outputs": [],
   "source": [
    "#result_matrix=np.zeros((test_user_size,test_movie_size))\n",
    "#for i in range(test_user_size):\n",
    "#    for j in range(test_movie_size):\n",
    "#        if test_matrix[i,j]!=0:\n",
    "#            result_matrix[i,j]=ex_pred[i,j]-test_matrix[i,j]\n",
    "result_matrix2=ex_pred.copy()\n",
    "result_matrix2[test_matrix==0]=0\n",
    "result_matrix=result_matrix2-test_matrix"
   ]
  },
  {
   "cell_type": "code",
   "execution_count": 138,
   "metadata": {},
   "outputs": [
    {
     "data": {
      "text/plain": [
       "0.01077113454270768"
      ]
     },
     "execution_count": 138,
     "metadata": {},
     "output_type": "execute_result"
    }
   ],
   "source": [
    "np.linalg.norm(result_matrix)/np.count_nonzero(test_matrix) "
   ]
  },
  {
   "cell_type": "code",
   "execution_count": 139,
   "metadata": {},
   "outputs": [
    {
     "data": {
      "text/plain": [
       "0.8700781457473302"
      ]
     },
     "execution_count": 139,
     "metadata": {},
     "output_type": "execute_result"
    }
   ],
   "source": [
    "np.sum(np.absolute(result_matrix))/np.count_nonzero(test_matrix)"
   ]
  },
  {
   "cell_type": "code",
   "execution_count": null,
   "metadata": {},
   "outputs": [],
   "source": [
    "# RMSE 0.010776504401721263\n",
    "# MAE 0.8694166710904666\n",
    "# P 0.46589403973509935 \n",
    "# R 0.47469635627530365"
   ]
  },
  {
   "cell_type": "code",
   "execution_count": 140,
   "metadata": {},
   "outputs": [
    {
     "name": "stdout",
     "output_type": "stream",
     "text": [
      "0.46589403973509935 0.47469635627530365\n"
     ]
    }
   ],
   "source": [
    "N=10 #TopN\n",
    "recommend_rate=3\n",
    "pred=np.argsort(result_matrix2,axis=1)[:,-N:]\n",
    "#truth=np.argsort(test_matrix,axis=1)[:,-N:]\n",
    "\n",
    "Total_Right=0\n",
    "index=np.arange(test_movie_size)\n",
    "for i in range(test_user_size):\n",
    "    #Total_Right+=np.intersect1d(pred[i],truth[i]).shape[0]\n",
    "    \n",
    "    Total_Right+=np.intersect1d(pred[i],index[test_matrix[i]>recommend_rate]).shape[0]\n",
    "    \n",
    "precision=Total_Right/(N*test_user_size)\n",
    "recall=Total_Right/test_matrix[test_matrix>recommend_rate].shape[0]\n",
    "\n",
    "print(precision,recall)"
   ]
  },
  {
   "cell_type": "code",
   "execution_count": 141,
   "metadata": {},
   "outputs": [],
   "source": [
    "#逐渐变化alpha得到一个图\n",
    "#alpha=0.01\n",
    "k=5 #表示最邻近的k个点。由于是基于Collaborative Filter\n",
    "def EX_PRED(alpha):\n",
    "    print(alpha)\n",
    "    ex_pred=np.zeros((test_user_size,test_movie_size))\n",
    "    \n",
    "    for x in range(1,test_user_size):\n",
    "        #if x%100 == 0:\n",
    "        #    print(x)\n",
    "        for i in range(1,test_movie_size):\n",
    "            norm=np.linalg.norm(movie_profile[i])*np.linalg.norm(user_profile[x])\n",
    "            if norm != 0:\n",
    "                ex_pred[x,i]=0\n",
    "                index=np.arange(movie_num+1)[train_matrix[x].astype(\"bool\")]\n",
    "                Nix=index[np.argsort(movie_sim[i,train_matrix[x].astype(\"bool\")])[-k:]]\n",
    "\n",
    "                sumij=movie_sim[i,Nix].sum()\n",
    "\n",
    "                if sumij!=0:\n",
    "                    ex_pred[x,i]=bxi[x,i]+(1-alpha)*(movie_sim[i,Nix]@(train_matrix[x,Nix]-bxi[x,Nix]))/sumij+alpha*((movie_profile[i]@user_profile[x])/(norm))*5\n",
    "            \n",
    "        \n",
    "    #result_matrix=np.zeros((test_user_size,test_movie_size))\n",
    "    #for i in range(test_user_size):\n",
    "    #    for j in range(test_movie_size):\n",
    "    #        if test_matrix[i,j]!=0:\n",
    "    #            result_matrix[i,j]=ex_pred[i,j]-test_matrix[i,j]\n",
    "    result_matrix2=ex_pred.copy()\n",
    "    result_matrix2[test_matrix==0]=0\n",
    "    result_matrix=result_matrix2-test_matrix\n",
    "    \n",
    "    RMSR=np.linalg.norm(result_matrix)/np.count_nonzero(test_matrix) \n",
    "    MAE=np.sum(np.absolute(result_matrix))/np.count_nonzero(test_matrix)\n",
    "    \n",
    "    N=10 #TopN\n",
    "    recommend_rate=3\n",
    "    pred=np.argsort(result_matrix2,axis=1)[:,-N:]\n",
    "    #truth=np.argsort(test_matrix,axis=1)[:,-N:]\n",
    "\n",
    "    Total_Right=0\n",
    "    index=np.arange(test_movie_size)\n",
    "    for i in range(test_user_size):\n",
    "        #Total_Right+=np.intersect1d(pred[i],truth[i]).shape[0]\n",
    "\n",
    "        Total_Right+=np.intersect1d(pred[i],index[test_matrix[i]>recommend_rate]).shape[0]\n",
    "\n",
    "    precision=Total_Right/(N*test_user_size)\n",
    "    recall=Total_Right/test_matrix[test_matrix>recommend_rate].shape[0]\n",
    "\n",
    "    print(RMSR,MAE,precision,recall)\n",
    "    return RMSR,MAE,precision,recall"
   ]
  },
  {
   "cell_type": "code",
   "execution_count": 142,
   "metadata": {
    "scrolled": true
   },
   "outputs": [
    {
     "name": "stdout",
     "output_type": "stream",
     "text": [
      "0.0\n",
      "0.010776504401721263 0.8694166710904666 0.46589403973509935 0.47469635627530365\n",
      "0.04\n",
      "0.010763338953771986 0.8725840254999963 0.4649006622516556 0.47368421052631576\n",
      "0.08\n",
      "0.010772366604916019 0.8766628910820653 0.4640728476821192 0.47284075573549256\n",
      "0.12\n",
      "0.010803531720279771 0.8820806097019214 0.4650662251655629 0.47385290148448045\n",
      "0.16\n",
      "0.010856643657914234 0.889127143990522 0.46572847682119206 0.474527665317139\n",
      "0.2\n",
      "0.010931382525656319 0.897864361957542 0.4632450331125828 0.47199730094466935\n",
      "0.24\n",
      "0.011027308595163925 0.9081958276263371 0.4629139072847682 0.4716599190283401\n",
      "0.28\n",
      "0.01114387474387544 0.9198594877502706 0.46274834437086093 0.47149122807017546\n",
      "0.32\n",
      "0.011280441138752085 0.9328568038885565 0.45927152317880793 0.46794871794871795\n",
      "0.36\n",
      "0.011436291303826287 0.9470172812163534 0.4586092715231788 0.4672739541160594\n",
      "0.4\n",
      "0.011610648724793633 0.9623287156682426 0.4566225165562914 0.46524966261808365\n",
      "0.44\n",
      "0.01180269322479357 0.9788478828248662 0.4543046357615894 0.46288798920377866\n",
      "0.48\n",
      "0.012011576475637196 0.9965747412474059 0.45264900662251656 0.46120107962213225\n",
      "0.52\n",
      "0.01223643616520066 1.0152776984249232 0.4498344370860927 0.4583333333333333\n",
      "0.56\n",
      "0.012476408503388993 1.0347894412463383 0.44817880794701986 0.4566464237516869\n",
      "0.6\n",
      "0.01273063889933654 1.0551281598894968 0.446523178807947 0.4549595141700405\n",
      "0.64\n",
      "0.01299829077035211 1.0762101852975272 0.44470198675496686 0.4531039136302294\n",
      "0.68\n",
      "0.013278552543082318 1.0982647523786566 0.4427152317880795 0.4510796221322537\n",
      "0.72\n",
      "0.013570642978563393 1.1212077700907912 0.4417218543046358 0.45006747638326583\n",
      "0.76\n",
      "0.013873814997588899 1.1448599259712333 0.44056291390728475 0.44888663967611336\n",
      "0.8\n",
      "0.014187358205334438 1.1691921944583734 0.43857615894039736 0.44686234817813764\n",
      "0.84\n",
      "0.014510600319389779 1.1941653223927364 0.4365894039735099 0.44483805668016196\n",
      "0.88\n",
      "0.014842907698127615 1.2197771139274343 0.43559602649006623 0.4438259109311741\n",
      "0.92\n",
      "0.015183685150998563 1.2458373624642642 0.43509933774834436 0.4433198380566802\n",
      "0.96\n",
      "0.01553237519240471 1.2724194604678776 0.4336092715231788 0.4418016194331984\n",
      "1.0\n",
      "0.01588845687894394 1.2996809305870192 0.43096026490066225 0.4391025641025641\n"
     ]
    }
   ],
   "source": [
    "# RMSE 0.010776504401721263\n",
    "# MAE 0.8694166710904666\n",
    "# P 0.46589403973509935 \n",
    "# R 0.47469635627530365\n",
    "alpha=np.linspace(0,1,26)\n",
    "result=[EX_PRED(a) for a in alpha]"
   ]
  },
  {
   "cell_type": "code",
   "execution_count": 143,
   "metadata": {
    "scrolled": true
   },
   "outputs": [
    {
     "name": "stdout",
     "output_type": "stream",
     "text": [
      "0.0\n",
      "0.010776504401721263 0.8694166710904666 0.46589403973509935 0.47469635627530365\n",
      "0.004\n",
      "0.010774190411261023 0.8696631788944515 0.4653973509933775 0.4741902834008097\n",
      "0.008\n",
      "0.010772097794818556 0.8699352444712743 0.46605960264900664 0.4748650472334683\n",
      "0.012\n",
      "0.01077022668143039 0.8702261846011298 0.46556291390728477 0.47435897435897434\n",
      "0.016\n",
      "0.010768577186559514 0.8705335918153864 0.4653973509933775 0.4741902834008097\n",
      "0.02\n",
      "0.010767149412059791 0.8708527530012982 0.4644039735099338 0.4731781376518219\n",
      "0.024\n",
      "0.010765943446144587 0.8711825119169962 0.4649006622516556 0.47368421052631576\n",
      "0.028\n",
      "0.010764959363359536 0.8715228841678525 0.4650662251655629 0.47385290148448045\n",
      "0.032\n",
      "0.01076419722455954 0.8718690581286942 0.4652317880794702 0.4740215924426451\n",
      "0.036000000000000004\n",
      "0.010763657076889949 0.8722222576211545 0.46473509933774837 0.47351551956815113\n",
      "0.04\n",
      "0.010763338953771986 0.8725840254999963 0.4649006622516556 0.47368421052631576\n",
      "0.044\n",
      "0.010763242874892413 0.8729494426390071 0.46473509933774837 0.47351551956815113\n",
      "0.048\n",
      "0.010763368846197448 0.8733184871933792 0.4644039735099338 0.4731781376518219\n",
      "0.052000000000000005\n",
      "0.010763716859890908 0.8736956215241932 0.4644039735099338 0.4731781376518219\n",
      "0.056\n",
      "0.010764286894436639 0.8740804647981694 0.4644039735099338 0.4731781376518219\n",
      "0.06\n",
      "0.010765078914565166 0.8744788140307781 0.4645695364238411 0.4733468286099865\n",
      "0.064\n",
      "0.01076609287128461 0.8748905503534047 0.4645695364238411 0.4733468286099865\n",
      "0.068\n",
      "0.010767328701895824 0.8753194115182357 0.4645695364238411 0.4733468286099865\n",
      "0.07200000000000001\n",
      "0.010768786330011774 0.8757585340388492 0.4645695364238411 0.4733468286099865\n",
      "0.076\n",
      "0.010770465665581125 0.8762041583145075 0.4639072847682119 0.4726720647773279\n",
      "0.08\n",
      "0.010772366604916019 0.8766628910820653 0.4640728476821192 0.47284075573549256\n"
     ]
    }
   ],
   "source": [
    "result2=[EX_PRED(a) for a in np.linspace(0,0.08,21)]"
   ]
  },
  {
   "cell_type": "code",
   "execution_count": 144,
   "metadata": {
    "scrolled": true
   },
   "outputs": [
    {
     "name": "stdout",
     "output_type": "stream",
     "text": [
      "0.0\n",
      "0.010776504401721263 0.8694166710904666 0.46589403973509935 0.47469635627530365\n",
      "0.002\n",
      "0.010775319743332864 0.8695346328121657 0.4653973509933775 0.4741902834008097\n",
      "0.004\n",
      "0.010774190411261023 0.8696631788944515 0.4653973509933775 0.4741902834008097\n",
      "0.006\n",
      "0.010773116422905097 0.8697965742015386 0.46605960264900664 0.4748650472334683\n",
      "0.008\n",
      "0.010772097794818556 0.8699352444712743 0.46605960264900664 0.4748650472334683\n",
      "0.01\n",
      "0.01077113454270768 0.8700781457473302 0.46589403973509935 0.47469635627530365\n",
      "0.012\n",
      "0.01077022668143039 0.8702261846011298 0.46556291390728477 0.47435897435897434\n",
      "0.014\n",
      "0.010769374224995073 0.8703788892309455 0.46605960264900664 0.4748650472334683\n",
      "0.016\n",
      "0.010768577186559514 0.8705335918153864 0.4653973509933775 0.4741902834008097\n",
      "0.018000000000000002\n",
      "0.010767835578429884 0.8706913682845759 0.4652317880794702 0.4740215924426451\n",
      "0.02\n",
      "0.010767149412059791 0.8708527530012982 0.4644039735099338 0.4731781376518219\n",
      "0.022\n",
      "0.010766518698049392 0.8710159782155086 0.4645695364238411 0.4733468286099865\n",
      "0.024\n",
      "0.010765943446144587 0.8711825119169962 0.4649006622516556 0.47368421052631576\n",
      "0.026000000000000002\n",
      "0.01076542366523624 0.8713519123640598 0.4649006622516556 0.47368421052631576\n",
      "0.028\n",
      "0.010764959363359536 0.8715228841678525 0.4650662251655629 0.47385290148448045\n",
      "0.03\n",
      "0.010764550547693314 0.8716949185917621 0.4653973509933775 0.4741902834008097\n",
      "0.032\n",
      "0.01076419722455954 0.8718690581286942 0.4652317880794702 0.4740215924426451\n",
      "0.034\n",
      "0.010763899399422818 0.872044820842819 0.4649006622516556 0.47368421052631576\n",
      "0.036000000000000004\n",
      "0.010763657076889949 0.8722222576211545 0.46473509933774837 0.47351551956815113\n",
      "0.038\n",
      "0.010763470260709597 0.8724026095702496 0.4649006622516556 0.47368421052631576\n",
      "0.04\n",
      "0.010763338953771986 0.8725840254999963 0.4649006622516556 0.47368421052631576\n"
     ]
    }
   ],
   "source": [
    "result3=[EX_PRED(a) for a in np.linspace(0,0.04,21)]"
   ]
  },
  {
   "cell_type": "code",
   "execution_count": 180,
   "metadata": {},
   "outputs": [
    {
     "data": {
      "image/png": "[encoded data removed]",
      "text/plain": [
       "<Figure size 432x288 with 9 Axes>"
      ]
     },
     "metadata": {
      "needs_background": "light"
     },
     "output_type": "display_data"
    }
   ],
   "source": [
    "import matplotlib.pyplot as plt\n",
    "%matplotlib inline\n",
    "plt.figure(1)\n",
    "plt.subplot(3,3,1)\n",
    "plt.plot(np.linspace(0,1,26),[i[0] for i in result],label=\"RMSR\",color='r')\n",
    "plt.title('RMSR')\n",
    "plt.grid(True)\n",
    "\n",
    "\n",
    "plt.subplot(3,3,2)\n",
    "plt.plot(np.linspace(0,1,26),[i[1] for i in result],label=\"MAE\",color='g')\n",
    "plt.title('MAE')\n",
    "plt.grid(True)\n",
    "\n",
    "plt.subplot(3,3,3)\n",
    "plt.plot(np.linspace(0,1,26),[i[2] for i in result],label=\"P\",color='g')\n",
    "plt.plot(np.linspace(0,1,26),[i[3] for i in result],label=\"R\",color='r')\n",
    "plt.title('P & R')\n",
    "plt.grid(True)\n",
    "\n",
    "\n",
    "plt.subplot(3,3,4)\n",
    "plt.plot(np.linspace(0,0.08,21),[i[0] for i in result2],label=\"RMSR\",color='r')\n",
    "plt.grid(True)\n",
    "\n",
    "plt.subplot(3,3,5)\n",
    "plt.plot(np.linspace(0,0.08,21),[i[1] for i in result2],label=\"MAE\",color='g')\n",
    "plt.grid(True)\n",
    "\n",
    "plt.subplot(3,3,6)\n",
    "plt.plot(np.linspace(0,0.08,21),[i[2] for i in result2],label=\"P\",color='g')\n",
    "plt.plot(np.linspace(0,0.08,21),[i[3] for i in result2],label=\"R\",color='r')\n",
    "#plt.title('P & R')\n",
    "plt.grid(True)\n",
    "\n",
    "plt.subplot(3,3,7)\n",
    "plt.plot(np.linspace(0,0.04,21),[i[0] for i in result3],label=\"RMSR\",color='r')\n",
    "plt.grid(True)\n",
    "plt.xlabel(\"alpha\")\n",
    "\n",
    "plt.subplot(3,3,8)\n",
    "plt.plot(np.linspace(0,0.04,21),[i[1] for i in result3],label=\"MAE\",color='g')\n",
    "plt.grid(True)\n",
    "plt.xlabel(\"alpha\")\n",
    "\n",
    "plt.subplot(3,3,9)\n",
    "plt.plot(np.linspace(0,0.04,21),[i[2] for i in result3],label=\"P\",color='g')\n",
    "plt.plot(np.linspace(0,0.04,21),[i[3] for i in result3],label=\"R\",color='r')\n",
    "#plt.title('P & R')\n",
    "plt.xlabel(\"alpha\")\n",
    "plt.grid(True)\n",
    "\n",
    "\n",
    "plt.subplots_adjust(top=0.92, bottom=0.08, left=0.10, right=0.95, hspace=0.25,\n",
    "                    wspace=0.35)\n",
    "plt.savefig(\"./graph/PartII-1-Extension.png\",dpi=1000)\n",
    "plt.show()"
   ]
  },
  {
   "cell_type": "markdown",
   "metadata": {},
   "source": [
    "## Extension"
   ]
  },
  {
   "cell_type": "markdown",
   "metadata": {},
   "source": [
    "[推荐系统之矩阵分解及其Python代码实现](https://www.cnblogs.com/shenxiaolin/p/8637794.html)"
   ]
  },
  {
   "cell_type": "code",
   "execution_count": 178,
   "metadata": {},
   "outputs": [
    {
     "name": "stdout",
     "output_type": "stream",
     "text": [
      "(6041, 3953) (604, 395) (6041, 3953) (3953, 18)\n"
     ]
    }
   ],
   "source": [
    "#需要用到最上面的数据\n",
    "print(train_matrix.shape,test_matrix.shape,rating_matrix.shape,movie_profile.shape)"
   ]
  },
  {
   "cell_type": "code",
   "execution_count": 188,
   "metadata": {},
   "outputs": [],
   "source": [
    "def matrix_factorization(R,P,Q,K,steps=5000,alpha=0.0002,beta=0.02):\n",
    "    Q=Q.T  # .T操作表示矩阵的转置\n",
    "    result=[]\n",
    "    for step in range(steps):\n",
    "        print(step)\n",
    "        for i in range(len(R)):\n",
    "            for j in range(len(R[i])):\n",
    "                if R[i][j]>0:\n",
    "                    eij=R[i][j]-np.dot(P[i,:],Q[:,j]) # .dot(P,Q) 表示矩阵内积\n",
    "                    for k in range(K):\n",
    "                        P[i][k]=P[i][k]+alpha*(2*eij*Q[k][j]-beta*P[i][k])\n",
    "                        Q[k][j]=Q[k][j]+alpha*(2*eij*P[i][k]-beta*Q[k][j])\n",
    "        eR=np.dot(P,Q)\n",
    "        e=0\n",
    "        for i in range(len(R)):\n",
    "            for j in range(len(R[i])):\n",
    "                if R[i][j]>0:\n",
    "                    e=e+pow(R[i][j]-np.dot(P[i,:],Q[:,j]),2)\n",
    "                    for k in range(K):\n",
    "                        e=e+(beta/2)*(pow(P[i][k],2)+pow(Q[k][j],2))\n",
    "        result.append(e)\n",
    "        if e<0.001:\n",
    "            break\n",
    "    return P,Q.T,result"
   ]
  },
  {
   "cell_type": "code",
   "execution_count": 186,
   "metadata": {},
   "outputs": [],
   "source": [
    "R=train_matrix.copy()\n",
    "K=18 #设为电影的种类\n",
    "P=np.random.rand(R.shape[0],K)\n",
    "Q=np.random.rand(R.shape[1],K)"
   ]
  },
  {
   "cell_type": "code",
   "execution_count": 191,
   "metadata": {
    "scrolled": true
   },
   "outputs": [
    {
     "name": "stdout",
     "output_type": "stream",
     "text": [
      "0\n",
      "1\n",
      "2\n",
      "3\n",
      "4\n",
      "5\n",
      "6\n",
      "7\n",
      "8\n",
      "9\n",
      "10\n",
      "11\n",
      "12\n",
      "13\n",
      "14\n",
      "15\n",
      "16\n",
      "17\n",
      "18\n",
      "19\n",
      "20\n",
      "21\n",
      "22\n",
      "23\n",
      "24\n",
      "25\n",
      "26\n",
      "27\n",
      "28\n",
      "29\n",
      "30\n",
      "31\n",
      "32\n",
      "33\n",
      "34\n",
      "35\n",
      "36\n",
      "37\n",
      "38\n",
      "39\n"
     ]
    }
   ],
   "source": [
    "nP,nQ,result=matrix_factorization(R,P,Q,K,steps=40)"
   ]
  },
  {
   "cell_type": "code",
   "execution_count": 200,
   "metadata": {},
   "outputs": [],
   "source": [
    "np.save(\"./data/ml-1m/nP.npy\",nP)\n",
    "np.save(\"./data/ml-1m/nQ.npy\",nQ)\n",
    "np.save(\"./data/ml-1m/MF_Result.npy\",result)"
   ]
  },
  {
   "cell_type": "code",
   "execution_count": 196,
   "metadata": {},
   "outputs": [
    {
     "data": {
      "image/png": "[encoded data removed]",
      "text/plain": [
       "<Figure size 432x288 with 1 Axes>"
      ]
     },
     "metadata": {
      "needs_background": "light"
     },
     "output_type": "display_data"
    }
   ],
   "source": [
    "plt.plot(range(len(result)),result,color=\"r\",linewidth=3)\n",
    "plt.title(\"Convergence Curve\")\n",
    "plt.xlabel(\"Steps\")\n",
    "plt.ylabel(\"Loss\")\n",
    "plt.grid(True)\n",
    "plt.savefig(\"./graph/Extended_Convergence_Curve.png\",dpi=1000)\n",
    "plt.show()"
   ]
  },
  {
   "cell_type": "code",
   "execution_count": 193,
   "metadata": {},
   "outputs": [],
   "source": [
    "R_MF=np.dot(nP,nQ.T)"
   ]
  },
  {
   "cell_type": "code",
   "execution_count": 194,
   "metadata": {},
   "outputs": [],
   "source": [
    "ext_pred=R_MF[:test_user_size,:test_movie_size]"
   ]
  },
  {
   "cell_type": "code",
   "execution_count": 195,
   "metadata": {},
   "outputs": [
    {
     "name": "stdout",
     "output_type": "stream",
     "text": [
      "0.009260923901617401 0.7447313937537074 0.4995033112582781 0.5089406207827261\n"
     ]
    }
   ],
   "source": [
    "# RMSE 0.010776504401721263\n",
    "# MAE 0.8694166710904666\n",
    "# P 0.46589403973509935 \n",
    "# R 0.47469635627530365\n",
    "result_matrix2=ext_pred.copy()\n",
    "result_matrix2[test_matrix==0]=0\n",
    "result_matrix=result_matrix2-test_matrix\n",
    "\n",
    "RMSE=np.linalg.norm(result_matrix)/np.count_nonzero(test_matrix) \n",
    "MAE=np.sum(np.absolute(result_matrix))/np.count_nonzero(test_matrix)\n",
    "\n",
    "N=10 #TopN\n",
    "recommend_rate=3\n",
    "pred=np.argsort(result_matrix2,axis=1)[:,-N:]\n",
    "#truth=np.argsort(test_matrix,axis=1)[:,-N:]\n",
    "\n",
    "Total_Right=0\n",
    "index=np.arange(test_movie_size)\n",
    "for i in range(test_user_size):\n",
    "    #Total_Right+=np.intersect1d(pred[i],truth[i]).shape[0]\n",
    "    \n",
    "    Total_Right+=np.intersect1d(pred[i],index[test_matrix[i]>recommend_rate]).shape[0]\n",
    "    \n",
    "precision=Total_Right/(N*test_user_size)\n",
    "recall=Total_Right/test_matrix[test_matrix>recommend_rate].shape[0]\n",
    "\n",
    "print(RMSE,MAE,precision,recall)"
   ]
  },
  {
   "cell_type": "code",
   "execution_count": 201,
   "metadata": {},
   "outputs": [
    {
     "data": {
      "text/plain": [
       "0.07213930348258699"
      ]
     },
     "execution_count": 201,
     "metadata": {},
     "output_type": "execute_result"
    }
   ],
   "source": [
    "(0.4995033112582781 -0.46589403973509935)/0.46589403973509935"
   ]
  },
  {
   "cell_type": "code",
   "execution_count": 202,
   "metadata": {},
   "outputs": [
    {
     "data": {
      "text/plain": [
       "0.07213930348258707"
      ]
     },
     "execution_count": 202,
     "metadata": {},
     "output_type": "execute_result"
    }
   ],
   "source": [
    "(0.5089406207827261-0.47469635627530365)/0.47469635627530365"
   ]
  }
 ],
 "metadata": {
  "kernelspec": {
   "display_name": "Python 3",
   "language": "python",
   "name": "python3"
  },
  "language_info": {
   "codemirror_mode": {
    "name": "ipython",
    "version": 3
   },
   "file_extension": ".py",
   "mimetype": "text/x-python",
   "name": "python",
   "nbconvert_exporter": "python",
   "pygments_lexer": "ipython3",
   "version": "3.7.1"
  }
 },
 "nbformat": 4,
 "nbformat_minor": 2
}
