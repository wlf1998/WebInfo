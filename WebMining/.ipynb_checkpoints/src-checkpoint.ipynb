{
 "cells": [
  {
   "cell_type": "markdown",
   "metadata": {},
   "source": [
    "## Preprocessing"
   ]
  },
  {
   "cell_type": "markdown",
   "metadata": {},
   "source": [
    "[Electrical Grid Stability Simulated Data Data Set ](https://archive.ics.uci.edu/ml/datasets/Electrical+Grid+Stability+Simulated+Data+)"
   ]
  },
  {
   "cell_type": "code",
   "execution_count": 154,
   "metadata": {},
   "outputs": [],
   "source": [
    "import numpy as ny\n",
    "from collections import Counter\n",
    "import matplotlib.pyplot as plt\n",
    "%matplotlib inline"
   ]
  },
  {
   "cell_type": "code",
   "execution_count": 132,
   "metadata": {},
   "outputs": [],
   "source": [
    "data=np.loadtxt(\"./data/PartI/Data_for_UCI_named.csv\",delimiter=\",\",skiprows=1,dtype=str)\n",
    "#\"tau1\",\"tau2\",\"tau3\",\"tau4\",\"p1\",\"p2\",\"p3\",\"p4\",\"g1\",\"g2\",\"g3\",\"g4\",\"stab\",\"stabf\"\n",
    "#0       1      2       3     4    5    6    7    8     9   10   11   12     13\n",
    "\n",
    "data=data[:,[0,1,2,3,5,6,7,8,9,10,11,12]].copy()\n",
    "#\"tau1\",\"tau2\",\"tau3\",\"tau4\",\"p2\",\"p3\",\"p4\",\"g1\",\"g2\",\"g3\",\"g4\",\"stab\",\n",
    "#   0     1     2      3      4    5    6    7    8    9    10   11"
   ]
  },
  {
   "cell_type": "code",
   "execution_count": 133,
   "metadata": {},
   "outputs": [],
   "source": [
    "#随机化\n",
    "np.random.shuffle(data)\n",
    "X=data[:,:11].copy().astype(\"float\")\n",
    "y=data[:,11].astype(\"float\")>0\n",
    "X=(X-X.mean(axis=0))/X.std(axis=0)\n",
    "\n",
    "np.save(\"./data/PartI/X.npy\",X)\n",
    "np.save(\"./data/PartI/y.npy\",y)"
   ]
  },
  {
   "cell_type": "markdown",
   "metadata": {},
   "source": [
    "## KNN"
   ]
  },
  {
   "cell_type": "code",
   "execution_count": 137,
   "metadata": {},
   "outputs": [
    {
     "name": "stdout",
     "output_type": "stream",
     "text": [
      "(1000, 11) (1000,) (9000, 11) (9000,)\n"
     ]
    }
   ],
   "source": [
    "X=np.load(\"./data/PartI/X.npy\")\n",
    "y=np.load(\"./data/PartI/y.npy\")\n",
    "\n",
    "test_size=X.shape[0]//10\n",
    "#分割train test 10%\n",
    "X_test=X[:test_size]\n",
    "y_test=y[:test_size]\n",
    "\n",
    "X_train=X[test_size:]\n",
    "y_train=y[test_size:]\n",
    "\n",
    "print(X_test.shape,y_test.shape,X_train.shape,y_train.shape)"
   ]
  },
  {
   "cell_type": "code",
   "execution_count": 143,
   "metadata": {},
   "outputs": [],
   "source": [
    "class KNN():\n",
    "    def __init__(self, k=5):\n",
    "        self.k = k\n",
    "\n",
    "    def predict(self, X_test, X_train, y_train):\n",
    "        y_pred=np.empty(X_test.shape[0],dtype=int)\n",
    "        for i,X in enumerate(X_test):\n",
    "            if i%100 ==0:\n",
    "                print(i)\n",
    "            y_pred[i]=np.bincount(y_train[np.argsort(np.linalg.norm(X-X_train,axis=1))[:self.k]]).argmax()\n",
    "        return y_pred"
   ]
  },
  {
   "cell_type": "code",
   "execution_count": 147,
   "metadata": {
    "scrolled": true
   },
   "outputs": [
    {
     "name": "stdout",
     "output_type": "stream",
     "text": [
      "0\n",
      "100\n",
      "200\n",
      "300\n",
      "400\n",
      "500\n",
      "600\n",
      "700\n",
      "800\n",
      "900\n"
     ]
    }
   ],
   "source": [
    "model=KNN(3)\n",
    "y_pred=model.predict(X_test[:],X_train[:],y_train)"
   ]
  },
  {
   "cell_type": "code",
   "execution_count": 148,
   "metadata": {},
   "outputs": [
    {
     "data": {
      "text/plain": [
       "[(True, 802), (False, 198)]"
      ]
     },
     "execution_count": 148,
     "metadata": {},
     "output_type": "execute_result"
    }
   ],
   "source": [
    "result=Counter(np.equal(y_pred[:],y_test[:])).most_common()\n",
    "result"
   ]
  },
  {
   "cell_type": "code",
   "execution_count": 152,
   "metadata": {
    "scrolled": true
   },
   "outputs": [
    {
     "name": "stdout",
     "output_type": "stream",
     "text": [
      "0\n",
      "100\n",
      "200\n",
      "300\n",
      "400\n",
      "500\n",
      "600\n",
      "700\n",
      "800\n",
      "900\n",
      "1 \t [(True, 831), (False, 169)]\n",
      "0\n",
      "100\n",
      "200\n",
      "300\n",
      "400\n",
      "500\n",
      "600\n",
      "700\n",
      "800\n",
      "900\n",
      "3 \t [(True, 856), (False, 144)]\n",
      "0\n",
      "100\n",
      "200\n",
      "300\n",
      "400\n",
      "500\n",
      "600\n",
      "700\n",
      "800\n",
      "900\n",
      "5 \t [(True, 854), (False, 146)]\n",
      "0\n",
      "100\n",
      "200\n",
      "300\n",
      "400\n",
      "500\n",
      "600\n",
      "700\n",
      "800\n",
      "900\n",
      "7 \t [(True, 861), (False, 139)]\n",
      "0\n",
      "100\n",
      "200\n",
      "300\n",
      "400\n",
      "500\n",
      "600\n",
      "700\n",
      "800\n",
      "900\n",
      "9 \t [(True, 870), (False, 130)]\n",
      "0\n",
      "100\n",
      "200\n",
      "300\n",
      "400\n",
      "500\n",
      "600\n",
      "700\n",
      "800\n",
      "900\n",
      "11 \t [(True, 868), (False, 132)]\n",
      "0\n",
      "100\n",
      "200\n",
      "300\n",
      "400\n",
      "500\n",
      "600\n",
      "700\n",
      "800\n",
      "900\n",
      "13 \t [(True, 876), (False, 124)]\n",
      "0\n",
      "100\n",
      "200\n",
      "300\n",
      "400\n",
      "500\n",
      "600\n",
      "700\n",
      "800\n",
      "900\n",
      "15 \t [(True, 878), (False, 122)]\n",
      "0\n",
      "100\n",
      "200\n",
      "300\n",
      "400\n",
      "500\n",
      "600\n",
      "700\n",
      "800\n",
      "900\n",
      "17 \t [(True, 874), (False, 126)]\n",
      "0\n",
      "100\n",
      "200\n",
      "300\n",
      "400\n",
      "500\n",
      "600\n",
      "700\n",
      "800\n",
      "900\n",
      "19 \t [(True, 880), (False, 120)]\n",
      "0\n",
      "100\n",
      "200\n",
      "300\n",
      "400\n",
      "500\n",
      "600\n",
      "700\n",
      "800\n",
      "900\n",
      "21 \t [(True, 875), (False, 125)]\n",
      "0\n",
      "100\n",
      "200\n",
      "300\n",
      "400\n",
      "500\n",
      "600\n",
      "700\n",
      "800\n",
      "900\n",
      "23 \t [(True, 876), (False, 124)]\n",
      "0\n",
      "100\n",
      "200\n",
      "300\n",
      "400\n",
      "500\n",
      "600\n",
      "700\n",
      "800\n",
      "900\n",
      "25 \t [(True, 876), (False, 124)]\n",
      "0\n",
      "100\n",
      "200\n",
      "300\n",
      "400\n",
      "500\n",
      "600\n",
      "700\n",
      "800\n",
      "900\n",
      "27 \t [(True, 876), (False, 124)]\n",
      "0\n",
      "100\n",
      "200\n",
      "300\n",
      "400\n",
      "500\n",
      "600\n",
      "700\n",
      "800\n",
      "900\n",
      "29 \t [(True, 880), (False, 120)]\n",
      "0\n",
      "100\n",
      "200\n",
      "300\n",
      "400\n",
      "500\n",
      "600\n",
      "700\n",
      "800\n",
      "900\n",
      "31 \t [(True, 875), (False, 125)]\n",
      "0\n",
      "100\n",
      "200\n",
      "300\n",
      "400\n",
      "500\n",
      "600\n",
      "700\n",
      "800\n",
      "900\n",
      "33 \t [(True, 879), (False, 121)]\n",
      "0\n",
      "100\n",
      "200\n",
      "300\n",
      "400\n",
      "500\n",
      "600\n",
      "700\n",
      "800\n",
      "900\n",
      "35 \t [(True, 875), (False, 125)]\n",
      "0\n",
      "100\n",
      "200\n",
      "300\n",
      "400\n",
      "500\n",
      "600\n",
      "700\n",
      "800\n",
      "900\n",
      "37 \t [(True, 876), (False, 124)]\n",
      "0\n",
      "100\n",
      "200\n",
      "300\n",
      "400\n",
      "500\n",
      "600\n",
      "700\n",
      "800\n",
      "900\n",
      "39 \t [(True, 873), (False, 127)]\n",
      "0\n",
      "100\n",
      "200\n",
      "300\n",
      "400\n",
      "500\n",
      "600\n",
      "700\n",
      "800\n",
      "900\n",
      "41 \t [(True, 868), (False, 132)]\n",
      "0\n",
      "100\n",
      "200\n",
      "300\n",
      "400\n",
      "500\n",
      "600\n",
      "700\n",
      "800\n",
      "900\n",
      "43 \t [(True, 866), (False, 134)]\n",
      "0\n",
      "100\n",
      "200\n",
      "300\n",
      "400\n",
      "500\n",
      "600\n",
      "700\n",
      "800\n",
      "900\n",
      "45 \t [(True, 862), (False, 138)]\n",
      "0\n",
      "100\n",
      "200\n",
      "300\n",
      "400\n",
      "500\n",
      "600\n",
      "700\n",
      "800\n",
      "900\n",
      "47 \t [(True, 871), (False, 129)]\n",
      "0\n",
      "100\n",
      "200\n",
      "300\n",
      "400\n",
      "500\n",
      "600\n",
      "700\n",
      "800\n",
      "900\n",
      "49 \t [(True, 864), (False, 136)]\n",
      "0\n",
      "100\n",
      "200\n",
      "300\n",
      "400\n",
      "500\n",
      "600\n",
      "700\n",
      "800\n",
      "900\n",
      "51 \t [(True, 860), (False, 140)]\n"
     ]
    }
   ],
   "source": [
    "result=[]\n",
    "for i in range(1,52,2):\n",
    "    model=KNN(i)\n",
    "    y_pred=model.predict(X_test[:],X_train[:],y_train)\n",
    "    temp_result=Counter(np.equal(y_pred[:],y_test[:])).most_common()\n",
    "    print(i,\"\\t\",temp_result)\n",
    "    result.append(temp_result)"
   ]
  },
  {
   "cell_type": "code",
   "execution_count": 171,
   "metadata": {},
   "outputs": [
    {
     "data": {
      "image/png": "[encoded data removed]",
      "text/plain": [
       "<Figure size 432x288 with 1 Axes>"
      ]
     },
     "metadata": {
      "needs_background": "light"
     },
     "output_type": "display_data"
    }
   ],
   "source": [
    "plt.figure(1)\n",
    "plt.plot(range(1,52,2),[i[0][1]/1000 for i in result],'r')\n",
    "#plt.plot(range(1,52,2),[i[1][1]for i in result],'g')\n",
    "plt.title(\"KNN Precision of K\")\n",
    "plt.ylabel(\"Precision\")\n",
    "plt.xlabel(\"K\")\n",
    "plt.grid(True)\n",
    "plt.savefig(\"./graph/PartI/KNN_Precision.png\",dpi=1000)\n",
    "plt.show()"
   ]
  },
  {
   "cell_type": "markdown",
   "metadata": {},
   "source": [
    "## Logistic Regression"
   ]
  },
  {
   "cell_type": "code",
   "execution_count": 137,
   "metadata": {},
   "outputs": [
    {
     "name": "stdout",
     "output_type": "stream",
     "text": [
      "(1000, 11) (1000,) (9000, 11) (9000,)\n"
     ]
    }
   ],
   "source": [
    "X=np.load(\"./data/PartI/X.npy\")\n",
    "y=np.load(\"./data/PartI/y.npy\")\n",
    "\n",
    "test_size=X.shape[0]//10\n",
    "#分割train test 10%\n",
    "X_test=X[:test_size]\n",
    "y_test=y[:test_size]\n",
    "\n",
    "X_train=X[test_size:]\n",
    "y_train=y[test_size:]\n",
    "\n",
    "print(X_test.shape,y_test.shape,X_train.shape,y_train.shape)"
   ]
  },
  {
   "cell_type": "code",
   "execution_count": 167,
   "metadata": {},
   "outputs": [],
   "source": [
    "LOSS=[]\n",
    "class LogisticRegression():\n",
    "    def __init__(self,lr=0.1):\n",
    "        self.lr=lr\n",
    "        \n",
    "    def sigmoid(self,Z):\n",
    "        return 1/(1+np.exp(-Z))\n",
    "    \n",
    "    def loss(self,y,y_hat):\n",
    "        return -np.mean(y * np.log(y_hat)+(1-y)*np.log(1-y_hat))\n",
    "    \n",
    "    def fit(self,X_train,y_train,epochs=5000):\n",
    "        limit=1/math.sqrt(X_train.shape[1])\n",
    "        self.W=np.random.uniform(-limit,limit,(X_train.shape[1],))\n",
    "        \n",
    "        for i in range(epochs):\n",
    "            y_hat=self.sigmoid(X_train @ self.W)\n",
    "            self.W -= self.lr * (X_train.T @ (y_hat - y_train) / y_train.shape[0])\n",
    "            temp_loss=self.loss(y_train,y_hat)\n",
    "            LOSS.append((i,temp_loss))\n",
    "            if i %100 ==0:\n",
    "                print(i,temp_loss)\n",
    "                \n",
    "    def predict(self,X_test):\n",
    "        y_pred=self.sigmoid(X_test @ self.W)>0.5\n",
    "        return y_pred.astype('bool')"
   ]
  },
  {
   "cell_type": "code",
   "execution_count": 168,
   "metadata": {
    "scrolled": true
   },
   "outputs": [
    {
     "name": "stdout",
     "output_type": "stream",
     "text": [
      "0 0.7591379852744624\n",
      "100 0.45900001355575204\n",
      "200 0.4575137570672679\n",
      "300 0.4574620064510612\n",
      "400 0.45745987452653064\n",
      "500 0.4574597839064089\n",
      "600 0.457459780029938\n",
      "700 0.4574597798638962\n",
      "800 0.4574597798567822\n",
      "900 0.45745977985647734\n",
      "1000 0.4574597798564643\n",
      "1100 0.4574597798564637\n",
      "1200 0.4574597798564637\n",
      "1300 0.4574597798564637\n",
      "1400 0.4574597798564637\n",
      "1500 0.4574597798564637\n",
      "1600 0.4574597798564638\n",
      "1700 0.4574597798564638\n",
      "1800 0.4574597798564637\n",
      "1900 0.4574597798564638\n",
      "2000 0.4574597798564637\n",
      "2100 0.4574597798564638\n",
      "2200 0.4574597798564638\n",
      "2300 0.4574597798564638\n",
      "2400 0.4574597798564638\n",
      "2500 0.4574597798564638\n",
      "2600 0.4574597798564638\n",
      "2700 0.4574597798564638\n",
      "2800 0.4574597798564638\n",
      "2900 0.4574597798564638\n",
      "3000 0.4574597798564638\n",
      "3100 0.4574597798564638\n",
      "3200 0.4574597798564638\n",
      "3300 0.4574597798564638\n",
      "3400 0.4574597798564638\n",
      "3500 0.4574597798564638\n",
      "3600 0.4574597798564638\n",
      "3700 0.4574597798564638\n",
      "3800 0.4574597798564638\n",
      "3900 0.4574597798564638\n",
      "4000 0.4574597798564638\n",
      "4100 0.4574597798564638\n",
      "4200 0.4574597798564638\n",
      "4300 0.4574597798564638\n",
      "4400 0.4574597798564638\n",
      "4500 0.4574597798564638\n",
      "4600 0.4574597798564638\n",
      "4700 0.4574597798564638\n",
      "4800 0.4574597798564638\n",
      "4900 0.4574597798564638\n"
     ]
    }
   ],
   "source": [
    "model=LogisticRegression(0.25)\n",
    "model.fit(X_train,y_train,5000)\n",
    "y_pred=model.predict(X_test)"
   ]
  },
  {
   "cell_type": "code",
   "execution_count": 169,
   "metadata": {},
   "outputs": [
    {
     "data": {
      "text/plain": [
       "[(True, 762), (False, 238)]"
      ]
     },
     "execution_count": 169,
     "metadata": {},
     "output_type": "execute_result"
    }
   ],
   "source": [
    "Counter(y_pred == y_test).most_common()"
   ]
  },
  {
   "cell_type": "code",
   "execution_count": 170,
   "metadata": {},
   "outputs": [
    {
     "data": {
      "image/png": "[encoded data removed]",
      "text/plain": [
       "<Figure size 432x288 with 1 Axes>"
      ]
     },
     "metadata": {
      "needs_background": "light"
     },
     "output_type": "display_data"
    }
   ],
   "source": [
    "plt.figure(1)\n",
    "plt.plot([i[0] for i in LOSS],[i[1] for i in LOSS],'r')\n",
    "plt.title(\"Logistic Regression Loss\")\n",
    "plt.grid(True)\n",
    "plt.ylabel(\"Loss\")\n",
    "plt.xlabel(\"Epoches\")\n",
    "plt.savefig(\"./graph/PartI/LR.png\",dpi=1000)\n",
    "plt.show()"
   ]
  }
 ],
 "metadata": {
  "kernelspec": {
   "display_name": "Python 3",
   "language": "python",
   "name": "python3"
  },
  "language_info": {
   "codemirror_mode": {
    "name": "ipython",
    "version": 3
   },
   "file_extension": ".py",
   "mimetype": "text/x-python",
   "name": "python",
   "nbconvert_exporter": "python",
   "pygments_lexer": "ipython3",
   "version": "3.7.1"
  }
 },
 "nbformat": 4,
 "nbformat_minor": 2
}
